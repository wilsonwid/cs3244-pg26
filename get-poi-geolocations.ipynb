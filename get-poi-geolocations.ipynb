{
 "cells": [
  {
   "cell_type": "code",
   "execution_count": 1,
   "id": "0bc823fa",
   "metadata": {
    "scrolled": false
   },
   "outputs": [
    {
     "data": {
      "text/html": [
       "<style>.container { width:90% !important; }</style>"
      ],
      "text/plain": [
       "<IPython.core.display.HTML object>"
      ]
     },
     "metadata": {},
     "output_type": "display_data"
    }
   ],
   "source": [
    "from IPython.core.display import display, HTML\n",
    "display(HTML(\"<style>.container { width:90% !important; }</style>\"))"
   ]
  },
  {
   "cell_type": "markdown",
   "id": "0d61d158",
   "metadata": {},
   "source": [
    "### Load Libraries"
   ]
  },
  {
   "cell_type": "code",
   "execution_count": 2,
   "id": "4f11ba6d",
   "metadata": {
    "scrolled": false
   },
   "outputs": [
    {
     "name": "stderr",
     "output_type": "stream",
     "text": [
      "C:\\Users\\Hari\\anaconda3\\envs\\realestate\\lib\\site-packages\\geopandas\\_compat.py:110: UserWarning: The Shapely GEOS version (3.9.1-CAPI-1.14.2) is incompatible with the GEOS version PyGEOS was compiled with (3.10.1-CAPI-1.16.0). Conversions between both will be slow.\n",
      "  shapely_geos_version, geos_capi_version_string\n"
     ]
    }
   ],
   "source": [
    "import os\n",
    "import time\n",
    "import json\n",
    "import pickle\n",
    "import requests\n",
    "import numpy as np\n",
    "import pandas as pd\n",
    "import geopandas as gpd\n",
    "from copy import deepcopy\n",
    "import googlemaps"
   ]
  },
  {
   "cell_type": "markdown",
   "id": "6ec34172",
   "metadata": {},
   "source": [
    "### Set Data Dir"
   ]
  },
  {
   "cell_type": "code",
   "execution_count": 3,
   "id": "b7e9da35",
   "metadata": {},
   "outputs": [],
   "source": [
    "DATA_DIR_RAW = 'C:/Users/Hari/Desktop/CS3244/cs3244-pg26/data_raw'\n",
    "DATA_DIR_PROCESSED = 'C:/Users/Hari/Desktop/CS3244/cs3244-pg26/data_processed'"
   ]
  },
  {
   "cell_type": "markdown",
   "id": "a7aca5c9",
   "metadata": {},
   "source": [
    "### OneMap API"
   ]
  },
  {
   "cell_type": "code",
   "execution_count": 4,
   "id": "1a19640d",
   "metadata": {},
   "outputs": [],
   "source": [
    "USER_AGENT = 'Mozilla/5.0 (Windows NT 10.0; Win64; x64) AppleWebKit/537.36 (KHTML, like Gecko) Chrome/105.0.0.0 Safari/537.36'\n",
    "\n",
    "def _headers(**kwargs):\n",
    "    return {\n",
    "        'Accept': 'text/html,application/xhtml+xml,application/xml;q=0.9,image/webp,image/apng,*/*;q=0.8',\n",
    "        'Accept-Encoding': 'gzip, deflate, br',\n",
    "        'Accept-Language': 'en-GB,en-US;q=0.9,en;q=0.8',\n",
    "        'Connection': 'keep-alive',\n",
    "        'Upgrade-Insecure-Requests': '1',\n",
    "        'User-Agent': USER_AGENT,\n",
    "        **kwargs\n",
    "    }\n",
    "\n",
    "\n",
    "\n",
    "class OneMapToken(object):\n",
    "    def __init__(self, email, password, token_file):\n",
    "        self.email = email\n",
    "        self.password = password\n",
    "        self.token_file = token_file\n",
    "        self._token = None\n",
    "    \n",
    "    def pause(self):\n",
    "        time.sleep(5)\n",
    "\n",
    "    def courtesy_get(self, url):\n",
    "        self.pause()\n",
    "        return requests.get(url, timeout=30, headers=_headers())\n",
    "    \n",
    "    def _requestToken(self):\n",
    "        url = 'https://developers.onemap.sg/privateapi/auth/post/getToken'\n",
    "        data = {'email': self.email, 'password': self.password}\n",
    "        return requests.post(url, headers=_headers(), json=data).json()\n",
    "    \n",
    "    def _requestPublicToken(self):\n",
    "        url = 'https://developers.onemap.sg/publicapi/publicsessionid'\n",
    "        return json.loads(requests.get(url, headers=_headers()).text)\n",
    "    \n",
    "    def _readToken(self):\n",
    "        tokenFile = self.token_file\n",
    "\n",
    "        try:\n",
    "            with open(tokenFile, 'r') as f:\n",
    "                token = json.load(f)\n",
    "\n",
    "            if float(token['expiry_timestamp']) < time.time() - 10:\n",
    "                raise ValueError('expired token')\n",
    "        \n",
    "        except Exception as e:\n",
    "            token = self._requestToken()\n",
    "            #token = self._requestPublicToken()\n",
    "            with open(tokenFile, 'w+') as f:\n",
    "                json.dump(token, f)\n",
    "\n",
    "        return token\n",
    "\n",
    "    def token(self):\n",
    "        if (not self._token) or float(self._token['expiry_timestamp']) > time.time() - 10:\n",
    "            self._token = self._readToken()\n",
    "        return self._token['access_token']\n",
    "\n",
    "\n",
    "\n",
    "class OneMapSearchApi(OneMapToken):\n",
    "    def __init__(self, email, password, token_file):\n",
    "        super().__init__(email, password, token_file)\n",
    "        self._search_api_url = 'https://developers.onemap.sg/commonapi/elastic/omsearch'\n",
    "    \n",
    "    def querySearch(self, searchVal, returnGeom='Y', getAddrDetails='Y'):\n",
    "        self.pause()\n",
    "        params = {\n",
    "            'searchVal': searchVal, \n",
    "            'returnGeom': returnGeom, \n",
    "            'getAddrDetails': getAddrDetails\n",
    "        }\n",
    "        url = f\"{self._search_api_url}?{'&'.join(['{}={}'.format(k, v) for k, v in params.items()])}\"\n",
    "        results = self.courtesy_get(url).json()\n",
    "        return results\n",
    "\n",
    "\n",
    "\n",
    "class OneMapSchoolApi(OneMapToken):\n",
    "    def __init__(self, email, password, token_file):\n",
    "        super().__init__(email, password, token_file)\n",
    "        self._school_layer_url = 'https://developers.onemap.sg/publicapi/schooldataAPI/getschoollayer'\n",
    "        self._schools_url = 'https://developers.onemap.sg/publicapi/schooldataAPI/retrieveAllSchools'\n",
    "\n",
    "    def querySchoolDistanceLayer(self, school_name):\n",
    "        self.pause()\n",
    "        params = {\n",
    "            'token': self.token(),\n",
    "            'schoollayer': school_name\n",
    "        }\n",
    "        url = f\"{self._school_layer_url}?{'&'.join(['{}={}'.format(k, v) for k, v in params.items()])}\"\n",
    "        results = self.courtesy_get(url).json()\n",
    "        return results\n",
    "        \n",
    "    def querySchools(self):\n",
    "        self.pause()\n",
    "        params = {\n",
    "            'token': self.token()\n",
    "        }\n",
    "        url = f\"{self._schools_url}?{'&'.join(['{}={}'.format(k, v) for k, v in params.items()])}\"\n",
    "        results = self.courtesy_get(url).json()\n",
    "        return results\n",
    "\n",
    "\n",
    "\n",
    "class OneMapThemeApi(OneMapToken):\n",
    "    def __init__(self, email, password, token_file):\n",
    "        super().__init__(email, password, token_file)\n",
    "        self._theme_layer_url = 'https://developers.onemap.sg/publicapi/themeapi/retrieveTheme'\n",
    "    \n",
    "    def queryThemeLayer(self, queryName):\n",
    "        self.pause()\n",
    "        params = {\n",
    "            'token': self.token(), \n",
    "            'queryName': queryName\n",
    "        }\n",
    "        url = f\"{self._theme_layer_url}?{'&'.join(['{}={}'.format(k, v) for k, v in params.items()])}\"\n",
    "        results = self.courtesy_get(url).json()\n",
    "        return results\n",
    "\n",
    "\n",
    "\n",
    "class OneMapEssentialServiceApi(OneMapToken):\n",
    "    def __init__(self, email, password, token_file):\n",
    "        super().__init__(email, password, token_file)\n",
    "        self._essential_svc_url = 'https://developers.onemap.sg/publicapi/essentialsvc'\n",
    "    \n",
    "    def queryEssentialService(self, service):\n",
    "        self.pause()\n",
    "        params = {\n",
    "            'lat': 0, \n",
    "            'lng': 0, \n",
    "            'token': self.token()\n",
    "        }\n",
    "        url = f\"{self._essential_svc_url}/{service}?{'&'.join(['{}={}'.format(k, v) for k, v in params.items()])}\"\n",
    "        results = self.courtesy_get(url).json()\n",
    "        return results"
   ]
  },
  {
   "cell_type": "markdown",
   "id": "64f6830e",
   "metadata": {},
   "source": [
    "### Set Auth Variables"
   ]
  },
  {
   "cell_type": "code",
   "execution_count": 5,
   "id": "4105f243",
   "metadata": {},
   "outputs": [],
   "source": [
    "EMAIL = ''\n",
    "PASSWORD = ''\n",
    "TOKEN_FILE = ''"
   ]
  },
  {
   "cell_type": "markdown",
   "id": "f33d3a7c",
   "metadata": {},
   "source": [
    "### Retrieve Primary Schools"
   ]
  },
  {
   "cell_type": "code",
   "execution_count": 6,
   "id": "37959fb7",
   "metadata": {},
   "outputs": [
    {
     "data": {
      "text/plain": [
       "<__main__.OneMapSchoolApi at 0x16dc50fde48>"
      ]
     },
     "execution_count": 6,
     "metadata": {},
     "output_type": "execute_result"
    }
   ],
   "source": [
    "om_sch = OneMapSchoolApi(EMAIL, PASSWORD, TOKEN_FILE)\n",
    "om_sch"
   ]
  },
  {
   "cell_type": "code",
   "execution_count": null,
   "id": "d5ac0cd4",
   "metadata": {},
   "outputs": [],
   "source": [
    "res = om_sch.querySchools()\n",
    "res"
   ]
  },
  {
   "cell_type": "code",
   "execution_count": 8,
   "id": "d7157f20",
   "metadata": {},
   "outputs": [
    {
     "name": "stdout",
     "output_type": "stream",
     "text": [
      "(181, 15) \n",
      " Index(['SCHOOLNAME', 'SCH_HSE_BLK_NUM', 'HSE_BLK_NUM', 'SCH_POSTAL_CODE',\n",
      "       'POSTAL_CODE', 'SCH_ROAD_NAME', 'ROAD_NAME', 'HYPERLINK', 'MOREINFO',\n",
      "       'SCH_Y_ADDR', 'SCH_X_ADDR', 'LATITUDE', 'LONGITUDE', 'GEOMETRY',\n",
      "       'SCH_TEXT'],\n",
      "      dtype='object')\n"
     ]
    },
    {
     "data": {
      "text/html": [
       "<div>\n",
       "<style scoped>\n",
       "    .dataframe tbody tr th:only-of-type {\n",
       "        vertical-align: middle;\n",
       "    }\n",
       "\n",
       "    .dataframe tbody tr th {\n",
       "        vertical-align: top;\n",
       "    }\n",
       "\n",
       "    .dataframe thead th {\n",
       "        text-align: right;\n",
       "    }\n",
       "</style>\n",
       "<table border=\"1\" class=\"dataframe\">\n",
       "  <thead>\n",
       "    <tr style=\"text-align: right;\">\n",
       "      <th></th>\n",
       "      <th>SCHOOLNAME</th>\n",
       "      <th>SCH_HSE_BLK_NUM</th>\n",
       "      <th>HSE_BLK_NUM</th>\n",
       "      <th>SCH_POSTAL_CODE</th>\n",
       "      <th>POSTAL_CODE</th>\n",
       "      <th>SCH_ROAD_NAME</th>\n",
       "      <th>ROAD_NAME</th>\n",
       "      <th>HYPERLINK</th>\n",
       "      <th>MOREINFO</th>\n",
       "      <th>SCH_Y_ADDR</th>\n",
       "      <th>SCH_X_ADDR</th>\n",
       "      <th>LATITUDE</th>\n",
       "      <th>LONGITUDE</th>\n",
       "      <th>GEOMETRY</th>\n",
       "      <th>SCH_TEXT</th>\n",
       "    </tr>\n",
       "  </thead>\n",
       "  <tbody>\n",
       "    <tr>\n",
       "      <th>0</th>\n",
       "      <td>ADMIRALTY PRIMARY SCHOOL</td>\n",
       "      <td>11</td>\n",
       "      <td>11</td>\n",
       "      <td>738907</td>\n",
       "      <td>738907</td>\n",
       "      <td>WOODLANDS CIRCLE</td>\n",
       "      <td>WOODLANDS CIRCLE</td>\n",
       "      <td></td>\n",
       "      <td>https://www.moe.gov.sg/schoolfinder</td>\n",
       "      <td>47189.878696414</td>\n",
       "      <td>24322.522067992</td>\n",
       "      <td>1.4430427398237</td>\n",
       "      <td>103.80027282363</td>\n",
       "      <td>iwxG{ipxRXm@p@UsBcGsE|AdBdFFCNCNEPAPAN@P@RDPH@@</td>\n",
       "      <td>Admiralty Pri Sch</td>\n",
       "    </tr>\n",
       "    <tr>\n",
       "      <th>1</th>\n",
       "      <td>AHMAD IBRAHIM PRIMARY SCHOOL</td>\n",
       "      <td>10</td>\n",
       "      <td>10</td>\n",
       "      <td>768643</td>\n",
       "      <td>768643</td>\n",
       "      <td>YISHUN STREET 11</td>\n",
       "      <td>YISHUN STREET 11</td>\n",
       "      <td></td>\n",
       "      <td>https://www.moe.gov.sg/schoolfinder</td>\n",
       "      <td>46161.200044157</td>\n",
       "      <td>27932.207851114</td>\n",
       "      <td>1.4337399845972</td>\n",
       "      <td>103.83270940173</td>\n",
       "      <td>}zvGy|vxRgB@kA??c@_AT?D@R?RCPCRGPGPINKNe@f@@J`...</td>\n",
       "      <td>Ahmad Ibrahim Pri Sch</td>\n",
       "    </tr>\n",
       "    <tr>\n",
       "      <th>2</th>\n",
       "      <td>AI TONG SCHOOL</td>\n",
       "      <td>100</td>\n",
       "      <td>100</td>\n",
       "      <td>579646</td>\n",
       "      <td>579646</td>\n",
       "      <td>BRIGHT HILL DRIVE</td>\n",
       "      <td>BRIGHT HILL DRIVE</td>\n",
       "      <td></td>\n",
       "      <td>https://www.moe.gov.sg/schoolfinder</td>\n",
       "      <td>38079.991263576</td>\n",
       "      <td>27956.938771506</td>\n",
       "      <td>1.3606564354832</td>\n",
       "      <td>103.83293164489</td>\n",
       "      <td>{{hG_vvxRTAhDEJCFIdAeDFMHKJKJGBCIS_EoAADABEHEH...</td>\n",
       "      <td>Ai Tong Sch</td>\n",
       "    </tr>\n",
       "  </tbody>\n",
       "</table>\n",
       "</div>"
      ],
      "text/plain": [
       "                     SCHOOLNAME SCH_HSE_BLK_NUM HSE_BLK_NUM SCH_POSTAL_CODE  \\\n",
       "0      ADMIRALTY PRIMARY SCHOOL              11          11          738907   \n",
       "1  AHMAD IBRAHIM PRIMARY SCHOOL              10          10          768643   \n",
       "2                AI TONG SCHOOL             100         100          579646   \n",
       "\n",
       "  POSTAL_CODE      SCH_ROAD_NAME          ROAD_NAME HYPERLINK  \\\n",
       "0      738907   WOODLANDS CIRCLE   WOODLANDS CIRCLE             \n",
       "1      768643   YISHUN STREET 11   YISHUN STREET 11             \n",
       "2      579646  BRIGHT HILL DRIVE  BRIGHT HILL DRIVE             \n",
       "\n",
       "                              MOREINFO       SCH_Y_ADDR       SCH_X_ADDR  \\\n",
       "0  https://www.moe.gov.sg/schoolfinder  47189.878696414  24322.522067992   \n",
       "1  https://www.moe.gov.sg/schoolfinder  46161.200044157  27932.207851114   \n",
       "2  https://www.moe.gov.sg/schoolfinder  38079.991263576  27956.938771506   \n",
       "\n",
       "          LATITUDE        LONGITUDE  \\\n",
       "0  1.4430427398237  103.80027282363   \n",
       "1  1.4337399845972  103.83270940173   \n",
       "2  1.3606564354832  103.83293164489   \n",
       "\n",
       "                                            GEOMETRY               SCH_TEXT  \n",
       "0    iwxG{ipxRXm@p@UsBcGsE|AdBdFFCNCNEPAPAN@P@RDPH@@      Admiralty Pri Sch  \n",
       "1  }zvGy|vxRgB@kA??c@_AT?D@R?RCPCRGPGPINKNe@f@@J`...  Ahmad Ibrahim Pri Sch  \n",
       "2  {{hG_vvxRTAhDEJCFIdAeDFMHKJKJGBCIS_EoAADABEHEH...            Ai Tong Sch  "
      ]
     },
     "metadata": {},
     "output_type": "display_data"
    }
   ],
   "source": [
    "schools = deepcopy(res)\n",
    "schools = pd.DataFrame(schools['SearchResults'][1:])\n",
    "\n",
    "print(schools.shape, '\\n', schools.columns)\n",
    "display(schools.head(3))"
   ]
  },
  {
   "cell_type": "code",
   "execution_count": 9,
   "id": "6d015af5",
   "metadata": {},
   "outputs": [],
   "source": [
    "schools.to_csv(f\"{DATA_DIR_RAW}/schools/sg_primary_schools_geo.csv\", encoding='utf-8-sig', index=False)"
   ]
  },
  {
   "cell_type": "code",
   "execution_count": 10,
   "id": "662f4ff9",
   "metadata": {
    "scrolled": true
   },
   "outputs": [
    {
     "name": "stdout",
     "output_type": "stream",
     "text": [
      "(181, 6) \n",
      " Index(['SCHOOLNAME', 'HSE_BLK_NUM', 'POSTAL_CODE', 'ROAD_NAME', 'LATITUDE',\n",
      "       'LONGITUDE'],\n",
      "      dtype='object')\n"
     ]
    },
    {
     "data": {
      "text/html": [
       "<div>\n",
       "<style scoped>\n",
       "    .dataframe tbody tr th:only-of-type {\n",
       "        vertical-align: middle;\n",
       "    }\n",
       "\n",
       "    .dataframe tbody tr th {\n",
       "        vertical-align: top;\n",
       "    }\n",
       "\n",
       "    .dataframe thead th {\n",
       "        text-align: right;\n",
       "    }\n",
       "</style>\n",
       "<table border=\"1\" class=\"dataframe\">\n",
       "  <thead>\n",
       "    <tr style=\"text-align: right;\">\n",
       "      <th></th>\n",
       "      <th>SCHOOLNAME</th>\n",
       "      <th>HSE_BLK_NUM</th>\n",
       "      <th>POSTAL_CODE</th>\n",
       "      <th>ROAD_NAME</th>\n",
       "      <th>LATITUDE</th>\n",
       "      <th>LONGITUDE</th>\n",
       "    </tr>\n",
       "  </thead>\n",
       "  <tbody>\n",
       "    <tr>\n",
       "      <th>0</th>\n",
       "      <td>ADMIRALTY PRIMARY SCHOOL</td>\n",
       "      <td>11</td>\n",
       "      <td>738907</td>\n",
       "      <td>WOODLANDS CIRCLE</td>\n",
       "      <td>1.4430427398237</td>\n",
       "      <td>103.80027282363</td>\n",
       "    </tr>\n",
       "    <tr>\n",
       "      <th>1</th>\n",
       "      <td>AHMAD IBRAHIM PRIMARY SCHOOL</td>\n",
       "      <td>10</td>\n",
       "      <td>768643</td>\n",
       "      <td>YISHUN STREET 11</td>\n",
       "      <td>1.4337399845972</td>\n",
       "      <td>103.83270940173</td>\n",
       "    </tr>\n",
       "    <tr>\n",
       "      <th>2</th>\n",
       "      <td>AI TONG SCHOOL</td>\n",
       "      <td>100</td>\n",
       "      <td>579646</td>\n",
       "      <td>BRIGHT HILL DRIVE</td>\n",
       "      <td>1.3606564354832</td>\n",
       "      <td>103.83293164489</td>\n",
       "    </tr>\n",
       "  </tbody>\n",
       "</table>\n",
       "</div>"
      ],
      "text/plain": [
       "                     SCHOOLNAME HSE_BLK_NUM POSTAL_CODE          ROAD_NAME  \\\n",
       "0      ADMIRALTY PRIMARY SCHOOL          11      738907   WOODLANDS CIRCLE   \n",
       "1  AHMAD IBRAHIM PRIMARY SCHOOL          10      768643   YISHUN STREET 11   \n",
       "2                AI TONG SCHOOL         100      579646  BRIGHT HILL DRIVE   \n",
       "\n",
       "          LATITUDE        LONGITUDE  \n",
       "0  1.4430427398237  103.80027282363  \n",
       "1  1.4337399845972  103.83270940173  \n",
       "2  1.3606564354832  103.83293164489  "
      ]
     },
     "metadata": {},
     "output_type": "display_data"
    }
   ],
   "source": [
    "schools.drop(['SCH_HSE_BLK_NUM', 'SCH_POSTAL_CODE', 'SCH_ROAD_NAME', 'MOREINFO', 'HYPERLINK', 'SCH_Y_ADDR', 'SCH_X_ADDR', 'GEOMETRY', 'SCH_TEXT'], axis=1, inplace=True)\n",
    "\n",
    "print(schools.shape, '\\n', schools.columns)\n",
    "display(schools.head(3))"
   ]
  },
  {
   "cell_type": "code",
   "execution_count": 11,
   "id": "03b57ae1",
   "metadata": {},
   "outputs": [],
   "source": [
    "schools.to_csv(f\"{DATA_DIR_PROCESSED}/schools/sg_primary_schools_geo.csv\", encoding='utf-8-sig', index=False)"
   ]
  },
  {
   "cell_type": "markdown",
   "id": "99a847cb",
   "metadata": {},
   "source": [
    "### Retrieve MRT Stations"
   ]
  },
  {
   "cell_type": "code",
   "execution_count": 12,
   "id": "afff5d5c",
   "metadata": {},
   "outputs": [
    {
     "name": "stdout",
     "output_type": "stream",
     "text": [
      "(193, 3) \n",
      " Index(['STN_CODE', 'MRT_STATION_ENGLISH', 'MRT_LINE_ENGLISH'], dtype='object')\n"
     ]
    },
    {
     "data": {
      "text/html": [
       "<div>\n",
       "<style scoped>\n",
       "    .dataframe tbody tr th:only-of-type {\n",
       "        vertical-align: middle;\n",
       "    }\n",
       "\n",
       "    .dataframe tbody tr th {\n",
       "        vertical-align: top;\n",
       "    }\n",
       "\n",
       "    .dataframe thead th {\n",
       "        text-align: right;\n",
       "    }\n",
       "</style>\n",
       "<table border=\"1\" class=\"dataframe\">\n",
       "  <thead>\n",
       "    <tr style=\"text-align: right;\">\n",
       "      <th></th>\n",
       "      <th>STN_CODE</th>\n",
       "      <th>MRT_STATION_ENGLISH</th>\n",
       "      <th>MRT_LINE_ENGLISH</th>\n",
       "    </tr>\n",
       "  </thead>\n",
       "  <tbody>\n",
       "    <tr>\n",
       "      <th>0</th>\n",
       "      <td>NS1</td>\n",
       "      <td>JURONG EAST</td>\n",
       "      <td>NORTH-SOUTH LINE</td>\n",
       "    </tr>\n",
       "    <tr>\n",
       "      <th>1</th>\n",
       "      <td>NS2</td>\n",
       "      <td>BUKIT BATOK</td>\n",
       "      <td>NORTH-SOUTH LINE</td>\n",
       "    </tr>\n",
       "    <tr>\n",
       "      <th>2</th>\n",
       "      <td>NS3</td>\n",
       "      <td>BUKIT GOMBAK</td>\n",
       "      <td>NORTH-SOUTH LINE</td>\n",
       "    </tr>\n",
       "  </tbody>\n",
       "</table>\n",
       "</div>"
      ],
      "text/plain": [
       "  STN_CODE MRT_STATION_ENGLISH   MRT_LINE_ENGLISH\n",
       "0      NS1         JURONG EAST  NORTH-SOUTH LINE \n",
       "1      NS2         BUKIT BATOK  NORTH-SOUTH LINE \n",
       "2      NS3        BUKIT GOMBAK  NORTH-SOUTH LINE "
      ]
     },
     "metadata": {},
     "output_type": "display_data"
    }
   ],
   "source": [
    "train_codes = pd.read_excel(f\"{DATA_DIR_RAW}/trains/train_station_codes.xls\")\n",
    "train_codes.columns = train_codes.columns.str.upper()\n",
    "train_codes.drop(['MRT_STATION_CHINESE', 'MRT_LINE_CHINESE'], axis=1, inplace=True)\n",
    "train_codes = train_codes.apply(lambda x: x.astype(str).str.upper())\n",
    "\n",
    "print(train_codes.shape, '\\n', train_codes.columns)\n",
    "display(train_codes.head(3))"
   ]
  },
  {
   "cell_type": "code",
   "execution_count": 13,
   "id": "f6c93c6b",
   "metadata": {},
   "outputs": [],
   "source": [
    "train_codes.to_csv(f\"{DATA_DIR_PROCESSED}/trains/sg_train_codes.csv\", encoding='utf-8-sig', index=False)"
   ]
  },
  {
   "cell_type": "code",
   "execution_count": 14,
   "id": "f9163bcb",
   "metadata": {
    "scrolled": true
   },
   "outputs": [
    {
     "data": {
      "text/plain": [
       "<__main__.OneMapSearchApi at 0x16dc52e59c8>"
      ]
     },
     "execution_count": 14,
     "metadata": {},
     "output_type": "execute_result"
    }
   ],
   "source": [
    "om = OneMapSearchApi(EMAIL, PASSWORD, TOKEN_FILE)\n",
    "om"
   ]
  },
  {
   "cell_type": "code",
   "execution_count": null,
   "id": "532012ce",
   "metadata": {
    "scrolled": true
   },
   "outputs": [],
   "source": [
    "trains = []\n",
    "missed_stn_codes = []\n",
    "\n",
    "for i, stn_code in enumerate(train_codes.STN_CODE):\n",
    "    print(f\"Trying station {i+1}, {stn_code}\")\n",
    "    try:\n",
    "        res = om.querySearch(stn_code)\n",
    "        trains.append(res['results'][0])\n",
    "        print(f\"{stn_code} success!\")\n",
    "        \n",
    "    except Exception as e:\n",
    "        print(e)\n",
    "        print(f\"{stn_code} failed\")\n",
    "        missed_stn_codes.append(stn_code)\n",
    "\n",
    "print(f\"Missed Station Codes: {missed_stn_codes}\")\n",
    "print(f\"Trains Extracted Successfully: {len(trains)}\")"
   ]
  },
  {
   "cell_type": "code",
   "execution_count": 16,
   "id": "64ea7ac7",
   "metadata": {},
   "outputs": [
    {
     "name": "stdout",
     "output_type": "stream",
     "text": [
      "(193, 11) \n",
      " Index(['SEARCHVAL', 'BLK_NO', 'ROAD_NAME', 'BUILDING', 'ADDRESS', 'POSTAL',\n",
      "       'X', 'Y', 'LATITUDE', 'LONGITUDE', 'LONGTITUDE'],\n",
      "      dtype='object')\n"
     ]
    },
    {
     "data": {
      "text/html": [
       "<div>\n",
       "<style scoped>\n",
       "    .dataframe tbody tr th:only-of-type {\n",
       "        vertical-align: middle;\n",
       "    }\n",
       "\n",
       "    .dataframe tbody tr th {\n",
       "        vertical-align: top;\n",
       "    }\n",
       "\n",
       "    .dataframe thead th {\n",
       "        text-align: right;\n",
       "    }\n",
       "</style>\n",
       "<table border=\"1\" class=\"dataframe\">\n",
       "  <thead>\n",
       "    <tr style=\"text-align: right;\">\n",
       "      <th></th>\n",
       "      <th>SEARCHVAL</th>\n",
       "      <th>BLK_NO</th>\n",
       "      <th>ROAD_NAME</th>\n",
       "      <th>BUILDING</th>\n",
       "      <th>ADDRESS</th>\n",
       "      <th>POSTAL</th>\n",
       "      <th>X</th>\n",
       "      <th>Y</th>\n",
       "      <th>LATITUDE</th>\n",
       "      <th>LONGITUDE</th>\n",
       "      <th>LONGTITUDE</th>\n",
       "    </tr>\n",
       "  </thead>\n",
       "  <tbody>\n",
       "    <tr>\n",
       "      <th>0</th>\n",
       "      <td>JURONG EAST MRT STATION (EW24 / NS1)</td>\n",
       "      <td>10</td>\n",
       "      <td>JURONG EAST STREET 12</td>\n",
       "      <td>JURONG EAST MRT STATION (EW24 / NS1)</td>\n",
       "      <td>10 JURONG EAST STREET 12 JURONG EAST MRT STATI...</td>\n",
       "      <td>609690</td>\n",
       "      <td>17869.0570516568</td>\n",
       "      <td>35038.9688695427</td>\n",
       "      <td>1.33315281585758</td>\n",
       "      <td>103.742286332403</td>\n",
       "      <td>103.742286332403</td>\n",
       "    </tr>\n",
       "    <tr>\n",
       "      <th>1</th>\n",
       "      <td>BUKIT BATOK MRT STATION (NS2)</td>\n",
       "      <td>10</td>\n",
       "      <td>BUKIT BATOK CENTRAL</td>\n",
       "      <td>BUKIT BATOK MRT STATION (NS2)</td>\n",
       "      <td>10 BUKIT BATOK CENTRAL BUKIT BATOK MRT STATION...</td>\n",
       "      <td>659958</td>\n",
       "      <td>18679.3223191258</td>\n",
       "      <td>36794.9260214306</td>\n",
       "      <td>1.34903331201636</td>\n",
       "      <td>103.749566478309</td>\n",
       "      <td>103.749566478309</td>\n",
       "    </tr>\n",
       "    <tr>\n",
       "      <th>2</th>\n",
       "      <td>BUKIT GOMBAK MRT STATION (NS3)</td>\n",
       "      <td>802</td>\n",
       "      <td>BUKIT BATOK WEST AVENUE 5</td>\n",
       "      <td>BUKIT GOMBAK MRT STATION (NS3)</td>\n",
       "      <td>802 BUKIT BATOK WEST AVENUE 5 BUKIT GOMBAK MRT...</td>\n",
       "      <td>659083</td>\n",
       "      <td>18926.9127006577</td>\n",
       "      <td>37854.0358848721</td>\n",
       "      <td>1.35861159094192</td>\n",
       "      <td>103.751790910733</td>\n",
       "      <td>103.751790910733</td>\n",
       "    </tr>\n",
       "  </tbody>\n",
       "</table>\n",
       "</div>"
      ],
      "text/plain": [
       "                              SEARCHVAL BLK_NO                  ROAD_NAME  \\\n",
       "0  JURONG EAST MRT STATION (EW24 / NS1)     10      JURONG EAST STREET 12   \n",
       "1         BUKIT BATOK MRT STATION (NS2)     10        BUKIT BATOK CENTRAL   \n",
       "2        BUKIT GOMBAK MRT STATION (NS3)    802  BUKIT BATOK WEST AVENUE 5   \n",
       "\n",
       "                               BUILDING  \\\n",
       "0  JURONG EAST MRT STATION (EW24 / NS1)   \n",
       "1         BUKIT BATOK MRT STATION (NS2)   \n",
       "2        BUKIT GOMBAK MRT STATION (NS3)   \n",
       "\n",
       "                                             ADDRESS  POSTAL  \\\n",
       "0  10 JURONG EAST STREET 12 JURONG EAST MRT STATI...  609690   \n",
       "1  10 BUKIT BATOK CENTRAL BUKIT BATOK MRT STATION...  659958   \n",
       "2  802 BUKIT BATOK WEST AVENUE 5 BUKIT GOMBAK MRT...  659083   \n",
       "\n",
       "                  X                 Y          LATITUDE         LONGITUDE  \\\n",
       "0  17869.0570516568  35038.9688695427  1.33315281585758  103.742286332403   \n",
       "1  18679.3223191258  36794.9260214306  1.34903331201636  103.749566478309   \n",
       "2  18926.9127006577  37854.0358848721  1.35861159094192  103.751790910733   \n",
       "\n",
       "         LONGTITUDE  \n",
       "0  103.742286332403  \n",
       "1  103.749566478309  \n",
       "2  103.751790910733  "
      ]
     },
     "metadata": {},
     "output_type": "display_data"
    }
   ],
   "source": [
    "trains_df = pd.DataFrame(trains)\n",
    "\n",
    "print(trains_df.shape, '\\n', trains_df.columns)\n",
    "display(trains_df.head(3))"
   ]
  },
  {
   "cell_type": "code",
   "execution_count": 17,
   "id": "1b680400",
   "metadata": {},
   "outputs": [],
   "source": [
    "trains_df.to_csv(f\"{DATA_DIR_RAW}/trains/sg_trains_geo.csv\", encoding='utf-8-sig', index=False)"
   ]
  },
  {
   "cell_type": "code",
   "execution_count": 18,
   "id": "8a8f4151",
   "metadata": {},
   "outputs": [
    {
     "name": "stdout",
     "output_type": "stream",
     "text": [
      "(193, 8) \n",
      " Index(['TRAIN_NAME', 'TRAIN_CODES', 'BLK_NO', 'ROAD_NAME', 'ADDRESS', 'POSTAL',\n",
      "       'LATITUDE', 'LONGITUDE'],\n",
      "      dtype='object')\n"
     ]
    },
    {
     "name": "stderr",
     "output_type": "stream",
     "text": [
      "C:\\Users\\Hari\\anaconda3\\envs\\realestate\\lib\\site-packages\\ipykernel_launcher.py:3: FutureWarning: The default value of regex will change from True to False in a future version. In addition, single character regular expressions will*not* be treated as literal strings when regex=True.\n",
      "  This is separate from the ipykernel package so we can avoid doing imports until\n"
     ]
    },
    {
     "data": {
      "text/html": [
       "<div>\n",
       "<style scoped>\n",
       "    .dataframe tbody tr th:only-of-type {\n",
       "        vertical-align: middle;\n",
       "    }\n",
       "\n",
       "    .dataframe tbody tr th {\n",
       "        vertical-align: top;\n",
       "    }\n",
       "\n",
       "    .dataframe thead th {\n",
       "        text-align: right;\n",
       "    }\n",
       "</style>\n",
       "<table border=\"1\" class=\"dataframe\">\n",
       "  <thead>\n",
       "    <tr style=\"text-align: right;\">\n",
       "      <th></th>\n",
       "      <th>TRAIN_NAME</th>\n",
       "      <th>TRAIN_CODES</th>\n",
       "      <th>BLK_NO</th>\n",
       "      <th>ROAD_NAME</th>\n",
       "      <th>ADDRESS</th>\n",
       "      <th>POSTAL</th>\n",
       "      <th>LATITUDE</th>\n",
       "      <th>LONGITUDE</th>\n",
       "    </tr>\n",
       "  </thead>\n",
       "  <tbody>\n",
       "    <tr>\n",
       "      <th>0</th>\n",
       "      <td>JURONG EAST MRT STATION</td>\n",
       "      <td>EW24 / NS1</td>\n",
       "      <td>10</td>\n",
       "      <td>JURONG EAST STREET 12</td>\n",
       "      <td>10 JURONG EAST STREET 12 JURONG EAST MRT STATI...</td>\n",
       "      <td>609690</td>\n",
       "      <td>1.33315281585758</td>\n",
       "      <td>103.742286332403</td>\n",
       "    </tr>\n",
       "    <tr>\n",
       "      <th>1</th>\n",
       "      <td>BUKIT BATOK MRT STATION</td>\n",
       "      <td>NS2</td>\n",
       "      <td>10</td>\n",
       "      <td>BUKIT BATOK CENTRAL</td>\n",
       "      <td>10 BUKIT BATOK CENTRAL BUKIT BATOK MRT STATION...</td>\n",
       "      <td>659958</td>\n",
       "      <td>1.34903331201636</td>\n",
       "      <td>103.749566478309</td>\n",
       "    </tr>\n",
       "    <tr>\n",
       "      <th>2</th>\n",
       "      <td>BUKIT GOMBAK MRT STATION</td>\n",
       "      <td>NS3</td>\n",
       "      <td>802</td>\n",
       "      <td>BUKIT BATOK WEST AVENUE 5</td>\n",
       "      <td>802 BUKIT BATOK WEST AVENUE 5 BUKIT GOMBAK MRT...</td>\n",
       "      <td>659083</td>\n",
       "      <td>1.35861159094192</td>\n",
       "      <td>103.751790910733</td>\n",
       "    </tr>\n",
       "  </tbody>\n",
       "</table>\n",
       "</div>"
      ],
      "text/plain": [
       "                 TRAIN_NAME TRAIN_CODES BLK_NO                  ROAD_NAME  \\\n",
       "0   JURONG EAST MRT STATION  EW24 / NS1     10      JURONG EAST STREET 12   \n",
       "1   BUKIT BATOK MRT STATION         NS2     10        BUKIT BATOK CENTRAL   \n",
       "2  BUKIT GOMBAK MRT STATION         NS3    802  BUKIT BATOK WEST AVENUE 5   \n",
       "\n",
       "                                             ADDRESS  POSTAL  \\\n",
       "0  10 JURONG EAST STREET 12 JURONG EAST MRT STATI...  609690   \n",
       "1  10 BUKIT BATOK CENTRAL BUKIT BATOK MRT STATION...  659958   \n",
       "2  802 BUKIT BATOK WEST AVENUE 5 BUKIT GOMBAK MRT...  659083   \n",
       "\n",
       "           LATITUDE         LONGITUDE  \n",
       "0  1.33315281585758  103.742286332403  \n",
       "1  1.34903331201636  103.749566478309  \n",
       "2  1.35861159094192  103.751790910733  "
      ]
     },
     "metadata": {},
     "output_type": "display_data"
    }
   ],
   "source": [
    "trains_df.drop(['BUILDING', 'X', 'Y', 'LONGTITUDE'], axis=1, inplace=True)\n",
    "trains_df['TRAIN_NAME'] = trains_df.SEARCHVAL.str.split('\\s+\\(').apply(lambda x: x[0])\n",
    "trains_df['TRAIN_CODES'] = trains_df.SEARCHVAL.str.split('\\s+\\(').apply(lambda x: x[1] if len(x) > 1 else '').str.replace(')', '').str.strip()\n",
    "trains_df = pd.DataFrame({'TRAIN_NAME': trains_df.TRAIN_NAME, 'TRAIN_CODES': trains_df.TRAIN_CODES, 'BLK_NO': trains_df.BLK_NO, 'ROAD_NAME': trains_df.ROAD_NAME, \n",
    "                          'ADDRESS': trains_df.ADDRESS, 'POSTAL': trains_df.POSTAL, 'LATITUDE': trains_df.LATITUDE, 'LONGITUDE': trains_df.LONGITUDE})\n",
    "\n",
    "print(trains_df.shape, '\\n', trains_df.columns)\n",
    "display(trains_df.head(3))"
   ]
  },
  {
   "cell_type": "code",
   "execution_count": 19,
   "id": "3e4d3461",
   "metadata": {},
   "outputs": [],
   "source": [
    "trains_df.to_csv(f\"{DATA_DIR_PROCESSED}/trains/sg_trains_geo.csv\", encoding='utf-8-sig', index=False)"
   ]
  },
  {
   "cell_type": "markdown",
   "id": "179f72ee",
   "metadata": {},
   "source": [
    "### Retrieve Hawker Centres"
   ]
  },
  {
   "cell_type": "code",
   "execution_count": 20,
   "id": "9d1fa608",
   "metadata": {},
   "outputs": [
    {
     "data": {
      "text/plain": [
       "<__main__.OneMapThemeApi at 0x16dc533bc88>"
      ]
     },
     "execution_count": 20,
     "metadata": {},
     "output_type": "execute_result"
    }
   ],
   "source": [
    "om_theme = OneMapThemeApi(EMAIL, PASSWORD, TOKEN_FILE)\n",
    "om_theme"
   ]
  },
  {
   "cell_type": "code",
   "execution_count": null,
   "id": "726a5b09",
   "metadata": {},
   "outputs": [],
   "source": [
    "res = om_theme.queryThemeLayer('hawkercentre')\n",
    "res"
   ]
  },
  {
   "cell_type": "code",
   "execution_count": 22,
   "id": "452179d0",
   "metadata": {
    "scrolled": false
   },
   "outputs": [
    {
     "name": "stdout",
     "output_type": "stream",
     "text": [
      "(125, 20) \n",
      " Index(['NAME', 'DESCRIPTION', 'ADDRESSBLOCKHOUSENUMBER', 'ADDRESSPOSTALCODE',\n",
      "       'ADDRESSSTREETNAME', 'PHOTOURL', 'LANDXADDRESSPOINT',\n",
      "       'LANDYADDRESSPOINT', 'EST_ORIGINAL_COMPLETION_DATE', 'STATUS',\n",
      "       'HUP_COMPLETION_DATE', 'ADDRESS_MYENV', 'Type', 'LatLng', 'ICON_NAME',\n",
      "       'APPROXIMATE_GFA', 'INFO_ON_CO_LOCATORS', 'ADDRESSBUILDINGNAME',\n",
      "       'AWARDED_DATE', 'IMPLEMENTATION_DATE'],\n",
      "      dtype='object')\n"
     ]
    },
    {
     "data": {
      "text/html": [
       "<div>\n",
       "<style scoped>\n",
       "    .dataframe tbody tr th:only-of-type {\n",
       "        vertical-align: middle;\n",
       "    }\n",
       "\n",
       "    .dataframe tbody tr th {\n",
       "        vertical-align: top;\n",
       "    }\n",
       "\n",
       "    .dataframe thead th {\n",
       "        text-align: right;\n",
       "    }\n",
       "</style>\n",
       "<table border=\"1\" class=\"dataframe\">\n",
       "  <thead>\n",
       "    <tr style=\"text-align: right;\">\n",
       "      <th></th>\n",
       "      <th>NAME</th>\n",
       "      <th>DESCRIPTION</th>\n",
       "      <th>ADDRESSBLOCKHOUSENUMBER</th>\n",
       "      <th>ADDRESSPOSTALCODE</th>\n",
       "      <th>ADDRESSSTREETNAME</th>\n",
       "      <th>PHOTOURL</th>\n",
       "      <th>LANDXADDRESSPOINT</th>\n",
       "      <th>LANDYADDRESSPOINT</th>\n",
       "      <th>EST_ORIGINAL_COMPLETION_DATE</th>\n",
       "      <th>STATUS</th>\n",
       "      <th>HUP_COMPLETION_DATE</th>\n",
       "      <th>ADDRESS_MYENV</th>\n",
       "      <th>Type</th>\n",
       "      <th>LatLng</th>\n",
       "      <th>ICON_NAME</th>\n",
       "      <th>APPROXIMATE_GFA</th>\n",
       "      <th>INFO_ON_CO_LOCATORS</th>\n",
       "      <th>ADDRESSBUILDINGNAME</th>\n",
       "      <th>AWARDED_DATE</th>\n",
       "      <th>IMPLEMENTATION_DATE</th>\n",
       "    </tr>\n",
       "  </thead>\n",
       "  <tbody>\n",
       "    <tr>\n",
       "      <th>0</th>\n",
       "      <td>Telok Blangah Rise Blk 36 (Telok Blangah Rise ...</td>\n",
       "      <td>HUP Standard Upgrading</td>\n",
       "      <td>36</td>\n",
       "      <td>90036</td>\n",
       "      <td>Telok Blangah Rise</td>\n",
       "      <td>http://www.nea.gov.sg/images/default-source/Ha...</td>\n",
       "      <td>26753.38</td>\n",
       "      <td>28355.97</td>\n",
       "      <td>29/10/1975</td>\n",
       "      <td>Existing</td>\n",
       "      <td>20/10/2010</td>\n",
       "      <td>Blk 36, Telok Blangah Rise, Singapore 090036</td>\n",
       "      <td>Point</td>\n",
       "      <td>1.27271579716508,103.82211725658</td>\n",
       "      <td>HC icons_Opt 8.jpg</td>\n",
       "      <td>NaN</td>\n",
       "      <td>NaN</td>\n",
       "      <td>NaN</td>\n",
       "      <td>NaN</td>\n",
       "      <td>NaN</td>\n",
       "    </tr>\n",
       "    <tr>\n",
       "      <th>1</th>\n",
       "      <td>Tiong Bahru Market</td>\n",
       "      <td>HUP Rebuilding</td>\n",
       "      <td>30</td>\n",
       "      <td>168898</td>\n",
       "      <td>Seng Poh Road</td>\n",
       "      <td>http://www.nea.gov.sg/images/default-source/Ha...</td>\n",
       "      <td>27892.07</td>\n",
       "      <td>29724.05</td>\n",
       "      <td>NaN</td>\n",
       "      <td>Existing</td>\n",
       "      <td>10/2/2006</td>\n",
       "      <td>30, Seng Poh Road, Singapore 168898</td>\n",
       "      <td>Point</td>\n",
       "      <td>1.28508825756819,103.832348785334</td>\n",
       "      <td>HC icons_Opt 8.jpg</td>\n",
       "      <td>10630.72</td>\n",
       "      <td>NaN</td>\n",
       "      <td>NaN</td>\n",
       "      <td>NaN</td>\n",
       "      <td>NaN</td>\n",
       "    </tr>\n",
       "    <tr>\n",
       "      <th>2</th>\n",
       "      <td>Ang Mo Kio Ave 6 Blk 724 (Blk 724 Ang Mo Kio M...</td>\n",
       "      <td>HUP Reconfiguration</td>\n",
       "      <td>724</td>\n",
       "      <td>560724</td>\n",
       "      <td>Ang Mo Kio Ave 6</td>\n",
       "      <td>http://www.nea.gov.sg/images/default-source/Ha...</td>\n",
       "      <td>29469.07</td>\n",
       "      <td>39356.14</td>\n",
       "      <td>31/1/1980</td>\n",
       "      <td>Existing</td>\n",
       "      <td>2/1/2008</td>\n",
       "      <td>Blk 724, Ang Mo Kio Ave 6, Singapore 560724</td>\n",
       "      <td>Point</td>\n",
       "      <td>1.37219743270045,103.846519219268</td>\n",
       "      <td>HC icons_Opt 8.jpg</td>\n",
       "      <td>NaN</td>\n",
       "      <td>NaN</td>\n",
       "      <td>NaN</td>\n",
       "      <td>NaN</td>\n",
       "      <td>NaN</td>\n",
       "    </tr>\n",
       "  </tbody>\n",
       "</table>\n",
       "</div>"
      ],
      "text/plain": [
       "                                                NAME             DESCRIPTION  \\\n",
       "0  Telok Blangah Rise Blk 36 (Telok Blangah Rise ...  HUP Standard Upgrading   \n",
       "1                                 Tiong Bahru Market          HUP Rebuilding   \n",
       "2  Ang Mo Kio Ave 6 Blk 724 (Blk 724 Ang Mo Kio M...     HUP Reconfiguration   \n",
       "\n",
       "  ADDRESSBLOCKHOUSENUMBER ADDRESSPOSTALCODE   ADDRESSSTREETNAME  \\\n",
       "0                      36             90036  Telok Blangah Rise   \n",
       "1                      30            168898       Seng Poh Road   \n",
       "2                     724            560724    Ang Mo Kio Ave 6   \n",
       "\n",
       "                                            PHOTOURL LANDXADDRESSPOINT  \\\n",
       "0  http://www.nea.gov.sg/images/default-source/Ha...          26753.38   \n",
       "1  http://www.nea.gov.sg/images/default-source/Ha...          27892.07   \n",
       "2  http://www.nea.gov.sg/images/default-source/Ha...          29469.07   \n",
       "\n",
       "  LANDYADDRESSPOINT EST_ORIGINAL_COMPLETION_DATE    STATUS  \\\n",
       "0          28355.97                   29/10/1975  Existing   \n",
       "1          29724.05                          NaN  Existing   \n",
       "2          39356.14                    31/1/1980  Existing   \n",
       "\n",
       "  HUP_COMPLETION_DATE                                 ADDRESS_MYENV   Type  \\\n",
       "0          20/10/2010  Blk 36, Telok Blangah Rise, Singapore 090036  Point   \n",
       "1           10/2/2006           30, Seng Poh Road, Singapore 168898  Point   \n",
       "2            2/1/2008   Blk 724, Ang Mo Kio Ave 6, Singapore 560724  Point   \n",
       "\n",
       "                              LatLng           ICON_NAME APPROXIMATE_GFA  \\\n",
       "0   1.27271579716508,103.82211725658  HC icons_Opt 8.jpg             NaN   \n",
       "1  1.28508825756819,103.832348785334  HC icons_Opt 8.jpg        10630.72   \n",
       "2  1.37219743270045,103.846519219268  HC icons_Opt 8.jpg             NaN   \n",
       "\n",
       "  INFO_ON_CO_LOCATORS ADDRESSBUILDINGNAME AWARDED_DATE IMPLEMENTATION_DATE  \n",
       "0                 NaN                 NaN          NaN                 NaN  \n",
       "1                 NaN                 NaN          NaN                 NaN  \n",
       "2                 NaN                 NaN          NaN                 NaN  "
      ]
     },
     "metadata": {},
     "output_type": "display_data"
    }
   ],
   "source": [
    "hawkers = pd.DataFrame(res['SrchResults'][1:])\n",
    "\n",
    "print(hawkers.shape, '\\n', hawkers.columns)\n",
    "display(hawkers.head(3))"
   ]
  },
  {
   "cell_type": "code",
   "execution_count": 23,
   "id": "ddf2adc5",
   "metadata": {},
   "outputs": [],
   "source": [
    "hawkers.to_csv(f\"{DATA_DIR_RAW}/hawkers/sg_hawkers_geo.csv\", encoding='utf-8-sig', index=False)"
   ]
  },
  {
   "cell_type": "code",
   "execution_count": 24,
   "id": "fc5ed175",
   "metadata": {},
   "outputs": [
    {
     "name": "stdout",
     "output_type": "stream",
     "text": [
      "(114, 8) \n",
      " Index(['HAWKER_ID', 'NAME', 'BLK_NO', 'STREET_NAME', 'POSTAL',\n",
      "       'COMPLETION_DATE', 'LATITUDE', 'LONGITUDE'],\n",
      "      dtype='object')\n"
     ]
    },
    {
     "data": {
      "text/html": [
       "<div>\n",
       "<style scoped>\n",
       "    .dataframe tbody tr th:only-of-type {\n",
       "        vertical-align: middle;\n",
       "    }\n",
       "\n",
       "    .dataframe tbody tr th {\n",
       "        vertical-align: top;\n",
       "    }\n",
       "\n",
       "    .dataframe thead th {\n",
       "        text-align: right;\n",
       "    }\n",
       "</style>\n",
       "<table border=\"1\" class=\"dataframe\">\n",
       "  <thead>\n",
       "    <tr style=\"text-align: right;\">\n",
       "      <th></th>\n",
       "      <th>HAWKER_ID</th>\n",
       "      <th>NAME</th>\n",
       "      <th>BLK_NO</th>\n",
       "      <th>STREET_NAME</th>\n",
       "      <th>POSTAL</th>\n",
       "      <th>COMPLETION_DATE</th>\n",
       "      <th>LATITUDE</th>\n",
       "      <th>LONGITUDE</th>\n",
       "    </tr>\n",
       "  </thead>\n",
       "  <tbody>\n",
       "    <tr>\n",
       "      <th>0</th>\n",
       "      <td>1</td>\n",
       "      <td>TELOK BLANGAH RISE BLK 36 (TELOK BLANGAH RISE ...</td>\n",
       "      <td>36</td>\n",
       "      <td>TELOK BLANGAH RISE</td>\n",
       "      <td>90036</td>\n",
       "      <td>29/10/1975</td>\n",
       "      <td>1.27271579716508</td>\n",
       "      <td>103.82211725658</td>\n",
       "    </tr>\n",
       "    <tr>\n",
       "      <th>1</th>\n",
       "      <td>2</td>\n",
       "      <td>TIONG BAHRU MARKET</td>\n",
       "      <td>30</td>\n",
       "      <td>SENG POH ROAD</td>\n",
       "      <td>168898</td>\n",
       "      <td>NaN</td>\n",
       "      <td>1.28508825756819</td>\n",
       "      <td>103.832348785334</td>\n",
       "    </tr>\n",
       "    <tr>\n",
       "      <th>2</th>\n",
       "      <td>3</td>\n",
       "      <td>ANG MO KIO AVE 6 BLK 724 (BLK 724 ANG MO KIO M...</td>\n",
       "      <td>724</td>\n",
       "      <td>ANG MO KIO AVE 6</td>\n",
       "      <td>560724</td>\n",
       "      <td>31/1/1980</td>\n",
       "      <td>1.37219743270045</td>\n",
       "      <td>103.846519219268</td>\n",
       "    </tr>\n",
       "  </tbody>\n",
       "</table>\n",
       "</div>"
      ],
      "text/plain": [
       "   HAWKER_ID                                               NAME BLK_NO  \\\n",
       "0          1  TELOK BLANGAH RISE BLK 36 (TELOK BLANGAH RISE ...     36   \n",
       "1          2                                 TIONG BAHRU MARKET     30   \n",
       "2          3  ANG MO KIO AVE 6 BLK 724 (BLK 724 ANG MO KIO M...    724   \n",
       "\n",
       "          STREET_NAME  POSTAL COMPLETION_DATE          LATITUDE  \\\n",
       "0  TELOK BLANGAH RISE   90036      29/10/1975  1.27271579716508   \n",
       "1       SENG POH ROAD  168898             NaN  1.28508825756819   \n",
       "2    ANG MO KIO AVE 6  560724       31/1/1980  1.37219743270045   \n",
       "\n",
       "          LONGITUDE  \n",
       "0   103.82211725658  \n",
       "1  103.832348785334  \n",
       "2  103.846519219268  "
      ]
     },
     "metadata": {},
     "output_type": "display_data"
    }
   ],
   "source": [
    "hawkers_processed = deepcopy(hawkers)\n",
    "\n",
    "hawkers_processed.columns = hawkers_processed.columns.str.upper()\n",
    "\n",
    "under_construction_drop_idx = hawkers_processed[hawkers_processed.STATUS == 'Under Construction'].index\n",
    "hawkers_processed.drop(under_construction_drop_idx, axis=0, inplace=True)\n",
    "\n",
    "hawkers_processed.drop(['DESCRIPTION', 'PHOTOURL', 'LANDXADDRESSPOINT', 'LANDYADDRESSPOINT', 'HUP_COMPLETION_DATE', \n",
    "                        'ADDRESS_MYENV', 'TYPE', 'ICON_NAME', 'APPROXIMATE_GFA', 'INFO_ON_CO_LOCATORS', 'ADDRESSBUILDINGNAME', \n",
    "                        'AWARDED_DATE', 'IMPLEMENTATION_DATE', 'STATUS'], axis=1, inplace=True)\n",
    "\n",
    "hawkers_processed[['LATITUDE', 'LONGITUDE']] = hawkers_processed.LATLNG.str.split(',', expand=True)\n",
    "\n",
    "hawkers_processed = pd.DataFrame({'HAWKER_ID': list(range(1, len(hawkers_processed)+1)), 'NAME': hawkers_processed.NAME, \n",
    "                                  'BLK_NO': hawkers_processed.ADDRESSBLOCKHOUSENUMBER, 'STREET_NAME': hawkers_processed.ADDRESSSTREETNAME, \n",
    "                                  'POSTAL': hawkers_processed.ADDRESSPOSTALCODE, 'COMPLETION_DATE': hawkers_processed.EST_ORIGINAL_COMPLETION_DATE, \n",
    "                                  'LATITUDE': hawkers_processed.LATITUDE, 'LONGITUDE': hawkers_processed.LONGITUDE})\n",
    "\n",
    "hawkers_processed.NAME = hawkers_processed.NAME.astype(str).str.upper()\n",
    "hawkers_processed.STREET_NAME = hawkers_processed.STREET_NAME.astype(str).str.upper()\n",
    "\n",
    "print(hawkers_processed.shape, '\\n', hawkers_processed.columns)\n",
    "display(hawkers_processed.head(3))"
   ]
  },
  {
   "cell_type": "code",
   "execution_count": 25,
   "id": "8a8ac957",
   "metadata": {},
   "outputs": [],
   "source": [
    "hawkers_processed.to_csv(f\"{DATA_DIR_PROCESSED}/hawkers/sg_hawkers_geo.csv\", encoding='utf-8-sig', index=False)"
   ]
  },
  {
   "cell_type": "markdown",
   "id": "cbe8ad5e",
   "metadata": {},
   "source": [
    "### Retrieve Retail Pharmacies"
   ]
  },
  {
   "cell_type": "code",
   "execution_count": 26,
   "id": "6f2db454",
   "metadata": {},
   "outputs": [
    {
     "data": {
      "text/plain": [
       "<__main__.OneMapThemeApi at 0x16dc533b2c8>"
      ]
     },
     "execution_count": 26,
     "metadata": {},
     "output_type": "execute_result"
    }
   ],
   "source": [
    "om_theme = OneMapThemeApi(EMAIL, PASSWORD, TOKEN_FILE)\n",
    "om_theme"
   ]
  },
  {
   "cell_type": "code",
   "execution_count": null,
   "id": "f8827d49",
   "metadata": {},
   "outputs": [],
   "source": [
    "res = om_theme.queryThemeLayer('registered_pharmacy')\n",
    "res"
   ]
  },
  {
   "cell_type": "code",
   "execution_count": 28,
   "id": "6ebe60ee",
   "metadata": {},
   "outputs": [
    {
     "name": "stdout",
     "output_type": "stream",
     "text": [
      "(269, 10) \n",
      " Index(['NAME', 'DESCRIPTION', 'ADDRESSBLOCKHOUSENUMBER', 'ADDRESSFLOORNUMBER',\n",
      "       'ADDRESSPOSTALCODE', 'ADDRESSSTREETNAME', 'ADDRESSUNITNUMBER', 'Type',\n",
      "       'LatLng', 'ICON_NAME'],\n",
      "      dtype='object')\n"
     ]
    },
    {
     "data": {
      "text/html": [
       "<div>\n",
       "<style scoped>\n",
       "    .dataframe tbody tr th:only-of-type {\n",
       "        vertical-align: middle;\n",
       "    }\n",
       "\n",
       "    .dataframe tbody tr th {\n",
       "        vertical-align: top;\n",
       "    }\n",
       "\n",
       "    .dataframe thead th {\n",
       "        text-align: right;\n",
       "    }\n",
       "</style>\n",
       "<table border=\"1\" class=\"dataframe\">\n",
       "  <thead>\n",
       "    <tr style=\"text-align: right;\">\n",
       "      <th></th>\n",
       "      <th>NAME</th>\n",
       "      <th>DESCRIPTION</th>\n",
       "      <th>ADDRESSBLOCKHOUSENUMBER</th>\n",
       "      <th>ADDRESSFLOORNUMBER</th>\n",
       "      <th>ADDRESSPOSTALCODE</th>\n",
       "      <th>ADDRESSSTREETNAME</th>\n",
       "      <th>ADDRESSUNITNUMBER</th>\n",
       "      <th>Type</th>\n",
       "      <th>LatLng</th>\n",
       "      <th>ICON_NAME</th>\n",
       "    </tr>\n",
       "  </thead>\n",
       "  <tbody>\n",
       "    <tr>\n",
       "      <th>0</th>\n",
       "      <td>Guardian Pharmacy (Chinatown Point 4)</td>\n",
       "      <td>Chinatown Point 4</td>\n",
       "      <td>133</td>\n",
       "      <td>B1</td>\n",
       "      <td>59413</td>\n",
       "      <td>NEW BRIDGE ROAD</td>\n",
       "      <td>34</td>\n",
       "      <td>Point</td>\n",
       "      <td>1.28499883313915,103.844697087192</td>\n",
       "      <td>Pharmacies_new.jpg</td>\n",
       "    </tr>\n",
       "    <tr>\n",
       "      <th>1</th>\n",
       "      <td>Guardian Pharmacy (City Link)</td>\n",
       "      <td>City Link</td>\n",
       "      <td>1</td>\n",
       "      <td>B1</td>\n",
       "      <td>39393</td>\n",
       "      <td>RAFFLES LINK</td>\n",
       "      <td>67</td>\n",
       "      <td>Point</td>\n",
       "      <td>1.29277773939561,103.854173508666</td>\n",
       "      <td>Pharmacies_new.jpg</td>\n",
       "    </tr>\n",
       "    <tr>\n",
       "      <th>2</th>\n",
       "      <td>Guardian Pharmacy (City Square Mall)</td>\n",
       "      <td>City Square Mall</td>\n",
       "      <td>180</td>\n",
       "      <td>B1</td>\n",
       "      <td>208539</td>\n",
       "      <td>KITCHENER ROAD</td>\n",
       "      <td>18/19</td>\n",
       "      <td>Point</td>\n",
       "      <td>1.31139350343283,103.856487115197</td>\n",
       "      <td>Pharmacies_new.jpg</td>\n",
       "    </tr>\n",
       "  </tbody>\n",
       "</table>\n",
       "</div>"
      ],
      "text/plain": [
       "                                    NAME        DESCRIPTION  \\\n",
       "0  Guardian Pharmacy (Chinatown Point 4)  Chinatown Point 4   \n",
       "1          Guardian Pharmacy (City Link)          City Link   \n",
       "2   Guardian Pharmacy (City Square Mall)   City Square Mall   \n",
       "\n",
       "  ADDRESSBLOCKHOUSENUMBER ADDRESSFLOORNUMBER ADDRESSPOSTALCODE  \\\n",
       "0                     133                 B1             59413   \n",
       "1                       1                 B1             39393   \n",
       "2                     180                 B1            208539   \n",
       "\n",
       "  ADDRESSSTREETNAME ADDRESSUNITNUMBER   Type  \\\n",
       "0   NEW BRIDGE ROAD                34  Point   \n",
       "1      RAFFLES LINK                67  Point   \n",
       "2    KITCHENER ROAD             18/19  Point   \n",
       "\n",
       "                              LatLng           ICON_NAME  \n",
       "0  1.28499883313915,103.844697087192  Pharmacies_new.jpg  \n",
       "1  1.29277773939561,103.854173508666  Pharmacies_new.jpg  \n",
       "2  1.31139350343283,103.856487115197  Pharmacies_new.jpg  "
      ]
     },
     "metadata": {},
     "output_type": "display_data"
    }
   ],
   "source": [
    "pharm = pd.DataFrame(res['SrchResults'][1:])\n",
    "\n",
    "print(pharm.shape, '\\n', pharm.columns)\n",
    "display(pharm.head(3))"
   ]
  },
  {
   "cell_type": "code",
   "execution_count": 29,
   "id": "3c3a01f8",
   "metadata": {},
   "outputs": [],
   "source": [
    "pharm.to_csv(f\"{DATA_DIR_RAW}/pharmacies/sg_pharmacies_geo.csv\", encoding='utf-8-sig', index=False)"
   ]
  },
  {
   "cell_type": "code",
   "execution_count": 30,
   "id": "aa3fb9df",
   "metadata": {},
   "outputs": [
    {
     "name": "stdout",
     "output_type": "stream",
     "text": [
      "(269, 10) \n",
      " Index(['PHARMACY_ID', 'NAME', 'DESCRIPTION', 'BLK_NO', 'FLOOR', 'POSTAL',\n",
      "       'STREET_NAME', 'UNIT_NO', 'LATITUDE', 'LONGITUDE'],\n",
      "      dtype='object')\n"
     ]
    },
    {
     "data": {
      "text/html": [
       "<div>\n",
       "<style scoped>\n",
       "    .dataframe tbody tr th:only-of-type {\n",
       "        vertical-align: middle;\n",
       "    }\n",
       "\n",
       "    .dataframe tbody tr th {\n",
       "        vertical-align: top;\n",
       "    }\n",
       "\n",
       "    .dataframe thead th {\n",
       "        text-align: right;\n",
       "    }\n",
       "</style>\n",
       "<table border=\"1\" class=\"dataframe\">\n",
       "  <thead>\n",
       "    <tr style=\"text-align: right;\">\n",
       "      <th></th>\n",
       "      <th>PHARMACY_ID</th>\n",
       "      <th>NAME</th>\n",
       "      <th>DESCRIPTION</th>\n",
       "      <th>BLK_NO</th>\n",
       "      <th>FLOOR</th>\n",
       "      <th>POSTAL</th>\n",
       "      <th>STREET_NAME</th>\n",
       "      <th>UNIT_NO</th>\n",
       "      <th>LATITUDE</th>\n",
       "      <th>LONGITUDE</th>\n",
       "    </tr>\n",
       "  </thead>\n",
       "  <tbody>\n",
       "    <tr>\n",
       "      <th>0</th>\n",
       "      <td>1</td>\n",
       "      <td>GUARDIAN PHARMACY (CHINATOWN POINT 4)</td>\n",
       "      <td>CHINATOWN POINT 4</td>\n",
       "      <td>133</td>\n",
       "      <td>B1</td>\n",
       "      <td>59413</td>\n",
       "      <td>NEW BRIDGE ROAD</td>\n",
       "      <td>34</td>\n",
       "      <td>1.28499883313915</td>\n",
       "      <td>103.844697087192</td>\n",
       "    </tr>\n",
       "    <tr>\n",
       "      <th>1</th>\n",
       "      <td>2</td>\n",
       "      <td>GUARDIAN PHARMACY (CITY LINK)</td>\n",
       "      <td>CITY LINK</td>\n",
       "      <td>1</td>\n",
       "      <td>B1</td>\n",
       "      <td>39393</td>\n",
       "      <td>RAFFLES LINK</td>\n",
       "      <td>67</td>\n",
       "      <td>1.29277773939561</td>\n",
       "      <td>103.854173508666</td>\n",
       "    </tr>\n",
       "    <tr>\n",
       "      <th>2</th>\n",
       "      <td>3</td>\n",
       "      <td>GUARDIAN PHARMACY (CITY SQUARE MALL)</td>\n",
       "      <td>CITY SQUARE MALL</td>\n",
       "      <td>180</td>\n",
       "      <td>B1</td>\n",
       "      <td>208539</td>\n",
       "      <td>KITCHENER ROAD</td>\n",
       "      <td>18/19</td>\n",
       "      <td>1.31139350343283</td>\n",
       "      <td>103.856487115197</td>\n",
       "    </tr>\n",
       "  </tbody>\n",
       "</table>\n",
       "</div>"
      ],
      "text/plain": [
       "   PHARMACY_ID                                   NAME        DESCRIPTION  \\\n",
       "0            1  GUARDIAN PHARMACY (CHINATOWN POINT 4)  CHINATOWN POINT 4   \n",
       "1            2          GUARDIAN PHARMACY (CITY LINK)          CITY LINK   \n",
       "2            3   GUARDIAN PHARMACY (CITY SQUARE MALL)   CITY SQUARE MALL   \n",
       "\n",
       "  BLK_NO FLOOR  POSTAL      STREET_NAME UNIT_NO          LATITUDE  \\\n",
       "0    133    B1   59413  NEW BRIDGE ROAD      34  1.28499883313915   \n",
       "1      1    B1   39393     RAFFLES LINK      67  1.29277773939561   \n",
       "2    180    B1  208539   KITCHENER ROAD   18/19  1.31139350343283   \n",
       "\n",
       "          LONGITUDE  \n",
       "0  103.844697087192  \n",
       "1  103.854173508666  \n",
       "2  103.856487115197  "
      ]
     },
     "metadata": {},
     "output_type": "display_data"
    }
   ],
   "source": [
    "pharm_processed = deepcopy(pharm)\n",
    "\n",
    "pharm_processed.columns = pharm_processed.columns.str.upper()\n",
    "\n",
    "pharm_processed[['LATITUDE', 'LONGITUDE']] = pharm_processed.LATLNG.str.split(',', expand=True)\n",
    "\n",
    "pharm_processed.drop(['TYPE', 'ICON_NAME', 'LATLNG'], axis=1, inplace=True)\n",
    "\n",
    "pharm_processed.NAME = pharm_processed.NAME.str.upper()\n",
    "pharm_processed.DESCRIPTION = pharm_processed.DESCRIPTION.str.upper()\n",
    "\n",
    "pharm_processed = pd.DataFrame({'PHARMACY_ID': list(range(1, len(pharm_processed)+1)), 'NAME': pharm_processed.NAME, \n",
    "                                'DESCRIPTION': pharm_processed.DESCRIPTION, 'BLK_NO': pharm_processed.ADDRESSBLOCKHOUSENUMBER, \n",
    "                                'FLOOR': pharm_processed.ADDRESSFLOORNUMBER, 'POSTAL': pharm_processed.ADDRESSPOSTALCODE, \n",
    "                                'STREET_NAME': pharm_processed.ADDRESSSTREETNAME, 'UNIT_NO': pharm_processed.ADDRESSUNITNUMBER, \n",
    "                                'LATITUDE': pharm_processed.LATITUDE, 'LONGITUDE': pharm_processed.LONGITUDE})\n",
    "\n",
    "print(pharm_processed.shape, '\\n', pharm_processed.columns)\n",
    "display(pharm_processed.head(3))"
   ]
  },
  {
   "cell_type": "code",
   "execution_count": 31,
   "id": "65469eeb",
   "metadata": {},
   "outputs": [],
   "source": [
    "pharm_processed.to_csv(f\"{DATA_DIR_PROCESSED}/pharmacies/sg_pharmacies_geo.csv\", encoding='utf-8-sig', index=False)"
   ]
  },
  {
   "cell_type": "markdown",
   "id": "8b9a2047",
   "metadata": {},
   "source": [
    "### Retrieve National Parks"
   ]
  },
  {
   "cell_type": "code",
   "execution_count": 6,
   "id": "1ddedd5b",
   "metadata": {},
   "outputs": [
    {
     "data": {
      "text/plain": [
       "<__main__.OneMapThemeApi at 0x14c4f2d14c8>"
      ]
     },
     "execution_count": 6,
     "metadata": {},
     "output_type": "execute_result"
    }
   ],
   "source": [
    "om_theme = OneMapThemeApi(EMAIL, PASSWORD, TOKEN_FILE)\n",
    "om_theme"
   ]
  },
  {
   "cell_type": "code",
   "execution_count": null,
   "id": "229c7dbe",
   "metadata": {},
   "outputs": [],
   "source": [
    "res = om_theme.queryThemeLayer('nationalparks')\n",
    "res"
   ]
  },
  {
   "cell_type": "code",
   "execution_count": 8,
   "id": "d05dbb81",
   "metadata": {},
   "outputs": [
    {
     "name": "stdout",
     "output_type": "stream",
     "text": [
      "(352, 8) \n",
      " Index(['NAME', 'DESCRIPTION', 'LANDXADDRESSPOINT', 'LANDYADDRESSPOINT', 'Type',\n",
      "       'LatLng', 'ICON_NAME', 'HYPERLINK'],\n",
      "      dtype='object')\n"
     ]
    },
    {
     "data": {
      "text/html": [
       "<div>\n",
       "<style scoped>\n",
       "    .dataframe tbody tr th:only-of-type {\n",
       "        vertical-align: middle;\n",
       "    }\n",
       "\n",
       "    .dataframe tbody tr th {\n",
       "        vertical-align: top;\n",
       "    }\n",
       "\n",
       "    .dataframe thead th {\n",
       "        text-align: right;\n",
       "    }\n",
       "</style>\n",
       "<table border=\"1\" class=\"dataframe\">\n",
       "  <thead>\n",
       "    <tr style=\"text-align: right;\">\n",
       "      <th></th>\n",
       "      <th>NAME</th>\n",
       "      <th>DESCRIPTION</th>\n",
       "      <th>LANDXADDRESSPOINT</th>\n",
       "      <th>LANDYADDRESSPOINT</th>\n",
       "      <th>Type</th>\n",
       "      <th>LatLng</th>\n",
       "      <th>ICON_NAME</th>\n",
       "      <th>HYPERLINK</th>\n",
       "    </tr>\n",
       "  </thead>\n",
       "  <tbody>\n",
       "    <tr>\n",
       "      <th>0</th>\n",
       "      <td>Telok Ayer Green</td>\n",
       "      <td>Bounded by Amoy Street, Boon Tat Street and Te...</td>\n",
       "      <td>29594.3027</td>\n",
       "      <td>29323.4141</td>\n",
       "      <td>Point</td>\n",
       "      <td>1.28146500698614,103.847644002876</td>\n",
       "      <td>parks.gif</td>\n",
       "      <td>NaN</td>\n",
       "    </tr>\n",
       "    <tr>\n",
       "      <th>1</th>\n",
       "      <td>Mayflower Crescent Playground</td>\n",
       "      <td>At the junction of Mayflower Crescent and Mayf...</td>\n",
       "      <td>28695.5957</td>\n",
       "      <td>39413.7</td>\n",
       "      <td>Point</td>\n",
       "      <td>1.3727180131601,103.839569003072</td>\n",
       "      <td>parks.gif</td>\n",
       "      <td>NaN</td>\n",
       "    </tr>\n",
       "    <tr>\n",
       "      <th>2</th>\n",
       "      <td>Sunrise Drive Playground 1</td>\n",
       "      <td>Located along Sunrise Drive</td>\n",
       "      <td>30676.6113</td>\n",
       "      <td>41137.35</td>\n",
       "      <td>Point</td>\n",
       "      <td>1.38830597203414,103.857369999308</td>\n",
       "      <td>parks.gif</td>\n",
       "      <td>NaN</td>\n",
       "    </tr>\n",
       "  </tbody>\n",
       "</table>\n",
       "</div>"
      ],
      "text/plain": [
       "                            NAME  \\\n",
       "0               Telok Ayer Green   \n",
       "1  Mayflower Crescent Playground   \n",
       "2     Sunrise Drive Playground 1   \n",
       "\n",
       "                                         DESCRIPTION LANDXADDRESSPOINT  \\\n",
       "0  Bounded by Amoy Street, Boon Tat Street and Te...        29594.3027   \n",
       "1  At the junction of Mayflower Crescent and Mayf...        28695.5957   \n",
       "2                        Located along Sunrise Drive        30676.6113   \n",
       "\n",
       "  LANDYADDRESSPOINT   Type                             LatLng  ICON_NAME  \\\n",
       "0        29323.4141  Point  1.28146500698614,103.847644002876  parks.gif   \n",
       "1           39413.7  Point   1.3727180131601,103.839569003072  parks.gif   \n",
       "2          41137.35  Point  1.38830597203414,103.857369999308  parks.gif   \n",
       "\n",
       "  HYPERLINK  \n",
       "0       NaN  \n",
       "1       NaN  \n",
       "2       NaN  "
      ]
     },
     "metadata": {},
     "output_type": "display_data"
    }
   ],
   "source": [
    "parks = pd.DataFrame(res['SrchResults'][1:])\n",
    "\n",
    "print(parks.shape, '\\n', parks.columns)\n",
    "display(parks.head(3))"
   ]
  },
  {
   "cell_type": "code",
   "execution_count": 9,
   "id": "4f34b976",
   "metadata": {},
   "outputs": [],
   "source": [
    "parks.to_csv(f\"{DATA_DIR_RAW}/parks/sg_parks_geo.csv\", encoding='utf-8-sig', index=False)"
   ]
  },
  {
   "cell_type": "code",
   "execution_count": 11,
   "id": "0a1b7f64",
   "metadata": {},
   "outputs": [
    {
     "name": "stdout",
     "output_type": "stream",
     "text": [
      "(352, 5) \n",
      " Index(['PARK_ID', 'NAME', 'DESCRIPTION', 'LATITUDE', 'LONGITUDE'], dtype='object')\n"
     ]
    },
    {
     "data": {
      "text/html": [
       "<div>\n",
       "<style scoped>\n",
       "    .dataframe tbody tr th:only-of-type {\n",
       "        vertical-align: middle;\n",
       "    }\n",
       "\n",
       "    .dataframe tbody tr th {\n",
       "        vertical-align: top;\n",
       "    }\n",
       "\n",
       "    .dataframe thead th {\n",
       "        text-align: right;\n",
       "    }\n",
       "</style>\n",
       "<table border=\"1\" class=\"dataframe\">\n",
       "  <thead>\n",
       "    <tr style=\"text-align: right;\">\n",
       "      <th></th>\n",
       "      <th>PARK_ID</th>\n",
       "      <th>NAME</th>\n",
       "      <th>DESCRIPTION</th>\n",
       "      <th>LATITUDE</th>\n",
       "      <th>LONGITUDE</th>\n",
       "    </tr>\n",
       "  </thead>\n",
       "  <tbody>\n",
       "    <tr>\n",
       "      <th>0</th>\n",
       "      <td>1</td>\n",
       "      <td>TELOK AYER GREEN</td>\n",
       "      <td>BOUNDED BY AMOY STREET, BOON TAT STREET AND TE...</td>\n",
       "      <td>1.28146500698614</td>\n",
       "      <td>103.847644002876</td>\n",
       "    </tr>\n",
       "    <tr>\n",
       "      <th>1</th>\n",
       "      <td>2</td>\n",
       "      <td>MAYFLOWER CRESCENT PLAYGROUND</td>\n",
       "      <td>AT THE JUNCTION OF MAYFLOWER CRESCENT AND MAYF...</td>\n",
       "      <td>1.3727180131601</td>\n",
       "      <td>103.839569003072</td>\n",
       "    </tr>\n",
       "    <tr>\n",
       "      <th>2</th>\n",
       "      <td>3</td>\n",
       "      <td>SUNRISE DRIVE PLAYGROUND 1</td>\n",
       "      <td>LOCATED ALONG SUNRISE DRIVE</td>\n",
       "      <td>1.38830597203414</td>\n",
       "      <td>103.857369999308</td>\n",
       "    </tr>\n",
       "  </tbody>\n",
       "</table>\n",
       "</div>"
      ],
      "text/plain": [
       "   PARK_ID                           NAME  \\\n",
       "0        1               TELOK AYER GREEN   \n",
       "1        2  MAYFLOWER CRESCENT PLAYGROUND   \n",
       "2        3     SUNRISE DRIVE PLAYGROUND 1   \n",
       "\n",
       "                                         DESCRIPTION          LATITUDE  \\\n",
       "0  BOUNDED BY AMOY STREET, BOON TAT STREET AND TE...  1.28146500698614   \n",
       "1  AT THE JUNCTION OF MAYFLOWER CRESCENT AND MAYF...   1.3727180131601   \n",
       "2                        LOCATED ALONG SUNRISE DRIVE  1.38830597203414   \n",
       "\n",
       "          LONGITUDE  \n",
       "0  103.847644002876  \n",
       "1  103.839569003072  \n",
       "2  103.857369999308  "
      ]
     },
     "metadata": {},
     "output_type": "display_data"
    }
   ],
   "source": [
    "parks_processed = deepcopy(parks)\n",
    "\n",
    "parks_processed.columns = parks_processed.columns.str.upper()\n",
    "\n",
    "parks_processed[['LATITUDE', 'LONGITUDE']] = parks_processed.LATLNG.str.split(',', expand=True)\n",
    "\n",
    "parks_processed.drop(['LANDXADDRESSPOINT', 'LANDYADDRESSPOINT', 'TYPE', 'ICON_NAME', 'LATLNG', 'HYPERLINK'], axis=1, inplace=True)\n",
    "\n",
    "parks_processed.NAME = parks_processed.NAME.str.upper()\n",
    "parks_processed.DESCRIPTION = parks_processed.DESCRIPTION.str.upper()\n",
    "\n",
    "parks_processed = pd.DataFrame({'PARK_ID': list(range(1, len(parks_processed)+1)), 'NAME': parks_processed.NAME, \n",
    "                                'DESCRIPTION': parks_processed.DESCRIPTION, 'LATITUDE': parks_processed.LATITUDE, \n",
    "                                'LONGITUDE': parks_processed.LONGITUDE})\n",
    "\n",
    "print(parks_processed.shape, '\\n', parks_processed.columns)\n",
    "display(parks_processed.head(3))"
   ]
  },
  {
   "cell_type": "code",
   "execution_count": 12,
   "id": "025d5d7e",
   "metadata": {},
   "outputs": [],
   "source": [
    "parks_processed.to_csv(f\"{DATA_DIR_PROCESSED}/parks/sg_parks_geo.csv\", encoding='utf-8-sig', index=False)"
   ]
  },
  {
   "cell_type": "markdown",
   "id": "3f37f6d3",
   "metadata": {},
   "source": [
    "### Retrieve Libraries"
   ]
  },
  {
   "cell_type": "code",
   "execution_count": 13,
   "id": "b862e7b4",
   "metadata": {},
   "outputs": [
    {
     "data": {
      "text/plain": [
       "<__main__.OneMapThemeApi at 0x14c4f3bcb08>"
      ]
     },
     "execution_count": 13,
     "metadata": {},
     "output_type": "execute_result"
    }
   ],
   "source": [
    "om_theme = OneMapThemeApi(EMAIL, PASSWORD, TOKEN_FILE)\n",
    "om_theme"
   ]
  },
  {
   "cell_type": "code",
   "execution_count": null,
   "id": "8fc71231",
   "metadata": {},
   "outputs": [],
   "source": [
    "res = om_theme.queryThemeLayer('libraries')\n",
    "res"
   ]
  },
  {
   "cell_type": "code",
   "execution_count": 15,
   "id": "075b8fee",
   "metadata": {},
   "outputs": [
    {
     "name": "stdout",
     "output_type": "stream",
     "text": [
      "(30, 15) \n",
      " Index(['NAME', 'DESCRIPTION', 'ADDRESSBLOCKHOUSENUMBER', 'ADDRESSPOSTALCODE',\n",
      "       'ADDRESSSTREETNAME', 'HYPERLINK', 'PHOTOURL', 'LANDXADDRESSPOINT',\n",
      "       'LANDYADDRESSPOINT', 'Type', 'LatLng', 'ICON_NAME',\n",
      "       'ADDRESSFLOORNUMBER', 'ADDRESSUNITNUMBER', 'ADDRESSBUILDINGNAME'],\n",
      "      dtype='object')\n"
     ]
    },
    {
     "data": {
      "text/html": [
       "<div>\n",
       "<style scoped>\n",
       "    .dataframe tbody tr th:only-of-type {\n",
       "        vertical-align: middle;\n",
       "    }\n",
       "\n",
       "    .dataframe tbody tr th {\n",
       "        vertical-align: top;\n",
       "    }\n",
       "\n",
       "    .dataframe thead th {\n",
       "        text-align: right;\n",
       "    }\n",
       "</style>\n",
       "<table border=\"1\" class=\"dataframe\">\n",
       "  <thead>\n",
       "    <tr style=\"text-align: right;\">\n",
       "      <th></th>\n",
       "      <th>NAME</th>\n",
       "      <th>DESCRIPTION</th>\n",
       "      <th>ADDRESSBLOCKHOUSENUMBER</th>\n",
       "      <th>ADDRESSPOSTALCODE</th>\n",
       "      <th>ADDRESSSTREETNAME</th>\n",
       "      <th>HYPERLINK</th>\n",
       "      <th>PHOTOURL</th>\n",
       "      <th>LANDXADDRESSPOINT</th>\n",
       "      <th>LANDYADDRESSPOINT</th>\n",
       "      <th>Type</th>\n",
       "      <th>LatLng</th>\n",
       "      <th>ICON_NAME</th>\n",
       "      <th>ADDRESSFLOORNUMBER</th>\n",
       "      <th>ADDRESSUNITNUMBER</th>\n",
       "      <th>ADDRESSBUILDINGNAME</th>\n",
       "    </tr>\n",
       "  </thead>\n",
       "  <tbody>\n",
       "    <tr>\n",
       "      <th>0</th>\n",
       "      <td>Ang Mo Kio Public Library</td>\n",
       "      <td>AMPL</td>\n",
       "      <td>4300</td>\n",
       "      <td>569842</td>\n",
       "      <td>Ang Mo Kio Avenue 6</td>\n",
       "      <td>https://www.nlb.gov.sg/main/visit-us/our-libra...</td>\n",
       "      <td>https://www.nlb.gov.sg/files/images/galleries/...</td>\n",
       "      <td>29364.62</td>\n",
       "      <td>39642.82</td>\n",
       "      <td>Point</td>\n",
       "      <td>1.37479006912036,103.845580674824</td>\n",
       "      <td>library.gif</td>\n",
       "      <td>NaN</td>\n",
       "      <td>NaN</td>\n",
       "      <td>NaN</td>\n",
       "    </tr>\n",
       "    <tr>\n",
       "      <th>1</th>\n",
       "      <td>Bedok Public Library</td>\n",
       "      <td>BEPL</td>\n",
       "      <td>11</td>\n",
       "      <td>469662</td>\n",
       "      <td>Bedok North St. 1</td>\n",
       "      <td>https://www.nlb.gov.sg/main/visit-us/our-libra...</td>\n",
       "      <td>https://www.nlb.gov.sg/files/images/galleries/...</td>\n",
       "      <td>38947.87</td>\n",
       "      <td>34357.48</td>\n",
       "      <td>Point</td>\n",
       "      <td>1.32698939805286,103.931691125839</td>\n",
       "      <td>library.gif</td>\n",
       "      <td>2</td>\n",
       "      <td>3</td>\n",
       "      <td>NaN</td>\n",
       "    </tr>\n",
       "    <tr>\n",
       "      <th>2</th>\n",
       "      <td>Bishan Public Library</td>\n",
       "      <td>BIPL</td>\n",
       "      <td>5</td>\n",
       "      <td>579841</td>\n",
       "      <td>Bishan Place</td>\n",
       "      <td>https://www.nlb.gov.sg/main/visit-us/our-libra...</td>\n",
       "      <td>https://www.nlb.gov.sg/files/images/galleries/...</td>\n",
       "      <td>29727.41</td>\n",
       "      <td>36885.15</td>\n",
       "      <td>Point</td>\n",
       "      <td>1.3498506667736,103.848840445413</td>\n",
       "      <td>library.gif</td>\n",
       "      <td>1</td>\n",
       "      <td>1</td>\n",
       "      <td>NaN</td>\n",
       "    </tr>\n",
       "  </tbody>\n",
       "</table>\n",
       "</div>"
      ],
      "text/plain": [
       "                        NAME DESCRIPTION ADDRESSBLOCKHOUSENUMBER  \\\n",
       "0  Ang Mo Kio Public Library        AMPL                    4300   \n",
       "1       Bedok Public Library        BEPL                      11   \n",
       "2      Bishan Public Library        BIPL                       5   \n",
       "\n",
       "  ADDRESSPOSTALCODE    ADDRESSSTREETNAME  \\\n",
       "0            569842  Ang Mo Kio Avenue 6   \n",
       "1            469662    Bedok North St. 1   \n",
       "2            579841         Bishan Place   \n",
       "\n",
       "                                           HYPERLINK  \\\n",
       "0  https://www.nlb.gov.sg/main/visit-us/our-libra...   \n",
       "1  https://www.nlb.gov.sg/main/visit-us/our-libra...   \n",
       "2  https://www.nlb.gov.sg/main/visit-us/our-libra...   \n",
       "\n",
       "                                            PHOTOURL LANDXADDRESSPOINT  \\\n",
       "0  https://www.nlb.gov.sg/files/images/galleries/...          29364.62   \n",
       "1  https://www.nlb.gov.sg/files/images/galleries/...          38947.87   \n",
       "2  https://www.nlb.gov.sg/files/images/galleries/...          29727.41   \n",
       "\n",
       "  LANDYADDRESSPOINT   Type                             LatLng    ICON_NAME  \\\n",
       "0          39642.82  Point  1.37479006912036,103.845580674824  library.gif   \n",
       "1          34357.48  Point  1.32698939805286,103.931691125839  library.gif   \n",
       "2          36885.15  Point   1.3498506667736,103.848840445413  library.gif   \n",
       "\n",
       "  ADDRESSFLOORNUMBER ADDRESSUNITNUMBER ADDRESSBUILDINGNAME  \n",
       "0                NaN               NaN                 NaN  \n",
       "1                  2                 3                 NaN  \n",
       "2                  1                 1                 NaN  "
      ]
     },
     "metadata": {},
     "output_type": "display_data"
    }
   ],
   "source": [
    "libraries = pd.DataFrame(res['SrchResults'][1:])\n",
    "\n",
    "print(libraries.shape, '\\n', libraries.columns)\n",
    "display(libraries.head(3))"
   ]
  },
  {
   "cell_type": "code",
   "execution_count": 16,
   "id": "12abc3b1",
   "metadata": {},
   "outputs": [],
   "source": [
    "libraries.to_csv(f\"{DATA_DIR_RAW}/libraries/sg_libraries_geo.csv\", encoding='utf-8-sig', index=False)"
   ]
  },
  {
   "cell_type": "code",
   "execution_count": 19,
   "id": "a7c48994",
   "metadata": {},
   "outputs": [
    {
     "name": "stdout",
     "output_type": "stream",
     "text": [
      "(30, 10) \n",
      " Index(['LIBRARY_ID', 'NAME', 'DESCRIPTION', 'BLK_NO', 'FLOOR', 'POSTAL',\n",
      "       'STREET_NAME', 'UNIT_NO', 'LATITUDE', 'LONGITUDE'],\n",
      "      dtype='object')\n"
     ]
    },
    {
     "data": {
      "text/html": [
       "<div>\n",
       "<style scoped>\n",
       "    .dataframe tbody tr th:only-of-type {\n",
       "        vertical-align: middle;\n",
       "    }\n",
       "\n",
       "    .dataframe tbody tr th {\n",
       "        vertical-align: top;\n",
       "    }\n",
       "\n",
       "    .dataframe thead th {\n",
       "        text-align: right;\n",
       "    }\n",
       "</style>\n",
       "<table border=\"1\" class=\"dataframe\">\n",
       "  <thead>\n",
       "    <tr style=\"text-align: right;\">\n",
       "      <th></th>\n",
       "      <th>LIBRARY_ID</th>\n",
       "      <th>NAME</th>\n",
       "      <th>DESCRIPTION</th>\n",
       "      <th>BLK_NO</th>\n",
       "      <th>FLOOR</th>\n",
       "      <th>POSTAL</th>\n",
       "      <th>STREET_NAME</th>\n",
       "      <th>UNIT_NO</th>\n",
       "      <th>LATITUDE</th>\n",
       "      <th>LONGITUDE</th>\n",
       "    </tr>\n",
       "  </thead>\n",
       "  <tbody>\n",
       "    <tr>\n",
       "      <th>0</th>\n",
       "      <td>1</td>\n",
       "      <td>ANG MO KIO PUBLIC LIBRARY</td>\n",
       "      <td>AMPL</td>\n",
       "      <td>4300</td>\n",
       "      <td>NaN</td>\n",
       "      <td>569842</td>\n",
       "      <td>ANG MO KIO AVENUE 6</td>\n",
       "      <td>NaN</td>\n",
       "      <td>1.37479006912036</td>\n",
       "      <td>103.845580674824</td>\n",
       "    </tr>\n",
       "    <tr>\n",
       "      <th>1</th>\n",
       "      <td>2</td>\n",
       "      <td>BEDOK PUBLIC LIBRARY</td>\n",
       "      <td>BEPL</td>\n",
       "      <td>11</td>\n",
       "      <td>2</td>\n",
       "      <td>469662</td>\n",
       "      <td>BEDOK NORTH ST. 1</td>\n",
       "      <td>3</td>\n",
       "      <td>1.32698939805286</td>\n",
       "      <td>103.931691125839</td>\n",
       "    </tr>\n",
       "    <tr>\n",
       "      <th>2</th>\n",
       "      <td>3</td>\n",
       "      <td>BISHAN PUBLIC LIBRARY</td>\n",
       "      <td>BIPL</td>\n",
       "      <td>5</td>\n",
       "      <td>1</td>\n",
       "      <td>579841</td>\n",
       "      <td>BISHAN PLACE</td>\n",
       "      <td>1</td>\n",
       "      <td>1.3498506667736</td>\n",
       "      <td>103.848840445413</td>\n",
       "    </tr>\n",
       "  </tbody>\n",
       "</table>\n",
       "</div>"
      ],
      "text/plain": [
       "   LIBRARY_ID                       NAME DESCRIPTION BLK_NO FLOOR  POSTAL  \\\n",
       "0           1  ANG MO KIO PUBLIC LIBRARY        AMPL   4300   NaN  569842   \n",
       "1           2       BEDOK PUBLIC LIBRARY        BEPL     11     2  469662   \n",
       "2           3      BISHAN PUBLIC LIBRARY        BIPL      5     1  579841   \n",
       "\n",
       "           STREET_NAME UNIT_NO          LATITUDE         LONGITUDE  \n",
       "0  ANG MO KIO AVENUE 6     NaN  1.37479006912036  103.845580674824  \n",
       "1    BEDOK NORTH ST. 1       3  1.32698939805286  103.931691125839  \n",
       "2         BISHAN PLACE       1   1.3498506667736  103.848840445413  "
      ]
     },
     "metadata": {},
     "output_type": "display_data"
    }
   ],
   "source": [
    "libraries_processed = deepcopy(libraries)\n",
    "\n",
    "libraries_processed.columns = libraries_processed.columns.str.upper()\n",
    "\n",
    "libraries_processed[['LATITUDE', 'LONGITUDE']] = libraries_processed.LATLNG.str.split(',', expand=True)\n",
    "\n",
    "libraries_processed.drop(['HYPERLINK', 'PHOTOURL', 'LANDXADDRESSPOINT', 'LANDYADDRESSPOINT', 'TYPE', 'ICON_NAME', 'LATLNG', \n",
    "                          'ADDRESSBUILDINGNAME'], axis=1, inplace=True)\n",
    "\n",
    "libraries_processed.NAME = libraries_processed.NAME.str.upper()\n",
    "libraries_processed.DESCRIPTION = libraries_processed.DESCRIPTION.str.upper()\n",
    "libraries_processed.ADDRESSSTREETNAME = libraries_processed.ADDRESSSTREETNAME.str.upper()\n",
    "\n",
    "libraries_processed = pd.DataFrame({'LIBRARY_ID': list(range(1, len(libraries_processed)+1)), 'NAME': libraries_processed.NAME, \n",
    "                                'DESCRIPTION': libraries_processed.DESCRIPTION, 'BLK_NO': libraries_processed.ADDRESSBLOCKHOUSENUMBER, \n",
    "                                'FLOOR': libraries_processed.ADDRESSFLOORNUMBER, 'POSTAL': libraries_processed.ADDRESSPOSTALCODE, \n",
    "                                'STREET_NAME': libraries_processed.ADDRESSSTREETNAME, 'UNIT_NO': libraries_processed.ADDRESSUNITNUMBER, \n",
    "                                'LATITUDE': libraries_processed.LATITUDE, 'LONGITUDE': libraries_processed.LONGITUDE})\n",
    "\n",
    "print(libraries_processed.shape, '\\n', libraries_processed.columns)\n",
    "display(libraries_processed.head(3))"
   ]
  },
  {
   "cell_type": "code",
   "execution_count": 20,
   "id": "a21f0c43",
   "metadata": {},
   "outputs": [],
   "source": [
    "libraries_processed.to_csv(f\"{DATA_DIR_PROCESSED}/libraries/sg_libraries_geo.csv\", encoding='utf-8-sig', index=False)"
   ]
  },
  {
   "cell_type": "markdown",
   "id": "cabdab47",
   "metadata": {},
   "source": [
    "### Retrieve ATMs"
   ]
  },
  {
   "cell_type": "code",
   "execution_count": 32,
   "id": "86673514",
   "metadata": {},
   "outputs": [
    {
     "data": {
      "text/plain": [
       "<__main__.OneMapEssentialServiceApi at 0x16dc53dd9c8>"
      ]
     },
     "execution_count": 32,
     "metadata": {},
     "output_type": "execute_result"
    }
   ],
   "source": [
    "om_svc = OneMapEssentialServiceApi(EMAIL, PASSWORD, TOKEN_FILE)\n",
    "om_svc"
   ]
  },
  {
   "cell_type": "code",
   "execution_count": null,
   "id": "aa7c5600",
   "metadata": {},
   "outputs": [],
   "source": [
    "res = om_svc.queryEssentialService('retrieveNearbyAtm')\n",
    "res"
   ]
  },
  {
   "cell_type": "code",
   "execution_count": 34,
   "id": "22559e16",
   "metadata": {},
   "outputs": [
    {
     "name": "stdout",
     "output_type": "stream",
     "text": [
      "(516, 8) \n",
      " Index(['NAME', 'ADDRESS', 'LATITUDE', 'LONGITUDE', 'POSTAL_CODE', 'TYPE', 'X',\n",
      "       'Y'],\n",
      "      dtype='object')\n"
     ]
    },
    {
     "data": {
      "text/html": [
       "<div>\n",
       "<style scoped>\n",
       "    .dataframe tbody tr th:only-of-type {\n",
       "        vertical-align: middle;\n",
       "    }\n",
       "\n",
       "    .dataframe tbody tr th {\n",
       "        vertical-align: top;\n",
       "    }\n",
       "\n",
       "    .dataframe thead th {\n",
       "        text-align: right;\n",
       "    }\n",
       "</style>\n",
       "<table border=\"1\" class=\"dataframe\">\n",
       "  <thead>\n",
       "    <tr style=\"text-align: right;\">\n",
       "      <th></th>\n",
       "      <th>NAME</th>\n",
       "      <th>ADDRESS</th>\n",
       "      <th>LATITUDE</th>\n",
       "      <th>LONGITUDE</th>\n",
       "      <th>POSTAL_CODE</th>\n",
       "      <th>TYPE</th>\n",
       "      <th>X</th>\n",
       "      <th>Y</th>\n",
       "    </tr>\n",
       "  </thead>\n",
       "  <tbody>\n",
       "    <tr>\n",
       "      <th>0</th>\n",
       "      <td>STANDARD CHARTERED ATM</td>\n",
       "      <td>391 ORCHARD ROAD #B2-39 TAKASHIMAYA SHOPPING C...</td>\n",
       "      <td>1.30242417200</td>\n",
       "      <td>103.83467610000</td>\n",
       "      <td>238872</td>\n",
       "      <td>STANDARD CHARTERED</td>\n",
       "      <td>28151.082489999997</td>\n",
       "      <td>31640.966</td>\n",
       "    </tr>\n",
       "    <tr>\n",
       "      <th>1</th>\n",
       "      <td>STANDARD CHARTERED ATM</td>\n",
       "      <td>200 VICTORIA STREET B1-K15 BUGIS JUCTION, SING...</td>\n",
       "      <td>1.29901677400</td>\n",
       "      <td>103.85548240000</td>\n",
       "      <td>188021</td>\n",
       "      <td>STANDARD CHARTERED</td>\n",
       "      <td>30466.630589999997</td>\n",
       "      <td>31264.20428</td>\n",
       "    </tr>\n",
       "    <tr>\n",
       "      <th>2</th>\n",
       "      <td>STANDARD CHARTERED ATM</td>\n",
       "      <td>1 HARBOURFRONT WALK #B2-01 VIVOCITY, SINGAPORE...</td>\n",
       "      <td>1.26440913900</td>\n",
       "      <td>103.82217170000</td>\n",
       "      <td>098585</td>\n",
       "      <td>STANDARD CHARTERED</td>\n",
       "      <td>26759.43891</td>\n",
       "      <td>27437.46278</td>\n",
       "    </tr>\n",
       "  </tbody>\n",
       "</table>\n",
       "</div>"
      ],
      "text/plain": [
       "                     NAME                                            ADDRESS  \\\n",
       "0  STANDARD CHARTERED ATM  391 ORCHARD ROAD #B2-39 TAKASHIMAYA SHOPPING C...   \n",
       "1  STANDARD CHARTERED ATM  200 VICTORIA STREET B1-K15 BUGIS JUCTION, SING...   \n",
       "2  STANDARD CHARTERED ATM  1 HARBOURFRONT WALK #B2-01 VIVOCITY, SINGAPORE...   \n",
       "\n",
       "        LATITUDE        LONGITUDE POSTAL_CODE                TYPE  \\\n",
       "0  1.30242417200  103.83467610000      238872  STANDARD CHARTERED   \n",
       "1  1.29901677400  103.85548240000      188021  STANDARD CHARTERED   \n",
       "2  1.26440913900  103.82217170000      098585  STANDARD CHARTERED   \n",
       "\n",
       "                    X            Y  \n",
       "0  28151.082489999997    31640.966  \n",
       "1  30466.630589999997  31264.20428  \n",
       "2         26759.43891  27437.46278  "
      ]
     },
     "metadata": {},
     "output_type": "display_data"
    }
   ],
   "source": [
    "atm = pd.DataFrame(res['SearchResults'])\n",
    "\n",
    "print(atm.shape, '\\n', atm.columns)\n",
    "display(atm.head(3))"
   ]
  },
  {
   "cell_type": "code",
   "execution_count": 35,
   "id": "baaed455",
   "metadata": {},
   "outputs": [],
   "source": [
    "atm.to_csv(f\"{DATA_DIR_RAW}/atm/sg_atm_geo.csv\", encoding='utf-8-sig', index=False)"
   ]
  },
  {
   "cell_type": "code",
   "execution_count": 36,
   "id": "15ff34e6",
   "metadata": {},
   "outputs": [
    {
     "name": "stdout",
     "output_type": "stream",
     "text": [
      "(516, 7) \n",
      " Index(['ATM_ID', 'NAME', 'TYPE', 'ADDRESS', 'POSTAL', 'LATITUDE', 'LONGITUDE'], dtype='object')\n"
     ]
    },
    {
     "data": {
      "text/html": [
       "<div>\n",
       "<style scoped>\n",
       "    .dataframe tbody tr th:only-of-type {\n",
       "        vertical-align: middle;\n",
       "    }\n",
       "\n",
       "    .dataframe tbody tr th {\n",
       "        vertical-align: top;\n",
       "    }\n",
       "\n",
       "    .dataframe thead th {\n",
       "        text-align: right;\n",
       "    }\n",
       "</style>\n",
       "<table border=\"1\" class=\"dataframe\">\n",
       "  <thead>\n",
       "    <tr style=\"text-align: right;\">\n",
       "      <th></th>\n",
       "      <th>ATM_ID</th>\n",
       "      <th>NAME</th>\n",
       "      <th>TYPE</th>\n",
       "      <th>ADDRESS</th>\n",
       "      <th>POSTAL</th>\n",
       "      <th>LATITUDE</th>\n",
       "      <th>LONGITUDE</th>\n",
       "    </tr>\n",
       "  </thead>\n",
       "  <tbody>\n",
       "    <tr>\n",
       "      <th>0</th>\n",
       "      <td>1</td>\n",
       "      <td>STANDARD CHARTERED ATM</td>\n",
       "      <td>STANDARD CHARTERED</td>\n",
       "      <td>391 ORCHARD ROAD #B2-39 TAKASHIMAYA SHOPPING C...</td>\n",
       "      <td>238872</td>\n",
       "      <td>1.30242417200</td>\n",
       "      <td>103.83467610000</td>\n",
       "    </tr>\n",
       "    <tr>\n",
       "      <th>1</th>\n",
       "      <td>2</td>\n",
       "      <td>STANDARD CHARTERED ATM</td>\n",
       "      <td>STANDARD CHARTERED</td>\n",
       "      <td>200 VICTORIA STREET B1-K15 BUGIS JUCTION, SING...</td>\n",
       "      <td>188021</td>\n",
       "      <td>1.29901677400</td>\n",
       "      <td>103.85548240000</td>\n",
       "    </tr>\n",
       "    <tr>\n",
       "      <th>2</th>\n",
       "      <td>3</td>\n",
       "      <td>STANDARD CHARTERED ATM</td>\n",
       "      <td>STANDARD CHARTERED</td>\n",
       "      <td>1 HARBOURFRONT WALK #B2-01 VIVOCITY, SINGAPORE...</td>\n",
       "      <td>098585</td>\n",
       "      <td>1.26440913900</td>\n",
       "      <td>103.82217170000</td>\n",
       "    </tr>\n",
       "  </tbody>\n",
       "</table>\n",
       "</div>"
      ],
      "text/plain": [
       "   ATM_ID                    NAME                TYPE  \\\n",
       "0       1  STANDARD CHARTERED ATM  STANDARD CHARTERED   \n",
       "1       2  STANDARD CHARTERED ATM  STANDARD CHARTERED   \n",
       "2       3  STANDARD CHARTERED ATM  STANDARD CHARTERED   \n",
       "\n",
       "                                             ADDRESS  POSTAL       LATITUDE  \\\n",
       "0  391 ORCHARD ROAD #B2-39 TAKASHIMAYA SHOPPING C...  238872  1.30242417200   \n",
       "1  200 VICTORIA STREET B1-K15 BUGIS JUCTION, SING...  188021  1.29901677400   \n",
       "2  1 HARBOURFRONT WALK #B2-01 VIVOCITY, SINGAPORE...  098585  1.26440913900   \n",
       "\n",
       "         LONGITUDE  \n",
       "0  103.83467610000  \n",
       "1  103.85548240000  \n",
       "2  103.82217170000  "
      ]
     },
     "metadata": {},
     "output_type": "display_data"
    }
   ],
   "source": [
    "atm_processed = deepcopy(atm)\n",
    "\n",
    "atm_processed.drop(['X', 'Y'], axis=1, inplace=True)\n",
    "\n",
    "atm_processed = pd.DataFrame({'ATM_ID': list(range(1, len(atm_processed)+1)), 'NAME': atm_processed.NAME, \n",
    "                              'TYPE': atm_processed.TYPE, 'ADDRESS': atm_processed.ADDRESS, 'POSTAL': atm_processed.POSTAL_CODE, \n",
    "                              'LATITUDE': atm_processed.LATITUDE, 'LONGITUDE': atm_processed.LONGITUDE})\n",
    "\n",
    "print(atm_processed.shape, '\\n', atm_processed.columns)\n",
    "display(atm_processed.head(3))"
   ]
  },
  {
   "cell_type": "code",
   "execution_count": 37,
   "id": "2c76409d",
   "metadata": {},
   "outputs": [],
   "source": [
    "atm_processed.to_csv(f\"{DATA_DIR_PROCESSED}/atm/sg_atm_geo.csv\", encoding='utf-8-sig', index=False)"
   ]
  },
  {
   "cell_type": "markdown",
   "id": "d244a5ff",
   "metadata": {},
   "source": [
    "### Retrieve Convenience Stores"
   ]
  },
  {
   "cell_type": "code",
   "execution_count": 38,
   "id": "a5028da4",
   "metadata": {},
   "outputs": [
    {
     "data": {
      "text/plain": [
       "<__main__.OneMapEssentialServiceApi at 0x16dc5390988>"
      ]
     },
     "execution_count": 38,
     "metadata": {},
     "output_type": "execute_result"
    }
   ],
   "source": [
    "om_svc = OneMapEssentialServiceApi(EMAIL, PASSWORD, TOKEN_FILE)\n",
    "om_svc"
   ]
  },
  {
   "cell_type": "code",
   "execution_count": null,
   "id": "90023506",
   "metadata": {},
   "outputs": [],
   "source": [
    "res = om_svc.queryEssentialService('retrieveNearbyStore')\n",
    "res"
   ]
  },
  {
   "cell_type": "code",
   "execution_count": 40,
   "id": "dc02ae1c",
   "metadata": {},
   "outputs": [
    {
     "name": "stdout",
     "output_type": "stream",
     "text": [
      "(567, 8) \n",
      " Index(['NAME', 'ADDRESS', 'LATITUDE', 'LONGITUDE', 'POSTAL_CODE', 'TYPE', 'X',\n",
      "       'Y'],\n",
      "      dtype='object')\n"
     ]
    },
    {
     "data": {
      "text/html": [
       "<div>\n",
       "<style scoped>\n",
       "    .dataframe tbody tr th:only-of-type {\n",
       "        vertical-align: middle;\n",
       "    }\n",
       "\n",
       "    .dataframe tbody tr th {\n",
       "        vertical-align: top;\n",
       "    }\n",
       "\n",
       "    .dataframe thead th {\n",
       "        text-align: right;\n",
       "    }\n",
       "</style>\n",
       "<table border=\"1\" class=\"dataframe\">\n",
       "  <thead>\n",
       "    <tr style=\"text-align: right;\">\n",
       "      <th></th>\n",
       "      <th>NAME</th>\n",
       "      <th>ADDRESS</th>\n",
       "      <th>LATITUDE</th>\n",
       "      <th>LONGITUDE</th>\n",
       "      <th>POSTAL_CODE</th>\n",
       "      <th>TYPE</th>\n",
       "      <th>X</th>\n",
       "      <th>Y</th>\n",
       "    </tr>\n",
       "  </thead>\n",
       "  <tbody>\n",
       "    <tr>\n",
       "      <th>0</th>\n",
       "      <td>KIM ENG MINI SUPERMARKET</td>\n",
       "      <td>103 YISHUN RING ROAD ,  #01-79, SINGAPORE 760103</td>\n",
       "      <td>1.43136935000</td>\n",
       "      <td>103.82889280000</td>\n",
       "      <td>760103</td>\n",
       "      <td>NEW ECON MINIMART</td>\n",
       "      <td>27507.48255</td>\n",
       "      <td>45899.067610000006</td>\n",
       "    </tr>\n",
       "    <tr>\n",
       "      <th>1</th>\n",
       "      <td>FAIR MART SUPERSTORE</td>\n",
       "      <td>297 COMPASSVALE STREET, #01-01, SINGAPORE 540297</td>\n",
       "      <td>1.39522747100</td>\n",
       "      <td>103.89983450000</td>\n",
       "      <td>540297</td>\n",
       "      <td>NEW ECON MINIMART</td>\n",
       "      <td>35402.34231</td>\n",
       "      <td>41902.78527</td>\n",
       "    </tr>\n",
       "    <tr>\n",
       "      <th>2</th>\n",
       "      <td>1588 LE PTE LTD</td>\n",
       "      <td>158B RIVERVALE CRESCENT, #01-695, SINGAPORE 54...</td>\n",
       "      <td>1.38841338000</td>\n",
       "      <td>103.90667620000</td>\n",
       "      <td>542158</td>\n",
       "      <td>NEW ECON MINIMART</td>\n",
       "      <td>36163.75154</td>\n",
       "      <td>41149.33963</td>\n",
       "    </tr>\n",
       "  </tbody>\n",
       "</table>\n",
       "</div>"
      ],
      "text/plain": [
       "                       NAME  \\\n",
       "0  KIM ENG MINI SUPERMARKET   \n",
       "1      FAIR MART SUPERSTORE   \n",
       "2           1588 LE PTE LTD   \n",
       "\n",
       "                                             ADDRESS       LATITUDE  \\\n",
       "0   103 YISHUN RING ROAD ,  #01-79, SINGAPORE 760103  1.43136935000   \n",
       "1   297 COMPASSVALE STREET, #01-01, SINGAPORE 540297  1.39522747100   \n",
       "2  158B RIVERVALE CRESCENT, #01-695, SINGAPORE 54...  1.38841338000   \n",
       "\n",
       "         LONGITUDE POSTAL_CODE               TYPE            X  \\\n",
       "0  103.82889280000      760103  NEW ECON MINIMART  27507.48255   \n",
       "1  103.89983450000      540297  NEW ECON MINIMART  35402.34231   \n",
       "2  103.90667620000      542158  NEW ECON MINIMART  36163.75154   \n",
       "\n",
       "                    Y  \n",
       "0  45899.067610000006  \n",
       "1         41902.78527  \n",
       "2         41149.33963  "
      ]
     },
     "metadata": {},
     "output_type": "display_data"
    }
   ],
   "source": [
    "stores = pd.DataFrame(res['SearchResults'])\n",
    "\n",
    "print(stores.shape, '\\n', stores.columns)\n",
    "display(stores.head(3))"
   ]
  },
  {
   "cell_type": "code",
   "execution_count": 41,
   "id": "000087e5",
   "metadata": {},
   "outputs": [],
   "source": [
    "stores.to_csv(f\"{DATA_DIR_RAW}/stores/sg_stores_geo.csv\", encoding='utf-8-sig', index=False)"
   ]
  },
  {
   "cell_type": "code",
   "execution_count": 42,
   "id": "b3eeb491",
   "metadata": {},
   "outputs": [
    {
     "name": "stdout",
     "output_type": "stream",
     "text": [
      "(567, 7) \n",
      " Index(['STORE_ID', 'NAME', 'TYPE', 'ADDRESS', 'POSTAL', 'LATITUDE',\n",
      "       'LONGITUDE'],\n",
      "      dtype='object')\n"
     ]
    },
    {
     "data": {
      "text/html": [
       "<div>\n",
       "<style scoped>\n",
       "    .dataframe tbody tr th:only-of-type {\n",
       "        vertical-align: middle;\n",
       "    }\n",
       "\n",
       "    .dataframe tbody tr th {\n",
       "        vertical-align: top;\n",
       "    }\n",
       "\n",
       "    .dataframe thead th {\n",
       "        text-align: right;\n",
       "    }\n",
       "</style>\n",
       "<table border=\"1\" class=\"dataframe\">\n",
       "  <thead>\n",
       "    <tr style=\"text-align: right;\">\n",
       "      <th></th>\n",
       "      <th>STORE_ID</th>\n",
       "      <th>NAME</th>\n",
       "      <th>TYPE</th>\n",
       "      <th>ADDRESS</th>\n",
       "      <th>POSTAL</th>\n",
       "      <th>LATITUDE</th>\n",
       "      <th>LONGITUDE</th>\n",
       "    </tr>\n",
       "  </thead>\n",
       "  <tbody>\n",
       "    <tr>\n",
       "      <th>0</th>\n",
       "      <td>1</td>\n",
       "      <td>KIM ENG MINI SUPERMARKET</td>\n",
       "      <td>NEW ECON MINIMART</td>\n",
       "      <td>103 YISHUN RING ROAD ,  #01-79, SINGAPORE 760103</td>\n",
       "      <td>760103</td>\n",
       "      <td>1.43136935000</td>\n",
       "      <td>103.82889280000</td>\n",
       "    </tr>\n",
       "    <tr>\n",
       "      <th>1</th>\n",
       "      <td>2</td>\n",
       "      <td>FAIR MART SUPERSTORE</td>\n",
       "      <td>NEW ECON MINIMART</td>\n",
       "      <td>297 COMPASSVALE STREET, #01-01, SINGAPORE 540297</td>\n",
       "      <td>540297</td>\n",
       "      <td>1.39522747100</td>\n",
       "      <td>103.89983450000</td>\n",
       "    </tr>\n",
       "    <tr>\n",
       "      <th>2</th>\n",
       "      <td>3</td>\n",
       "      <td>1588 LE PTE LTD</td>\n",
       "      <td>NEW ECON MINIMART</td>\n",
       "      <td>158B RIVERVALE CRESCENT, #01-695, SINGAPORE 54...</td>\n",
       "      <td>542158</td>\n",
       "      <td>1.38841338000</td>\n",
       "      <td>103.90667620000</td>\n",
       "    </tr>\n",
       "  </tbody>\n",
       "</table>\n",
       "</div>"
      ],
      "text/plain": [
       "   STORE_ID                      NAME               TYPE  \\\n",
       "0         1  KIM ENG MINI SUPERMARKET  NEW ECON MINIMART   \n",
       "1         2      FAIR MART SUPERSTORE  NEW ECON MINIMART   \n",
       "2         3           1588 LE PTE LTD  NEW ECON MINIMART   \n",
       "\n",
       "                                             ADDRESS  POSTAL       LATITUDE  \\\n",
       "0   103 YISHUN RING ROAD ,  #01-79, SINGAPORE 760103  760103  1.43136935000   \n",
       "1   297 COMPASSVALE STREET, #01-01, SINGAPORE 540297  540297  1.39522747100   \n",
       "2  158B RIVERVALE CRESCENT, #01-695, SINGAPORE 54...  542158  1.38841338000   \n",
       "\n",
       "         LONGITUDE  \n",
       "0  103.82889280000  \n",
       "1  103.89983450000  \n",
       "2  103.90667620000  "
      ]
     },
     "metadata": {},
     "output_type": "display_data"
    }
   ],
   "source": [
    "stores_processed = deepcopy(stores)\n",
    "\n",
    "stores_processed.drop(['X', 'Y'], axis=1, inplace=True)\n",
    "\n",
    "stores_processed = pd.DataFrame({'STORE_ID': list(range(1, len(stores_processed)+1)), 'NAME': stores_processed.NAME, \n",
    "                                 'TYPE': stores_processed.TYPE, 'ADDRESS': stores_processed.ADDRESS, 'POSTAL': stores_processed.POSTAL_CODE, \n",
    "                                 'LATITUDE': stores_processed.LATITUDE, 'LONGITUDE': stores_processed.LONGITUDE})\n",
    "\n",
    "print(stores_processed.shape, '\\n', stores_processed.columns)\n",
    "display(stores_processed.head(3))"
   ]
  },
  {
   "cell_type": "code",
   "execution_count": 43,
   "id": "1dd93089",
   "metadata": {},
   "outputs": [],
   "source": [
    "stores_processed.to_csv(f\"{DATA_DIR_PROCESSED}/stores/sg_stores_geo.csv\", encoding='utf-8-sig', index=False)"
   ]
  },
  {
   "cell_type": "markdown",
   "id": "e7ac1085",
   "metadata": {},
   "source": [
    "### Retrieve Post Offices"
   ]
  },
  {
   "cell_type": "code",
   "execution_count": 44,
   "id": "29bba228",
   "metadata": {},
   "outputs": [
    {
     "data": {
      "text/plain": [
       "<__main__.OneMapEssentialServiceApi at 0x16dc54cc048>"
      ]
     },
     "execution_count": 44,
     "metadata": {},
     "output_type": "execute_result"
    }
   ],
   "source": [
    "om_svc = OneMapEssentialServiceApi(EMAIL, PASSWORD, TOKEN_FILE)\n",
    "om_svc"
   ]
  },
  {
   "cell_type": "code",
   "execution_count": null,
   "id": "4fcfc82a",
   "metadata": {},
   "outputs": [],
   "source": [
    "res = om_svc.queryEssentialService('retrieveNearbyPostOffice')\n",
    "res"
   ]
  },
  {
   "cell_type": "code",
   "execution_count": 46,
   "id": "9dacd586",
   "metadata": {},
   "outputs": [
    {
     "name": "stdout",
     "output_type": "stream",
     "text": [
      "(24, 7) \n",
      " Index(['NAME', 'ADDRESS', 'LATITUDE', 'LONGITUDE', 'POSTAL_CODE', 'X', 'Y'], dtype='object')\n"
     ]
    },
    {
     "data": {
      "text/html": [
       "<div>\n",
       "<style scoped>\n",
       "    .dataframe tbody tr th:only-of-type {\n",
       "        vertical-align: middle;\n",
       "    }\n",
       "\n",
       "    .dataframe tbody tr th {\n",
       "        vertical-align: top;\n",
       "    }\n",
       "\n",
       "    .dataframe thead th {\n",
       "        text-align: right;\n",
       "    }\n",
       "</style>\n",
       "<table border=\"1\" class=\"dataframe\">\n",
       "  <thead>\n",
       "    <tr style=\"text-align: right;\">\n",
       "      <th></th>\n",
       "      <th>NAME</th>\n",
       "      <th>ADDRESS</th>\n",
       "      <th>LATITUDE</th>\n",
       "      <th>LONGITUDE</th>\n",
       "      <th>POSTAL_CODE</th>\n",
       "      <th>X</th>\n",
       "      <th>Y</th>\n",
       "    </tr>\n",
       "  </thead>\n",
       "  <tbody>\n",
       "    <tr>\n",
       "      <th>0</th>\n",
       "      <td>ALEXANDRA</td>\n",
       "      <td>110 ALEXANDRA ROAD #01-01, SINGAPORE 159921</td>\n",
       "      <td>1.29148720200</td>\n",
       "      <td>103.81982700000</td>\n",
       "      <td>159921</td>\n",
       "      <td>26498.5011</td>\n",
       "      <td>30431.61625</td>\n",
       "    </tr>\n",
       "    <tr>\n",
       "      <th>1</th>\n",
       "      <td>ANG MO KIO CENTRAL</td>\n",
       "      <td>727 ANG MO KIO AVE 6 #01-4246, SINGAPORE 560727</td>\n",
       "      <td>1.37265516300</td>\n",
       "      <td>103.84606330000</td>\n",
       "      <td>560727</td>\n",
       "      <td>29418.32948</td>\n",
       "      <td>39406.75318</td>\n",
       "    </tr>\n",
       "    <tr>\n",
       "      <th>2</th>\n",
       "      <td>BEDOK CENTRAL</td>\n",
       "      <td>218 BEDOK NORTH ST. 1 #01-49, SINGAPORE 460218</td>\n",
       "      <td>1.32749295500</td>\n",
       "      <td>103.93424940000</td>\n",
       "      <td>460218</td>\n",
       "      <td>39232.58188</td>\n",
       "      <td>34413.17234</td>\n",
       "    </tr>\n",
       "  </tbody>\n",
       "</table>\n",
       "</div>"
      ],
      "text/plain": [
       "                 NAME                                          ADDRESS  \\\n",
       "0           ALEXANDRA      110 ALEXANDRA ROAD #01-01, SINGAPORE 159921   \n",
       "1  ANG MO KIO CENTRAL  727 ANG MO KIO AVE 6 #01-4246, SINGAPORE 560727   \n",
       "2       BEDOK CENTRAL   218 BEDOK NORTH ST. 1 #01-49, SINGAPORE 460218   \n",
       "\n",
       "        LATITUDE        LONGITUDE POSTAL_CODE            X            Y  \n",
       "0  1.29148720200  103.81982700000      159921   26498.5011  30431.61625  \n",
       "1  1.37265516300  103.84606330000      560727  29418.32948  39406.75318  \n",
       "2  1.32749295500  103.93424940000      460218  39232.58188  34413.17234  "
      ]
     },
     "metadata": {},
     "output_type": "display_data"
    }
   ],
   "source": [
    "po = pd.DataFrame(res['SearchResults'])\n",
    "\n",
    "print(po.shape, '\\n', po.columns)\n",
    "display(po.head(3))"
   ]
  },
  {
   "cell_type": "code",
   "execution_count": 47,
   "id": "2582876c",
   "metadata": {},
   "outputs": [],
   "source": [
    "po.to_csv(f\"{DATA_DIR_RAW}/post_offices/sg_post_offices_geo.csv\", encoding='utf-8-sig', index=False)"
   ]
  },
  {
   "cell_type": "code",
   "execution_count": 48,
   "id": "e5475106",
   "metadata": {},
   "outputs": [
    {
     "name": "stdout",
     "output_type": "stream",
     "text": [
      "(24, 6) \n",
      " Index(['PO_ID', 'NAME', 'ADDRESS', 'POSTAL', 'LATITUDE', 'LONGITUDE'], dtype='object')\n"
     ]
    },
    {
     "data": {
      "text/html": [
       "<div>\n",
       "<style scoped>\n",
       "    .dataframe tbody tr th:only-of-type {\n",
       "        vertical-align: middle;\n",
       "    }\n",
       "\n",
       "    .dataframe tbody tr th {\n",
       "        vertical-align: top;\n",
       "    }\n",
       "\n",
       "    .dataframe thead th {\n",
       "        text-align: right;\n",
       "    }\n",
       "</style>\n",
       "<table border=\"1\" class=\"dataframe\">\n",
       "  <thead>\n",
       "    <tr style=\"text-align: right;\">\n",
       "      <th></th>\n",
       "      <th>PO_ID</th>\n",
       "      <th>NAME</th>\n",
       "      <th>ADDRESS</th>\n",
       "      <th>POSTAL</th>\n",
       "      <th>LATITUDE</th>\n",
       "      <th>LONGITUDE</th>\n",
       "    </tr>\n",
       "  </thead>\n",
       "  <tbody>\n",
       "    <tr>\n",
       "      <th>0</th>\n",
       "      <td>1</td>\n",
       "      <td>ALEXANDRA</td>\n",
       "      <td>110 ALEXANDRA ROAD #01-01, SINGAPORE 159921</td>\n",
       "      <td>159921</td>\n",
       "      <td>1.29148720200</td>\n",
       "      <td>103.81982700000</td>\n",
       "    </tr>\n",
       "    <tr>\n",
       "      <th>1</th>\n",
       "      <td>2</td>\n",
       "      <td>ANG MO KIO CENTRAL</td>\n",
       "      <td>727 ANG MO KIO AVE 6 #01-4246, SINGAPORE 560727</td>\n",
       "      <td>560727</td>\n",
       "      <td>1.37265516300</td>\n",
       "      <td>103.84606330000</td>\n",
       "    </tr>\n",
       "    <tr>\n",
       "      <th>2</th>\n",
       "      <td>3</td>\n",
       "      <td>BEDOK CENTRAL</td>\n",
       "      <td>218 BEDOK NORTH ST. 1 #01-49, SINGAPORE 460218</td>\n",
       "      <td>460218</td>\n",
       "      <td>1.32749295500</td>\n",
       "      <td>103.93424940000</td>\n",
       "    </tr>\n",
       "  </tbody>\n",
       "</table>\n",
       "</div>"
      ],
      "text/plain": [
       "   PO_ID                NAME                                          ADDRESS  \\\n",
       "0      1           ALEXANDRA      110 ALEXANDRA ROAD #01-01, SINGAPORE 159921   \n",
       "1      2  ANG MO KIO CENTRAL  727 ANG MO KIO AVE 6 #01-4246, SINGAPORE 560727   \n",
       "2      3       BEDOK CENTRAL   218 BEDOK NORTH ST. 1 #01-49, SINGAPORE 460218   \n",
       "\n",
       "   POSTAL       LATITUDE        LONGITUDE  \n",
       "0  159921  1.29148720200  103.81982700000  \n",
       "1  560727  1.37265516300  103.84606330000  \n",
       "2  460218  1.32749295500  103.93424940000  "
      ]
     },
     "metadata": {},
     "output_type": "display_data"
    }
   ],
   "source": [
    "po_processed = deepcopy(po)\n",
    "\n",
    "po_processed.drop(['X', 'Y'], axis=1, inplace=True)\n",
    "\n",
    "po_processed = pd.DataFrame({'PO_ID': list(range(1, len(po_processed)+1)), 'NAME': po_processed.NAME, \n",
    "                             'ADDRESS': po_processed.ADDRESS, 'POSTAL': po_processed.POSTAL_CODE, \n",
    "                             'LATITUDE': po_processed.LATITUDE, 'LONGITUDE': po_processed.LONGITUDE})\n",
    "\n",
    "print(po_processed.shape, '\\n', po_processed.columns)\n",
    "display(po_processed.head(3))"
   ]
  },
  {
   "cell_type": "code",
   "execution_count": 49,
   "id": "07c4a532",
   "metadata": {},
   "outputs": [],
   "source": [
    "po_processed.to_csv(f\"{DATA_DIR_PROCESSED}/post_offices/sg_post_offices_geo.csv\", encoding='utf-8-sig', index=False)"
   ]
  },
  {
   "cell_type": "markdown",
   "id": "63ae0601",
   "metadata": {},
   "source": [
    "### Retrieve Bus Stops"
   ]
  },
  {
   "cell_type": "code",
   "execution_count": 5,
   "id": "4a955947",
   "metadata": {},
   "outputs": [],
   "source": [
    "LTA_DATA_MALL_KEY = pd.read_csv('C:/Users/Hari/Desktop/CS3244/lta_datamall_token.txt', header=None).iloc[0][0]"
   ]
  },
  {
   "cell_type": "code",
   "execution_count": 6,
   "id": "d501baf7",
   "metadata": {},
   "outputs": [
    {
     "name": "stdout",
     "output_type": "stream",
     "text": [
      "(4571, 5) \n",
      " Index(['BusStopCode', 'RoadName', 'Description', 'Latitude', 'Longitude'], dtype='object')\n"
     ]
    },
    {
     "data": {
      "text/html": [
       "<div>\n",
       "<style scoped>\n",
       "    .dataframe tbody tr th:only-of-type {\n",
       "        vertical-align: middle;\n",
       "    }\n",
       "\n",
       "    .dataframe tbody tr th {\n",
       "        vertical-align: top;\n",
       "    }\n",
       "\n",
       "    .dataframe thead th {\n",
       "        text-align: right;\n",
       "    }\n",
       "</style>\n",
       "<table border=\"1\" class=\"dataframe\">\n",
       "  <thead>\n",
       "    <tr style=\"text-align: right;\">\n",
       "      <th></th>\n",
       "      <th>BusStopCode</th>\n",
       "      <th>RoadName</th>\n",
       "      <th>Description</th>\n",
       "      <th>Latitude</th>\n",
       "      <th>Longitude</th>\n",
       "    </tr>\n",
       "  </thead>\n",
       "  <tbody>\n",
       "    <tr>\n",
       "      <th>0</th>\n",
       "      <td>14051</td>\n",
       "      <td>Henderson Rd</td>\n",
       "      <td>Aft Telok Blangah Hts</td>\n",
       "      <td>1.275847</td>\n",
       "      <td>103.815157</td>\n",
       "    </tr>\n",
       "    <tr>\n",
       "      <th>1</th>\n",
       "      <td>14059</td>\n",
       "      <td>Henderson Rd</td>\n",
       "      <td>Bef Telok Blangah Hts</td>\n",
       "      <td>1.276025</td>\n",
       "      <td>103.815613</td>\n",
       "    </tr>\n",
       "    <tr>\n",
       "      <th>2</th>\n",
       "      <td>14061</td>\n",
       "      <td>Keppel Rd</td>\n",
       "      <td>Opp Former Railway Stn</td>\n",
       "      <td>1.272313</td>\n",
       "      <td>103.838620</td>\n",
       "    </tr>\n",
       "  </tbody>\n",
       "</table>\n",
       "</div>"
      ],
      "text/plain": [
       "  BusStopCode      RoadName             Description  Latitude   Longitude\n",
       "0       14051  Henderson Rd   Aft Telok Blangah Hts  1.275847  103.815157\n",
       "1       14059  Henderson Rd   Bef Telok Blangah Hts  1.276025  103.815613\n",
       "2       14061     Keppel Rd  Opp Former Railway Stn  1.272313  103.838620"
      ]
     },
     "metadata": {},
     "output_type": "display_data"
    }
   ],
   "source": [
    "bus_stops_list = []\n",
    "\n",
    "for i in range(1, 5500//500):\n",
    "    res = requests.get(f\"http://datamall2.mytransport.sg/ltaodataservice/BusStops?$skip={i*500}\", headers=_headers(AccountKey=LTA_DATA_MALL_KEY))\n",
    "    bus_stops_list.extend(res.json()['value'])\n",
    "\n",
    "bus_stops = pd.DataFrame(bus_stops_list)\n",
    "\n",
    "print(bus_stops.shape, '\\n', bus_stops.columns)\n",
    "display(bus_stops.head(3))"
   ]
  },
  {
   "cell_type": "code",
   "execution_count": 7,
   "id": "b62af3e9",
   "metadata": {},
   "outputs": [],
   "source": [
    "bus_stops.to_csv(f\"{DATA_DIR_RAW}/bus_stops/sg_bus_stops_geo.csv\", encoding='utf-8-sig', index=False)"
   ]
  },
  {
   "cell_type": "code",
   "execution_count": 8,
   "id": "a579e9b3",
   "metadata": {},
   "outputs": [
    {
     "name": "stdout",
     "output_type": "stream",
     "text": [
      "(4571, 5) \n",
      " Index(['CODE', 'STREET_NAME', 'DESCRIPTION', 'LATITUDE', 'LONGITUDE'], dtype='object')\n"
     ]
    },
    {
     "data": {
      "text/html": [
       "<div>\n",
       "<style scoped>\n",
       "    .dataframe tbody tr th:only-of-type {\n",
       "        vertical-align: middle;\n",
       "    }\n",
       "\n",
       "    .dataframe tbody tr th {\n",
       "        vertical-align: top;\n",
       "    }\n",
       "\n",
       "    .dataframe thead th {\n",
       "        text-align: right;\n",
       "    }\n",
       "</style>\n",
       "<table border=\"1\" class=\"dataframe\">\n",
       "  <thead>\n",
       "    <tr style=\"text-align: right;\">\n",
       "      <th></th>\n",
       "      <th>CODE</th>\n",
       "      <th>STREET_NAME</th>\n",
       "      <th>DESCRIPTION</th>\n",
       "      <th>LATITUDE</th>\n",
       "      <th>LONGITUDE</th>\n",
       "    </tr>\n",
       "  </thead>\n",
       "  <tbody>\n",
       "    <tr>\n",
       "      <th>0</th>\n",
       "      <td>14051</td>\n",
       "      <td>HENDERSON RD</td>\n",
       "      <td>AFT TELOK BLANGAH HTS</td>\n",
       "      <td>1.275847</td>\n",
       "      <td>103.815157</td>\n",
       "    </tr>\n",
       "    <tr>\n",
       "      <th>1</th>\n",
       "      <td>14059</td>\n",
       "      <td>HENDERSON RD</td>\n",
       "      <td>BEF TELOK BLANGAH HTS</td>\n",
       "      <td>1.276025</td>\n",
       "      <td>103.815613</td>\n",
       "    </tr>\n",
       "    <tr>\n",
       "      <th>2</th>\n",
       "      <td>14061</td>\n",
       "      <td>KEPPEL RD</td>\n",
       "      <td>OPP FORMER RAILWAY STN</td>\n",
       "      <td>1.272313</td>\n",
       "      <td>103.838620</td>\n",
       "    </tr>\n",
       "  </tbody>\n",
       "</table>\n",
       "</div>"
      ],
      "text/plain": [
       "    CODE   STREET_NAME             DESCRIPTION  LATITUDE   LONGITUDE\n",
       "0  14051  HENDERSON RD   AFT TELOK BLANGAH HTS  1.275847  103.815157\n",
       "1  14059  HENDERSON RD   BEF TELOK BLANGAH HTS  1.276025  103.815613\n",
       "2  14061     KEPPEL RD  OPP FORMER RAILWAY STN  1.272313  103.838620"
      ]
     },
     "metadata": {},
     "output_type": "display_data"
    }
   ],
   "source": [
    "bus_stops_processed = deepcopy(bus_stops)\n",
    "\n",
    "bus_stops_processed.columns = bus_stops_processed.columns.str.upper()\n",
    "\n",
    "bus_stops_processed.rename({'BUSSTOPCODE': 'CODE', 'ROADNAME': 'STREET_NAME'}, axis=1, inplace=True)\n",
    "\n",
    "bus_stops_processed.STREET_NAME = bus_stops_processed.STREET_NAME.str.upper()\n",
    "bus_stops_processed.DESCRIPTION = bus_stops_processed.DESCRIPTION.str.upper()\n",
    "\n",
    "print(bus_stops_processed.shape, '\\n', bus_stops_processed.columns)\n",
    "display(bus_stops_processed.head(3))"
   ]
  },
  {
   "cell_type": "code",
   "execution_count": 9,
   "id": "d25772cb",
   "metadata": {},
   "outputs": [],
   "source": [
    "bus_stops_processed.to_csv(f\"{DATA_DIR_PROCESSED}/bus_stops/sg_bus_stops_geo.csv\", encoding='utf-8-sig', index=False)"
   ]
  },
  {
   "cell_type": "markdown",
   "id": "79f3de68",
   "metadata": {},
   "source": [
    "### Geocode Transacted Properties"
   ]
  },
  {
   "cell_type": "code",
   "execution_count": 5,
   "id": "48b137e0",
   "metadata": {},
   "outputs": [
    {
     "name": "stdout",
     "output_type": "stream",
     "text": [
      "(880848, 11) \n",
      " Index(['month', 'town', 'flat_type', 'block', 'street_name', 'storey_range',\n",
      "       'floor_area_sqm', 'flat_model', 'lease_commence_date', 'resale_price',\n",
      "       'remaining_lease'],\n",
      "      dtype='object')\n"
     ]
    },
    {
     "name": "stderr",
     "output_type": "stream",
     "text": [
      "C:\\Users\\Hari\\anaconda3\\envs\\realestate\\lib\\site-packages\\IPython\\core\\interactiveshell.py:3170: DtypeWarning: Columns (10) have mixed types.Specify dtype option on import or set low_memory=False.\n",
      "  interactivity=interactivity, compiler=compiler, result=result)\n"
     ]
    },
    {
     "data": {
      "text/html": [
       "<div>\n",
       "<style scoped>\n",
       "    .dataframe tbody tr th:only-of-type {\n",
       "        vertical-align: middle;\n",
       "    }\n",
       "\n",
       "    .dataframe tbody tr th {\n",
       "        vertical-align: top;\n",
       "    }\n",
       "\n",
       "    .dataframe thead th {\n",
       "        text-align: right;\n",
       "    }\n",
       "</style>\n",
       "<table border=\"1\" class=\"dataframe\">\n",
       "  <thead>\n",
       "    <tr style=\"text-align: right;\">\n",
       "      <th></th>\n",
       "      <th>month</th>\n",
       "      <th>town</th>\n",
       "      <th>flat_type</th>\n",
       "      <th>block</th>\n",
       "      <th>street_name</th>\n",
       "      <th>storey_range</th>\n",
       "      <th>floor_area_sqm</th>\n",
       "      <th>flat_model</th>\n",
       "      <th>lease_commence_date</th>\n",
       "      <th>resale_price</th>\n",
       "      <th>remaining_lease</th>\n",
       "    </tr>\n",
       "  </thead>\n",
       "  <tbody>\n",
       "    <tr>\n",
       "      <th>0</th>\n",
       "      <td>1990-01</td>\n",
       "      <td>ANG MO KIO</td>\n",
       "      <td>1 ROOM</td>\n",
       "      <td>309</td>\n",
       "      <td>ANG MO KIO AVE 1</td>\n",
       "      <td>10 TO 12</td>\n",
       "      <td>31.0</td>\n",
       "      <td>IMPROVED</td>\n",
       "      <td>1977</td>\n",
       "      <td>9000.0</td>\n",
       "      <td>NaN</td>\n",
       "    </tr>\n",
       "    <tr>\n",
       "      <th>1</th>\n",
       "      <td>1990-01</td>\n",
       "      <td>ANG MO KIO</td>\n",
       "      <td>1 ROOM</td>\n",
       "      <td>309</td>\n",
       "      <td>ANG MO KIO AVE 1</td>\n",
       "      <td>04 TO 06</td>\n",
       "      <td>31.0</td>\n",
       "      <td>IMPROVED</td>\n",
       "      <td>1977</td>\n",
       "      <td>6000.0</td>\n",
       "      <td>NaN</td>\n",
       "    </tr>\n",
       "    <tr>\n",
       "      <th>2</th>\n",
       "      <td>1990-01</td>\n",
       "      <td>ANG MO KIO</td>\n",
       "      <td>1 ROOM</td>\n",
       "      <td>309</td>\n",
       "      <td>ANG MO KIO AVE 1</td>\n",
       "      <td>10 TO 12</td>\n",
       "      <td>31.0</td>\n",
       "      <td>IMPROVED</td>\n",
       "      <td>1977</td>\n",
       "      <td>8000.0</td>\n",
       "      <td>NaN</td>\n",
       "    </tr>\n",
       "  </tbody>\n",
       "</table>\n",
       "</div>"
      ],
      "text/plain": [
       "     month        town flat_type block       street_name storey_range  \\\n",
       "0  1990-01  ANG MO KIO    1 ROOM   309  ANG MO KIO AVE 1     10 TO 12   \n",
       "1  1990-01  ANG MO KIO    1 ROOM   309  ANG MO KIO AVE 1     04 TO 06   \n",
       "2  1990-01  ANG MO KIO    1 ROOM   309  ANG MO KIO AVE 1     10 TO 12   \n",
       "\n",
       "   floor_area_sqm flat_model  lease_commence_date  resale_price  \\\n",
       "0            31.0   IMPROVED                 1977        9000.0   \n",
       "1            31.0   IMPROVED                 1977        6000.0   \n",
       "2            31.0   IMPROVED                 1977        8000.0   \n",
       "\n",
       "  remaining_lease  \n",
       "0             NaN  \n",
       "1             NaN  \n",
       "2             NaN  "
      ]
     },
     "metadata": {},
     "output_type": "display_data"
    }
   ],
   "source": [
    "df = pd.read_csv('./data_processed/resale_flat_prices/resale_flat_prices_all.csv')\n",
    "\n",
    "print(df.shape, '\\n', df.columns)\n",
    "display(df.head(3))"
   ]
  },
  {
   "cell_type": "code",
   "execution_count": 6,
   "id": "9c5e2598",
   "metadata": {},
   "outputs": [
    {
     "name": "stdout",
     "output_type": "stream",
     "text": [
      "(9602, 3) \n",
      " Index(['block', 'street_name', 'address'], dtype='object')\n"
     ]
    },
    {
     "data": {
      "text/html": [
       "<div>\n",
       "<style scoped>\n",
       "    .dataframe tbody tr th:only-of-type {\n",
       "        vertical-align: middle;\n",
       "    }\n",
       "\n",
       "    .dataframe tbody tr th {\n",
       "        vertical-align: top;\n",
       "    }\n",
       "\n",
       "    .dataframe thead th {\n",
       "        text-align: right;\n",
       "    }\n",
       "</style>\n",
       "<table border=\"1\" class=\"dataframe\">\n",
       "  <thead>\n",
       "    <tr style=\"text-align: right;\">\n",
       "      <th></th>\n",
       "      <th>block</th>\n",
       "      <th>street_name</th>\n",
       "      <th>address</th>\n",
       "    </tr>\n",
       "  </thead>\n",
       "  <tbody>\n",
       "    <tr>\n",
       "      <th>0</th>\n",
       "      <td>309</td>\n",
       "      <td>ANG MO KIO AVE 1</td>\n",
       "      <td>BLOCK 309 ANG MO KIO AVE 1</td>\n",
       "    </tr>\n",
       "    <tr>\n",
       "      <th>4</th>\n",
       "      <td>216</td>\n",
       "      <td>ANG MO KIO AVE 1</td>\n",
       "      <td>BLOCK 216 ANG MO KIO AVE 1</td>\n",
       "    </tr>\n",
       "    <tr>\n",
       "      <th>5</th>\n",
       "      <td>211</td>\n",
       "      <td>ANG MO KIO AVE 3</td>\n",
       "      <td>BLOCK 211 ANG MO KIO AVE 3</td>\n",
       "    </tr>\n",
       "  </tbody>\n",
       "</table>\n",
       "</div>"
      ],
      "text/plain": [
       "  block       street_name                     address\n",
       "0   309  ANG MO KIO AVE 1  BLOCK 309 ANG MO KIO AVE 1\n",
       "4   216  ANG MO KIO AVE 1  BLOCK 216 ANG MO KIO AVE 1\n",
       "5   211  ANG MO KIO AVE 3  BLOCK 211 ANG MO KIO AVE 3"
      ]
     },
     "metadata": {},
     "output_type": "display_data"
    }
   ],
   "source": [
    "building = df[~df.duplicated(['block', 'street_name'])][['block', 'street_name']]\n",
    "building['address'] = 'BLOCK ' + building.block + ' ' + building.street_name\n",
    "\n",
    "print(building.shape, '\\n', building.columns)\n",
    "display(building.head(3))"
   ]
  },
  {
   "cell_type": "code",
   "execution_count": 7,
   "id": "d4491e43",
   "metadata": {},
   "outputs": [],
   "source": [
    "GOOGLE_MAPS_KEY = pd.read_csv('C:/Users/Hari/Desktop/CS3244/google_maps_token.txt', header=None).iloc[0][0]"
   ]
  },
  {
   "cell_type": "code",
   "execution_count": 8,
   "id": "ab78075a",
   "metadata": {},
   "outputs": [
    {
     "data": {
      "text/plain": [
       "<googlemaps.client.Client at 0x1adf95de988>"
      ]
     },
     "execution_count": 8,
     "metadata": {},
     "output_type": "execute_result"
    }
   ],
   "source": [
    "gmaps = googlemaps.Client(key = GOOGLE_MAPS_KEY)\n",
    "gmaps"
   ]
  },
  {
   "cell_type": "code",
   "execution_count": null,
   "id": "699f6e7f",
   "metadata": {
    "scrolled": true
   },
   "outputs": [],
   "source": [
    "building_latitudes = []\n",
    "building_longitudes = []\n",
    "missed_addresses = []\n",
    "\n",
    "for i, address in enumerate(building.address):\n",
    "    print(f\"Trying address {i+1}, {address}\")\n",
    "    res = gmaps.geocode(address)\n",
    "    \n",
    "    if (i%40 == 0):\n",
    "        time.sleep(2)\n",
    "    \n",
    "    try:\n",
    "        lat = res[0]['geometry']['location']['lat']\n",
    "        lng = res[0]['geometry']['location']['lng']\n",
    "        building_latitudes.append(lat)\n",
    "        building_longitudes.append(lng)\n",
    "        print(f\"{address} success!\")\n",
    "    except Exception as e:\n",
    "        print(e)\n",
    "        print(f\"{address} failed!\")\n",
    "        missed_addresses.append(address)\n",
    "        building_latitudes.append(None)\n",
    "        building_longitudes.append(None)\n",
    "\n",
    "print(f\"Missed Addresses: {missed_addresses}\")"
   ]
  },
  {
   "cell_type": "code",
   "execution_count": 24,
   "id": "507c24ab",
   "metadata": {},
   "outputs": [
    {
     "name": "stdout",
     "output_type": "stream",
     "text": [
      "(9602, 5) \n",
      " Index(['block', 'street_name', 'address', 'latitude', 'longitude'], dtype='object')\n"
     ]
    },
    {
     "data": {
      "text/html": [
       "<div>\n",
       "<style scoped>\n",
       "    .dataframe tbody tr th:only-of-type {\n",
       "        vertical-align: middle;\n",
       "    }\n",
       "\n",
       "    .dataframe tbody tr th {\n",
       "        vertical-align: top;\n",
       "    }\n",
       "\n",
       "    .dataframe thead th {\n",
       "        text-align: right;\n",
       "    }\n",
       "</style>\n",
       "<table border=\"1\" class=\"dataframe\">\n",
       "  <thead>\n",
       "    <tr style=\"text-align: right;\">\n",
       "      <th></th>\n",
       "      <th>block</th>\n",
       "      <th>street_name</th>\n",
       "      <th>address</th>\n",
       "      <th>latitude</th>\n",
       "      <th>longitude</th>\n",
       "    </tr>\n",
       "  </thead>\n",
       "  <tbody>\n",
       "    <tr>\n",
       "      <th>0</th>\n",
       "      <td>309</td>\n",
       "      <td>ANG MO KIO AVE 1</td>\n",
       "      <td>BLOCK 309 ANG MO KIO AVE 1</td>\n",
       "      <td>1.364329</td>\n",
       "      <td>103.844110</td>\n",
       "    </tr>\n",
       "    <tr>\n",
       "      <th>4</th>\n",
       "      <td>216</td>\n",
       "      <td>ANG MO KIO AVE 1</td>\n",
       "      <td>BLOCK 216 ANG MO KIO AVE 1</td>\n",
       "      <td>1.366207</td>\n",
       "      <td>103.841418</td>\n",
       "    </tr>\n",
       "    <tr>\n",
       "      <th>5</th>\n",
       "      <td>211</td>\n",
       "      <td>ANG MO KIO AVE 3</td>\n",
       "      <td>BLOCK 211 ANG MO KIO AVE 3</td>\n",
       "      <td>1.369210</td>\n",
       "      <td>103.841600</td>\n",
       "    </tr>\n",
       "  </tbody>\n",
       "</table>\n",
       "</div>"
      ],
      "text/plain": [
       "  block       street_name                     address  latitude   longitude\n",
       "0   309  ANG MO KIO AVE 1  BLOCK 309 ANG MO KIO AVE 1  1.364329  103.844110\n",
       "4   216  ANG MO KIO AVE 1  BLOCK 216 ANG MO KIO AVE 1  1.366207  103.841418\n",
       "5   211  ANG MO KIO AVE 3  BLOCK 211 ANG MO KIO AVE 3  1.369210  103.841600"
      ]
     },
     "metadata": {},
     "output_type": "display_data"
    }
   ],
   "source": [
    "building['latitude'] = building_latitudes\n",
    "building['longitude'] = building_longitudes\n",
    "\n",
    "print(building.shape, '\\n', building.columns)\n",
    "display(building.head(3))"
   ]
  },
  {
   "cell_type": "code",
   "execution_count": 27,
   "id": "8a733058",
   "metadata": {},
   "outputs": [
    {
     "name": "stdout",
     "output_type": "stream",
     "text": [
      "149\n",
      "149\n",
      "149\n"
     ]
    }
   ],
   "source": [
    "print(len(missed_addresses))\n",
    "print(building['latitude'].isna().sum())\n",
    "print(building['longitude'].isna().sum())"
   ]
  },
  {
   "cell_type": "code",
   "execution_count": 28,
   "id": "96e4848f",
   "metadata": {},
   "outputs": [],
   "source": [
    "building.to_csv(f\"{DATA_DIR_PROCESSED}/hdb_buildings/resale_hdb_buildings_geo.csv\", encoding='utf-8-sig', index=False)"
   ]
  }
 ],
 "metadata": {
  "kernelspec": {
   "display_name": "Python 3.10.6 64-bit",
   "language": "python",
   "name": "python3"
  },
  "language_info": {
   "codemirror_mode": {
    "name": "ipython",
    "version": 3
   },
   "file_extension": ".py",
   "mimetype": "text/x-python",
   "name": "python",
   "nbconvert_exporter": "python",
   "pygments_lexer": "ipython3",
   "version": "3.10.6"
  },
  "vscode": {
   "interpreter": {
    "hash": "aee8b7b246df8f9039afb4144a1f6fd8d2ca17a180786b69acc140d282b71a49"
   }
  }
 },
 "nbformat": 4,
 "nbformat_minor": 5
}
