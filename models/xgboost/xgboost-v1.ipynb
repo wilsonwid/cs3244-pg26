{
 "cells": [
  {
   "cell_type": "code",
   "execution_count": 1,
   "id": "ac7e312a",
   "metadata": {
    "scrolled": false
   },
   "outputs": [
    {
     "data": {
      "text/html": [
       "<style>.container { width:90% !important; }</style>"
      ],
      "text/plain": [
       "<IPython.core.display.HTML object>"
      ]
     },
     "metadata": {},
     "output_type": "display_data"
    }
   ],
   "source": [
    "from IPython.core.display import display, HTML\n",
    "display(HTML(\"<style>.container { width:90% !important; }</style>\"))"
   ]
  },
  {
   "cell_type": "markdown",
   "id": "b65b4308",
   "metadata": {},
   "source": [
    "### Load Libraries"
   ]
  },
  {
   "cell_type": "code",
   "execution_count": 2,
   "id": "8d11bffa",
   "metadata": {},
   "outputs": [],
   "source": [
    "import os\n",
    "import pickle\n",
    "import numpy as np\n",
    "import pandas as pd\n",
    "from copy import deepcopy\n",
    "import matplotlib.pyplot as plt\n",
    "\n",
    "from sklearn.impute import SimpleImputer\n",
    "from sklearn.metrics import mean_squared_error, r2_score, make_scorer, mean_absolute_error, mean_absolute_percentage_error, median_absolute_error\n",
    "\n",
    "from sklearn.model_selection import train_test_split\n",
    "\n",
    "from xgboost import XGBRegressor\n",
    "\n",
    "import warnings\n",
    "warnings.filterwarnings(action='ignore')"
   ]
  },
  {
   "cell_type": "code",
   "execution_count": 3,
   "id": "a810a407",
   "metadata": {},
   "outputs": [],
   "source": [
    "PROCESSED_DATA_PATH = os.path.join(\"../\", \"../\", \"data_processed\", \"resale_flat_prices\")\n",
    "SEED = 42"
   ]
  },
  {
   "cell_type": "markdown",
   "id": "28b3a187",
   "metadata": {},
   "source": [
    "### Load Data"
   ]
  },
  {
   "cell_type": "code",
   "execution_count": 4,
   "id": "cf7bc82a",
   "metadata": {},
   "outputs": [
    {
     "name": "stdout",
     "output_type": "stream",
     "text": [
      "(865827, 29) \n",
      " Index(['id', 'town', 'flat_type', 'flat_model', 'sale_date', 'floor', 'age',\n",
      "       'relative_tenure', 'floor_area', 'psm', 'address', 'latitude',\n",
      "       'longitude', 'latitude_rad', 'longitude_rad', 'nearest_atm',\n",
      "       'nearest_libraries', 'nearest_hawkers', 'nearest_stores',\n",
      "       'nearest_post_offices', 'nearest_bus_stops', 'nearest_pharmacies',\n",
      "       'nearest_primary_schools', 'nearest_parks', 'nearest_trains',\n",
      "       'sale_month', 'cpi', 'cpi_psm', 'avg_sora'],\n",
      "      dtype='object')\n"
     ]
    },
    {
     "data": {
      "text/html": [
       "<div>\n",
       "<style scoped>\n",
       "    .dataframe tbody tr th:only-of-type {\n",
       "        vertical-align: middle;\n",
       "    }\n",
       "\n",
       "    .dataframe tbody tr th {\n",
       "        vertical-align: top;\n",
       "    }\n",
       "\n",
       "    .dataframe thead th {\n",
       "        text-align: right;\n",
       "    }\n",
       "</style>\n",
       "<table border=\"1\" class=\"dataframe\">\n",
       "  <thead>\n",
       "    <tr style=\"text-align: right;\">\n",
       "      <th></th>\n",
       "      <th>id</th>\n",
       "      <th>town</th>\n",
       "      <th>flat_type</th>\n",
       "      <th>flat_model</th>\n",
       "      <th>sale_date</th>\n",
       "      <th>floor</th>\n",
       "      <th>age</th>\n",
       "      <th>relative_tenure</th>\n",
       "      <th>floor_area</th>\n",
       "      <th>psm</th>\n",
       "      <th>...</th>\n",
       "      <th>nearest_post_offices</th>\n",
       "      <th>nearest_bus_stops</th>\n",
       "      <th>nearest_pharmacies</th>\n",
       "      <th>nearest_primary_schools</th>\n",
       "      <th>nearest_parks</th>\n",
       "      <th>nearest_trains</th>\n",
       "      <th>sale_month</th>\n",
       "      <th>cpi</th>\n",
       "      <th>cpi_psm</th>\n",
       "      <th>avg_sora</th>\n",
       "    </tr>\n",
       "  </thead>\n",
       "  <tbody>\n",
       "    <tr>\n",
       "      <th>0</th>\n",
       "      <td>1</td>\n",
       "      <td>JURONG_WEST</td>\n",
       "      <td>3_ROOM</td>\n",
       "      <td>IMPROVED</td>\n",
       "      <td>1990-01-01</td>\n",
       "      <td>5.0</td>\n",
       "      <td>16</td>\n",
       "      <td>0.899953</td>\n",
       "      <td>70.0</td>\n",
       "      <td>334.285714</td>\n",
       "      <td>...</td>\n",
       "      <td>0.798752</td>\n",
       "      <td>0.195397</td>\n",
       "      <td>0.761661</td>\n",
       "      <td>0.541789</td>\n",
       "      <td>0.947906</td>\n",
       "      <td>0.904104</td>\n",
       "      <td>1</td>\n",
       "      <td>61.9</td>\n",
       "      <td>595.125779</td>\n",
       "      <td>NaN</td>\n",
       "    </tr>\n",
       "    <tr>\n",
       "      <th>1</th>\n",
       "      <td>2</td>\n",
       "      <td>OTHER</td>\n",
       "      <td>5_ROOM</td>\n",
       "      <td>STANDARD</td>\n",
       "      <td>1990-01-01</td>\n",
       "      <td>5.0</td>\n",
       "      <td>15</td>\n",
       "      <td>0.902280</td>\n",
       "      <td>120.0</td>\n",
       "      <td>916.666667</td>\n",
       "      <td>...</td>\n",
       "      <td>3.042559</td>\n",
       "      <td>0.090376</td>\n",
       "      <td>1.133326</td>\n",
       "      <td>0.159056</td>\n",
       "      <td>0.330270</td>\n",
       "      <td>1.954674</td>\n",
       "      <td>1</td>\n",
       "      <td>61.9</td>\n",
       "      <td>1631.933226</td>\n",
       "      <td>NaN</td>\n",
       "    </tr>\n",
       "    <tr>\n",
       "      <th>2</th>\n",
       "      <td>3</td>\n",
       "      <td>BUKIT_MERAH</td>\n",
       "      <td>3_ROOM</td>\n",
       "      <td>IMPROVED</td>\n",
       "      <td>1990-01-01</td>\n",
       "      <td>5.0</td>\n",
       "      <td>15</td>\n",
       "      <td>0.902280</td>\n",
       "      <td>63.0</td>\n",
       "      <td>722.222222</td>\n",
       "      <td>...</td>\n",
       "      <td>1.148847</td>\n",
       "      <td>0.446105</td>\n",
       "      <td>0.850333</td>\n",
       "      <td>0.943485</td>\n",
       "      <td>0.737703</td>\n",
       "      <td>0.932695</td>\n",
       "      <td>1</td>\n",
       "      <td>61.9</td>\n",
       "      <td>1285.765572</td>\n",
       "      <td>NaN</td>\n",
       "    </tr>\n",
       "  </tbody>\n",
       "</table>\n",
       "<p>3 rows × 29 columns</p>\n",
       "</div>"
      ],
      "text/plain": [
       "   id         town flat_type flat_model   sale_date  floor  age  \\\n",
       "0   1  JURONG_WEST    3_ROOM   IMPROVED  1990-01-01    5.0   16   \n",
       "1   2        OTHER    5_ROOM   STANDARD  1990-01-01    5.0   15   \n",
       "2   3  BUKIT_MERAH    3_ROOM   IMPROVED  1990-01-01    5.0   15   \n",
       "\n",
       "   relative_tenure  floor_area         psm  ... nearest_post_offices  \\\n",
       "0         0.899953        70.0  334.285714  ...             0.798752   \n",
       "1         0.902280       120.0  916.666667  ...             3.042559   \n",
       "2         0.902280        63.0  722.222222  ...             1.148847   \n",
       "\n",
       "   nearest_bus_stops  nearest_pharmacies  nearest_primary_schools  \\\n",
       "0           0.195397            0.761661                 0.541789   \n",
       "1           0.090376            1.133326                 0.159056   \n",
       "2           0.446105            0.850333                 0.943485   \n",
       "\n",
       "   nearest_parks  nearest_trains  sale_month   cpi      cpi_psm  avg_sora  \n",
       "0       0.947906        0.904104           1  61.9   595.125779       NaN  \n",
       "1       0.330270        1.954674           1  61.9  1631.933226       NaN  \n",
       "2       0.737703        0.932695           1  61.9  1285.765572       NaN  \n",
       "\n",
       "[3 rows x 29 columns]"
      ]
     },
     "metadata": {},
     "output_type": "display_data"
    }
   ],
   "source": [
    "df = pd.read_csv(os.path.join(PROCESSED_DATA_PATH, \"engineered_data.csv\"))\n",
    "\n",
    "print(df.shape, '\\n', df.columns)\n",
    "display(df.head(3))"
   ]
  },
  {
   "cell_type": "code",
   "execution_count": 5,
   "id": "84d1bc7c",
   "metadata": {},
   "outputs": [
    {
     "name": "stdout",
     "output_type": "stream",
     "text": [
      "(865827, 58) \n",
      " Index(['floor', 'age', 'relative_tenure', 'floor_area', 'nearest_atm',\n",
      "       'nearest_libraries', 'nearest_hawkers', 'nearest_stores',\n",
      "       'nearest_post_offices', 'nearest_bus_stops', 'nearest_pharmacies',\n",
      "       'nearest_primary_schools', 'nearest_parks', 'nearest_trains',\n",
      "       'sale_month', 'cpi', 'cpi_psm', 'avg_sora', 'is_imputted_sora',\n",
      "       'flat_type_3_ROOM', 'flat_type_4_ROOM', 'flat_type_5_ROOM',\n",
      "       'flat_type_EXECUTIVE', 'flat_type_OTHER', 'flat_model_APARTMENT',\n",
      "       'flat_model_IMPROVED', 'flat_model_MAISONETTE', 'flat_model_MODEL_A',\n",
      "       'flat_model_MODEL_A2', 'flat_model_NEW_GENERATION', 'flat_model_OTHER',\n",
      "       'flat_model_PREMIUM_APARTMENT', 'flat_model_SIMPLIFIED',\n",
      "       'flat_model_STANDARD', 'town_ANG_MO_KIO', 'town_BEDOK', 'town_BISHAN',\n",
      "       'town_BUKIT_BATOK', 'town_BUKIT_MERAH', 'town_BUKIT_PANJANG',\n",
      "       'town_CHOA_CHU_KANG', 'town_CLEMENTI', 'town_GEYLANG', 'town_HOUGANG',\n",
      "       'town_JURONG_EAST', 'town_JURONG_WEST', 'town_KALLANG/WHAMPOA',\n",
      "       'town_OTHER', 'town_PASIR_RIS', 'town_PUNGGOL', 'town_QUEENSTOWN',\n",
      "       'town_SEMBAWANG', 'town_SENGKANG', 'town_SERANGOON', 'town_TAMPINES',\n",
      "       'town_TOA_PAYOH', 'town_WOODLANDS', 'town_YISHUN'],\n",
      "      dtype='object')\n"
     ]
    },
    {
     "data": {
      "text/html": [
       "<div>\n",
       "<style scoped>\n",
       "    .dataframe tbody tr th:only-of-type {\n",
       "        vertical-align: middle;\n",
       "    }\n",
       "\n",
       "    .dataframe tbody tr th {\n",
       "        vertical-align: top;\n",
       "    }\n",
       "\n",
       "    .dataframe thead th {\n",
       "        text-align: right;\n",
       "    }\n",
       "</style>\n",
       "<table border=\"1\" class=\"dataframe\">\n",
       "  <thead>\n",
       "    <tr style=\"text-align: right;\">\n",
       "      <th></th>\n",
       "      <th>floor</th>\n",
       "      <th>age</th>\n",
       "      <th>relative_tenure</th>\n",
       "      <th>floor_area</th>\n",
       "      <th>nearest_atm</th>\n",
       "      <th>nearest_libraries</th>\n",
       "      <th>nearest_hawkers</th>\n",
       "      <th>nearest_stores</th>\n",
       "      <th>nearest_post_offices</th>\n",
       "      <th>nearest_bus_stops</th>\n",
       "      <th>...</th>\n",
       "      <th>town_PASIR_RIS</th>\n",
       "      <th>town_PUNGGOL</th>\n",
       "      <th>town_QUEENSTOWN</th>\n",
       "      <th>town_SEMBAWANG</th>\n",
       "      <th>town_SENGKANG</th>\n",
       "      <th>town_SERANGOON</th>\n",
       "      <th>town_TAMPINES</th>\n",
       "      <th>town_TOA_PAYOH</th>\n",
       "      <th>town_WOODLANDS</th>\n",
       "      <th>town_YISHUN</th>\n",
       "    </tr>\n",
       "  </thead>\n",
       "  <tbody>\n",
       "    <tr>\n",
       "      <th>0</th>\n",
       "      <td>5.0</td>\n",
       "      <td>16</td>\n",
       "      <td>0.899953</td>\n",
       "      <td>70.0</td>\n",
       "      <td>0.521140</td>\n",
       "      <td>0.751719</td>\n",
       "      <td>0.576328</td>\n",
       "      <td>0.521140</td>\n",
       "      <td>0.798752</td>\n",
       "      <td>0.195397</td>\n",
       "      <td>...</td>\n",
       "      <td>0</td>\n",
       "      <td>0</td>\n",
       "      <td>0</td>\n",
       "      <td>0</td>\n",
       "      <td>0</td>\n",
       "      <td>0</td>\n",
       "      <td>0</td>\n",
       "      <td>0</td>\n",
       "      <td>0</td>\n",
       "      <td>0</td>\n",
       "    </tr>\n",
       "    <tr>\n",
       "      <th>1</th>\n",
       "      <td>5.0</td>\n",
       "      <td>15</td>\n",
       "      <td>0.902280</td>\n",
       "      <td>120.0</td>\n",
       "      <td>0.391706</td>\n",
       "      <td>0.930882</td>\n",
       "      <td>0.290215</td>\n",
       "      <td>0.368291</td>\n",
       "      <td>3.042559</td>\n",
       "      <td>0.090376</td>\n",
       "      <td>...</td>\n",
       "      <td>0</td>\n",
       "      <td>0</td>\n",
       "      <td>0</td>\n",
       "      <td>0</td>\n",
       "      <td>0</td>\n",
       "      <td>0</td>\n",
       "      <td>0</td>\n",
       "      <td>0</td>\n",
       "      <td>0</td>\n",
       "      <td>0</td>\n",
       "    </tr>\n",
       "    <tr>\n",
       "      <th>2</th>\n",
       "      <td>5.0</td>\n",
       "      <td>15</td>\n",
       "      <td>0.902280</td>\n",
       "      <td>63.0</td>\n",
       "      <td>0.165177</td>\n",
       "      <td>1.399324</td>\n",
       "      <td>0.165177</td>\n",
       "      <td>0.047929</td>\n",
       "      <td>1.148847</td>\n",
       "      <td>0.446105</td>\n",
       "      <td>...</td>\n",
       "      <td>0</td>\n",
       "      <td>0</td>\n",
       "      <td>0</td>\n",
       "      <td>0</td>\n",
       "      <td>0</td>\n",
       "      <td>0</td>\n",
       "      <td>0</td>\n",
       "      <td>0</td>\n",
       "      <td>0</td>\n",
       "      <td>0</td>\n",
       "    </tr>\n",
       "  </tbody>\n",
       "</table>\n",
       "<p>3 rows × 58 columns</p>\n",
       "</div>"
      ],
      "text/plain": [
       "   floor  age  relative_tenure  floor_area  nearest_atm  nearest_libraries  \\\n",
       "0    5.0   16         0.899953        70.0     0.521140           0.751719   \n",
       "1    5.0   15         0.902280       120.0     0.391706           0.930882   \n",
       "2    5.0   15         0.902280        63.0     0.165177           1.399324   \n",
       "\n",
       "   nearest_hawkers  nearest_stores  nearest_post_offices  nearest_bus_stops  \\\n",
       "0         0.576328        0.521140              0.798752           0.195397   \n",
       "1         0.290215        0.368291              3.042559           0.090376   \n",
       "2         0.165177        0.047929              1.148847           0.446105   \n",
       "\n",
       "   ...  town_PASIR_RIS  town_PUNGGOL  town_QUEENSTOWN  town_SEMBAWANG  \\\n",
       "0  ...               0             0                0               0   \n",
       "1  ...               0             0                0               0   \n",
       "2  ...               0             0                0               0   \n",
       "\n",
       "   town_SENGKANG  town_SERANGOON  town_TAMPINES  town_TOA_PAYOH  \\\n",
       "0              0               0              0               0   \n",
       "1              0               0              0               0   \n",
       "2              0               0              0               0   \n",
       "\n",
       "   town_WOODLANDS  town_YISHUN  \n",
       "0               0            0  \n",
       "1               0            0  \n",
       "2               0            0  \n",
       "\n",
       "[3 rows x 58 columns]"
      ]
     },
     "metadata": {},
     "output_type": "display_data"
    }
   ],
   "source": [
    "df[\"is_imputted_sora\"] = np.where(df[\"avg_sora\"].isnull(), 1, 0)\n",
    "\n",
    "imp = SimpleImputer()\n",
    "df[\"avg_sora\"] = imp.fit_transform(df[\"avg_sora\"].to_numpy().reshape(-1, 1))\n",
    "\n",
    "df.drop(columns=[\"id\", \"sale_date\", \"address\", \"latitude_rad\", \"longitude_rad\", \"latitude\", \"longitude\", \"psm\"], inplace=True)\n",
    "\n",
    "df = pd.get_dummies(df, columns=[\"flat_type\", \"flat_model\", \"town\"], dummy_na = True, dtype=np.uint8)\n",
    "df.drop(columns=[\"town_nan\", \"flat_type_nan\", \"flat_model_nan\"], inplace=True)\n",
    "\n",
    "print(df.shape, '\\n', df.columns)\n",
    "display(df.head(3))"
   ]
  },
  {
   "cell_type": "markdown",
   "id": "d33cf208",
   "metadata": {},
   "source": [
    "### Instantiate Best XGBoost Model"
   ]
  },
  {
   "cell_type": "code",
   "execution_count": 6,
   "id": "3b6b676a",
   "metadata": {},
   "outputs": [
    {
     "data": {
      "text/plain": [
       "XGBRegressor(base_score=None, booster=None, colsample_bylevel=None,\n",
       "             colsample_bynode=None, colsample_bytree=None, gamma=None,\n",
       "             gpu_id=None, importance_type='gain', interaction_constraints=None,\n",
       "             learning_rate=None, max_delta_step=None, max_depth=None,\n",
       "             min_child_weight=None, missing=nan, monotone_constraints=None,\n",
       "             n_estimators=100, n_jobs=None, num_parallel_tree=None,\n",
       "             random_state=42, reg_alpha=None, reg_lambda=None,\n",
       "             scale_pos_weight=None, subsample=None, tree_method=None,\n",
       "             validate_parameters=None, verbosity=None)"
      ]
     },
     "execution_count": 6,
     "metadata": {},
     "output_type": "execute_result"
    }
   ],
   "source": [
    "model = XGBRegressor(random_state=SEED)\n",
    "model"
   ]
  },
  {
   "cell_type": "markdown",
   "id": "00275086",
   "metadata": {},
   "source": [
    "### Fit & Score"
   ]
  },
  {
   "cell_type": "code",
   "execution_count": 7,
   "id": "4ca1d3e6",
   "metadata": {},
   "outputs": [
    {
     "name": "stdout",
     "output_type": "stream",
     "text": [
      "(779244, 57) (779244,)\n",
      "(86583, 57) (86583,)\n"
     ]
    }
   ],
   "source": [
    "X, y = df.drop('cpi_psm', axis=1), df.cpi_psm\n",
    "\n",
    "X_train, X_test, y_train, y_test = train_test_split(X, y, test_size=0.10, random_state = SEED)\n",
    "\n",
    "print(X_train.shape, y_train.shape)\n",
    "print(X_test.shape, y_test.shape)"
   ]
  },
  {
   "cell_type": "code",
   "execution_count": 8,
   "id": "12c4e1b1",
   "metadata": {},
   "outputs": [
    {
     "data": {
      "text/plain": [
       "XGBRegressor(base_score=0.5, booster='gbtree', colsample_bylevel=1,\n",
       "             colsample_bynode=1, colsample_bytree=1, gamma=0, gpu_id=-1,\n",
       "             importance_type='gain', interaction_constraints='',\n",
       "             learning_rate=0.300000012, max_delta_step=0, max_depth=6,\n",
       "             min_child_weight=1, missing=nan, monotone_constraints='()',\n",
       "             n_estimators=100, n_jobs=8, num_parallel_tree=1, random_state=42,\n",
       "             reg_alpha=0, reg_lambda=1, scale_pos_weight=1, subsample=1,\n",
       "             tree_method='exact', validate_parameters=1, verbosity=None)"
      ]
     },
     "execution_count": 8,
     "metadata": {},
     "output_type": "execute_result"
    }
   ],
   "source": [
    "model.fit(X_train, y_train)"
   ]
  },
  {
   "cell_type": "code",
   "execution_count": 9,
   "id": "d016edcb",
   "metadata": {},
   "outputs": [
    {
     "data": {
      "text/plain": [
       "0.953989681534846"
      ]
     },
     "execution_count": 9,
     "metadata": {},
     "output_type": "execute_result"
    }
   ],
   "source": [
    "model.score(X_test, y_test)"
   ]
  },
  {
   "cell_type": "code",
   "execution_count": 10,
   "id": "2f3823c6",
   "metadata": {},
   "outputs": [],
   "source": [
    "pickle.dump(model, open('xgboost_best_model_v1.pkl', 'wb'))"
   ]
  },
  {
   "cell_type": "markdown",
   "id": "ac78a390",
   "metadata": {},
   "source": [
    "### Evaluation"
   ]
  },
  {
   "cell_type": "code",
   "execution_count": 11,
   "id": "97f530ca",
   "metadata": {},
   "outputs": [],
   "source": [
    "def produce_metrics(y_test, y_pred):\n",
    "    mse = mean_squared_error(y_test, y_pred)\n",
    "    mae = mean_absolute_error(y_test, y_pred)\n",
    "    rtwo = r2_score(y_test, y_pred)\n",
    "    mape = mean_absolute_percentage_error(y_test, y_pred)\n",
    "    mdape = median_absolute_error(y_test, y_pred)/np.median(y_test)\n",
    "    return mse, mse**(0.5), mae, rtwo, mape, mdape"
   ]
  },
  {
   "cell_type": "code",
   "execution_count": 12,
   "id": "3c8d91ef",
   "metadata": {},
   "outputs": [
    {
     "name": "stdout",
     "output_type": "stream",
     "text": [
      "MSE: 85318.35250797549\n",
      "RMSE: 292.0930545356659\n",
      "MAE: 216.68177571921927\n",
      "R2: 0.953989681534846\n",
      "MAPE: 0.05771889484352634\n",
      "MdAPE: 0.0413310392059578\n"
     ]
    }
   ],
   "source": [
    "y_pred = model.predict(X_test)\n",
    "\n",
    "mse, rmse, mae, rtwo, mape, mdape = produce_metrics(y_test, y_pred)\n",
    "print(f\"MSE: {mse}\")\n",
    "print(f\"RMSE: {rmse}\")\n",
    "print(f\"MAE: {mae}\")\n",
    "print(f\"R2: {rtwo}\")\n",
    "print(f\"MAPE: {mape}\")\n",
    "print(f\"MdAPE: {mdape}\")"
   ]
  },
  {
   "cell_type": "markdown",
   "id": "e49dce13",
   "metadata": {},
   "source": [
    "### Actual vs Pred"
   ]
  },
  {
   "cell_type": "code",
   "execution_count": 13,
   "id": "a44980c7",
   "metadata": {},
   "outputs": [
    {
     "data": {
      "image/png": "[encoded data removed]",
      "text/plain": [
       "<Figure size 432x288 with 1 Axes>"
      ]
     },
     "metadata": {
      "needs_background": "light"
     },
     "output_type": "display_data"
    }
   ],
   "source": [
    "fig, ax = plt.subplots()\n",
    "ax.axline((0, 0), slope=1, color=\"red\")\n",
    "plt.scatter(y_test, y_pred)\n",
    "plt.title(\"Predicted vs Actual CPI-adjusted Per-square-metre Prices\\n(XGBoost)\")\n",
    "plt.xlabel(\"Actual\")\n",
    "plt.ylabel(\"Predicted\")\n",
    "plt.show()"
   ]
  }
 ],
 "metadata": {
  "kernelspec": {
   "display_name": "Python 3",
   "language": "python",
   "name": "python3"
  },
  "language_info": {
   "codemirror_mode": {
    "name": "ipython",
    "version": 3
   },
   "file_extension": ".py",
   "mimetype": "text/x-python",
   "name": "python",
   "nbconvert_exporter": "python",
   "pygments_lexer": "ipython3",
   "version": "3.7.10"
  }
 },
 "nbformat": 4,
 "nbformat_minor": 5
}
