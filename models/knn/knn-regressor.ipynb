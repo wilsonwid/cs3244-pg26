{
  "cells": [
    {
      "cell_type": "code",
      "execution_count": 1,
      "metadata": {
        "id": "EpUU4Qgsu2dE"
      },
      "outputs": [],
      "source": [
        "import math\n",
        "import pandas as pd\n",
        "import numpy as np\n",
        "import matplotlib.pyplot as plt\n",
        "from sklearn.metrics import mean_squared_error, r2_score, make_scorer, mean_absolute_error, mean_absolute_percentage_error, median_absolute_error\n",
        "from sklearn.neighbors import KNeighborsRegressor\n",
        "from sklearn.model_selection import GridSearchCV\n",
        "from sklearn.impute import SimpleImputer\n",
        "import os\n",
        "import pickle\n",
        "from copy import deepcopy"
      ]
    },
    {
      "cell_type": "code",
      "execution_count": 3,
      "metadata": {
        "colab": {
          "base_uri": "https://localhost:8080/",
          "height": 427
        },
        "id": "dVbW39PFowuB",
        "outputId": "b156ebdb-cf93-48af-eb18-bee8a773adfc"
      },
      "outputs": [],
      "source": [
        "PATH = \"../../data_processed/resale_flat_prices\"\n",
        "SEED = 42\n",
        "\n",
        "df = pd.read_csv(os.path.join(PATH, \"engineered_data.csv\"))\n"
      ]
    },
    {
      "cell_type": "code",
      "execution_count": 4,
      "metadata": {},
      "outputs": [
        {
          "name": "stdout",
          "output_type": "stream",
          "text": [
            "(865827, 58) \n",
            " Index(['floor', 'age', 'relative_tenure', 'floor_area', 'nearest_atm',\n",
            "       'nearest_libraries', 'nearest_hawkers', 'nearest_stores',\n",
            "       'nearest_post_offices', 'nearest_bus_stops', 'nearest_pharmacies',\n",
            "       'nearest_primary_schools', 'nearest_parks', 'nearest_trains',\n",
            "       'sale_month', 'cpi', 'cpi_psm', 'avg_sora', 'is_imputted_sora',\n",
            "       'flat_type_3_ROOM', 'flat_type_4_ROOM', 'flat_type_5_ROOM',\n",
            "       'flat_type_EXECUTIVE', 'flat_type_OTHER', 'flat_model_APARTMENT',\n",
            "       'flat_model_IMPROVED', 'flat_model_MAISONETTE', 'flat_model_MODEL_A',\n",
            "       'flat_model_MODEL_A2', 'flat_model_NEW_GENERATION', 'flat_model_OTHER',\n",
            "       'flat_model_PREMIUM_APARTMENT', 'flat_model_SIMPLIFIED',\n",
            "       'flat_model_STANDARD', 'town_ANG_MO_KIO', 'town_BEDOK', 'town_BISHAN',\n",
            "       'town_BUKIT_BATOK', 'town_BUKIT_MERAH', 'town_BUKIT_PANJANG',\n",
            "       'town_CHOA_CHU_KANG', 'town_CLEMENTI', 'town_GEYLANG', 'town_HOUGANG',\n",
            "       'town_JURONG_EAST', 'town_JURONG_WEST', 'town_KALLANG/WHAMPOA',\n",
            "       'town_OTHER', 'town_PASIR_RIS', 'town_PUNGGOL', 'town_QUEENSTOWN',\n",
            "       'town_SEMBAWANG', 'town_SENGKANG', 'town_SERANGOON', 'town_TAMPINES',\n",
            "       'town_TOA_PAYOH', 'town_WOODLANDS', 'town_YISHUN'],\n",
            "      dtype='object')\n"
          ]
        },
        {
          "data": {
            "text/html": [
              "<div>\n",
              "<style scoped>\n",
              "    .dataframe tbody tr th:only-of-type {\n",
              "        vertical-align: middle;\n",
              "    }\n",
              "\n",
              "    .dataframe tbody tr th {\n",
              "        vertical-align: top;\n",
              "    }\n",
              "\n",
              "    .dataframe thead th {\n",
              "        text-align: right;\n",
              "    }\n",
              "</style>\n",
              "<table border=\"1\" class=\"dataframe\">\n",
              "  <thead>\n",
              "    <tr style=\"text-align: right;\">\n",
              "      <th></th>\n",
              "      <th>floor</th>\n",
              "      <th>age</th>\n",
              "      <th>relative_tenure</th>\n",
              "      <th>floor_area</th>\n",
              "      <th>nearest_atm</th>\n",
              "      <th>nearest_libraries</th>\n",
              "      <th>nearest_hawkers</th>\n",
              "      <th>nearest_stores</th>\n",
              "      <th>nearest_post_offices</th>\n",
              "      <th>nearest_bus_stops</th>\n",
              "      <th>...</th>\n",
              "      <th>town_PASIR_RIS</th>\n",
              "      <th>town_PUNGGOL</th>\n",
              "      <th>town_QUEENSTOWN</th>\n",
              "      <th>town_SEMBAWANG</th>\n",
              "      <th>town_SENGKANG</th>\n",
              "      <th>town_SERANGOON</th>\n",
              "      <th>town_TAMPINES</th>\n",
              "      <th>town_TOA_PAYOH</th>\n",
              "      <th>town_WOODLANDS</th>\n",
              "      <th>town_YISHUN</th>\n",
              "    </tr>\n",
              "  </thead>\n",
              "  <tbody>\n",
              "    <tr>\n",
              "      <th>0</th>\n",
              "      <td>5.0</td>\n",
              "      <td>16</td>\n",
              "      <td>0.899953</td>\n",
              "      <td>70.0</td>\n",
              "      <td>0.521140</td>\n",
              "      <td>0.751719</td>\n",
              "      <td>0.576328</td>\n",
              "      <td>0.521140</td>\n",
              "      <td>0.798752</td>\n",
              "      <td>0.195397</td>\n",
              "      <td>...</td>\n",
              "      <td>0</td>\n",
              "      <td>0</td>\n",
              "      <td>0</td>\n",
              "      <td>0</td>\n",
              "      <td>0</td>\n",
              "      <td>0</td>\n",
              "      <td>0</td>\n",
              "      <td>0</td>\n",
              "      <td>0</td>\n",
              "      <td>0</td>\n",
              "    </tr>\n",
              "    <tr>\n",
              "      <th>1</th>\n",
              "      <td>5.0</td>\n",
              "      <td>15</td>\n",
              "      <td>0.902280</td>\n",
              "      <td>120.0</td>\n",
              "      <td>0.391706</td>\n",
              "      <td>0.930882</td>\n",
              "      <td>0.290215</td>\n",
              "      <td>0.368291</td>\n",
              "      <td>3.042559</td>\n",
              "      <td>0.090376</td>\n",
              "      <td>...</td>\n",
              "      <td>0</td>\n",
              "      <td>0</td>\n",
              "      <td>0</td>\n",
              "      <td>0</td>\n",
              "      <td>0</td>\n",
              "      <td>0</td>\n",
              "      <td>0</td>\n",
              "      <td>0</td>\n",
              "      <td>0</td>\n",
              "      <td>0</td>\n",
              "    </tr>\n",
              "    <tr>\n",
              "      <th>2</th>\n",
              "      <td>5.0</td>\n",
              "      <td>15</td>\n",
              "      <td>0.902280</td>\n",
              "      <td>63.0</td>\n",
              "      <td>0.165177</td>\n",
              "      <td>1.399324</td>\n",
              "      <td>0.165177</td>\n",
              "      <td>0.047929</td>\n",
              "      <td>1.148847</td>\n",
              "      <td>0.446105</td>\n",
              "      <td>...</td>\n",
              "      <td>0</td>\n",
              "      <td>0</td>\n",
              "      <td>0</td>\n",
              "      <td>0</td>\n",
              "      <td>0</td>\n",
              "      <td>0</td>\n",
              "      <td>0</td>\n",
              "      <td>0</td>\n",
              "      <td>0</td>\n",
              "      <td>0</td>\n",
              "    </tr>\n",
              "  </tbody>\n",
              "</table>\n",
              "<p>3 rows × 58 columns</p>\n",
              "</div>"
            ],
            "text/plain": [
              "   floor  age  relative_tenure  floor_area  nearest_atm  nearest_libraries  \\\n",
              "0    5.0   16         0.899953        70.0     0.521140           0.751719   \n",
              "1    5.0   15         0.902280       120.0     0.391706           0.930882   \n",
              "2    5.0   15         0.902280        63.0     0.165177           1.399324   \n",
              "\n",
              "   nearest_hawkers  nearest_stores  nearest_post_offices  nearest_bus_stops  \\\n",
              "0         0.576328        0.521140              0.798752           0.195397   \n",
              "1         0.290215        0.368291              3.042559           0.090376   \n",
              "2         0.165177        0.047929              1.148847           0.446105   \n",
              "\n",
              "   ...  town_PASIR_RIS  town_PUNGGOL  town_QUEENSTOWN  town_SEMBAWANG  \\\n",
              "0  ...               0             0                0               0   \n",
              "1  ...               0             0                0               0   \n",
              "2  ...               0             0                0               0   \n",
              "\n",
              "   town_SENGKANG  town_SERANGOON  town_TAMPINES  town_TOA_PAYOH  \\\n",
              "0              0               0              0               0   \n",
              "1              0               0              0               0   \n",
              "2              0               0              0               0   \n",
              "\n",
              "   town_WOODLANDS  town_YISHUN  \n",
              "0               0            0  \n",
              "1               0            0  \n",
              "2               0            0  \n",
              "\n",
              "[3 rows x 58 columns]"
            ]
          },
          "metadata": {},
          "output_type": "display_data"
        }
      ],
      "source": [
        "from sklearn.impute import SimpleImputer\n",
        "\n",
        "df[\"is_imputted_sora\"] = np.where(df[\"avg_sora\"].isnull(), 1, 0)\n",
        "\n",
        "imp = SimpleImputer()\n",
        "df[\"avg_sora\"] = imp.fit_transform(df[\"avg_sora\"].to_numpy().reshape(-1, 1))\n",
        "\n",
        "df.drop(columns=[\"id\", \"sale_date\", \"address\", \"latitude_rad\", \"longitude_rad\", \"latitude\", \"longitude\", \"psm\"], inplace=True)\n",
        "\n",
        "df = pd.get_dummies(df, columns=[\"flat_type\", \"flat_model\", \"town\"], dummy_na = True, dtype=np.uint8)\n",
        "df.drop(columns=[\"town_nan\", \"flat_type_nan\", \"flat_model_nan\"], inplace=True)\n",
        "\n",
        "print(df.shape, '\\n', df.columns)\n",
        "display(df.head(3))"
      ]
    },
    {
      "cell_type": "code",
      "execution_count": 5,
      "metadata": {},
      "outputs": [
        {
          "name": "stdout",
          "output_type": "stream",
          "text": [
            "(767022, 57) (767022,)\n",
            "(98805, 57) (98805,)\n"
          ]
        }
      ],
      "source": [
        "lookback_years = 4\n",
        "latest_month = df.sale_month.max()\n",
        "test_months = list(range(latest_month - lookback_years * 12, latest_month + 1))\n",
        "train_months = list(range(1, latest_month - lookback_years * 12))\n",
        "\n",
        "df_train, df_test = deepcopy(df[df.sale_month.isin(train_months)]), deepcopy(df[df.sale_month.isin(test_months)])\n",
        "\n",
        "X_train, X_test, y_train, y_test = df_train.drop('cpi_psm', axis=1), df_test.drop('cpi_psm', axis=1), df_train.cpi_psm, df_test.cpi_psm\n",
        "\n",
        "print(X_train.shape, y_train.shape)\n",
        "print(X_test.shape, y_test.shape)"
      ]
    },
    {
      "cell_type": "code",
      "execution_count": 10,
      "metadata": {},
      "outputs": [
        {
          "name": "stdout",
          "output_type": "stream",
          "text": [
            "(76702, 57) (76702,)\n",
            "(14821, 57) (14821,)\n"
          ]
        }
      ],
      "source": [
        "sample_df_train = df_train.sample(frac=0.1)\n",
        "sample_df_test = df_test.sample(frac=0.15)\n",
        "X_train_sample, X_test_sample, y_train_sample, y_test_sample = sample_df_train.drop(\"cpi_psm\", axis=1), sample_df_test.drop(\"cpi_psm\", axis=1), sample_df_train.cpi_psm, sample_df_test.cpi_psm\n",
        "\n",
        "print(X_train_sample.shape, y_train_sample.shape)\n",
        "print(X_test_sample.shape, y_test_sample.shape)"
      ]
    },
    {
      "cell_type": "markdown",
      "metadata": {},
      "source": [
        "### Selecting parameters using sampled data"
      ]
    },
    {
      "cell_type": "code",
      "execution_count": 11,
      "metadata": {
        "colab": {
          "background_save": true,
          "base_uri": "https://localhost:8080/"
        },
        "id": "41CWKLb8sNz3",
        "outputId": "9ef97cd0-a74f-4cb0-bfb2-6db8d007c577"
      },
      "outputs": [
        {
          "name": "stdout",
          "output_type": "stream",
          "text": [
            "Fitting 5 folds for each of 12 candidates, totalling 60 fits\n",
            "[CV 1/5] END n_jobs=-1, n_neighbors=2, p=1, weights=uniform;, score=(train=-293.306, test=-536.425) total time=  25.6s\n",
            "[CV 2/5] END n_jobs=-1, n_neighbors=2, p=1, weights=uniform;, score=(train=-294.286, test=-521.934) total time=  24.4s\n",
            "[CV 3/5] END n_jobs=-1, n_neighbors=2, p=1, weights=uniform;, score=(train=-293.241, test=-527.604) total time=  23.4s\n",
            "[CV 4/5] END n_jobs=-1, n_neighbors=2, p=1, weights=uniform;, score=(train=-294.055, test=-528.708) total time=  22.9s\n",
            "[CV 5/5] END n_jobs=-1, n_neighbors=2, p=1, weights=uniform;, score=(train=-292.528, test=-528.038) total time=  23.2s\n",
            "[CV 1/5] END n_jobs=-1, n_neighbors=2, p=1, weights=distance;, score=(train=-12.289, test=-529.574) total time=  23.1s\n",
            "[CV 2/5] END n_jobs=-1, n_neighbors=2, p=1, weights=distance;, score=(train=-12.819, test=-514.502) total time=  22.8s\n",
            "[CV 3/5] END n_jobs=-1, n_neighbors=2, p=1, weights=distance;, score=(train=-14.001, test=-520.766) total time=  23.0s\n",
            "[CV 4/5] END n_jobs=-1, n_neighbors=2, p=1, weights=distance;, score=(train=-13.582, test=-521.339) total time=  23.1s\n",
            "[CV 5/5] END n_jobs=-1, n_neighbors=2, p=1, weights=distance;, score=(train=-13.029, test=-519.614) total time=  23.7s\n",
            "[CV 1/5] END n_jobs=-1, n_neighbors=2, p=2, weights=uniform;, score=(train=-355.251, test=-641.080) total time=  21.3s\n",
            "[CV 2/5] END n_jobs=-1, n_neighbors=2, p=2, weights=uniform;, score=(train=-357.732, test=-632.289) total time=  21.4s\n",
            "[CV 3/5] END n_jobs=-1, n_neighbors=2, p=2, weights=uniform;, score=(train=-355.916, test=-635.649) total time=  21.2s\n",
            "[CV 4/5] END n_jobs=-1, n_neighbors=2, p=2, weights=uniform;, score=(train=-355.457, test=-639.662) total time=  21.0s\n",
            "[CV 5/5] END n_jobs=-1, n_neighbors=2, p=2, weights=uniform;, score=(train=-355.728, test=-633.787) total time=  22.3s\n",
            "[CV 1/5] END n_jobs=-1, n_neighbors=2, p=2, weights=distance;, score=(train=-12.289, test=-636.991) total time=  21.2s\n",
            "[CV 2/5] END n_jobs=-1, n_neighbors=2, p=2, weights=distance;, score=(train=-12.819, test=-626.439) total time=  21.5s\n",
            "[CV 3/5] END n_jobs=-1, n_neighbors=2, p=2, weights=distance;, score=(train=-14.001, test=-629.831) total time=  21.5s\n",
            "[CV 4/5] END n_jobs=-1, n_neighbors=2, p=2, weights=distance;, score=(train=-13.582, test=-634.780) total time=  21.4s\n",
            "[CV 5/5] END n_jobs=-1, n_neighbors=2, p=2, weights=distance;, score=(train=-13.029, test=-628.459) total time=  21.2s\n",
            "[CV 1/5] END n_jobs=-1, n_neighbors=4, p=1, weights=uniform;, score=(train=-384.260, test=-513.059) total time=  20.8s\n",
            "[CV 2/5] END n_jobs=-1, n_neighbors=4, p=1, weights=uniform;, score=(train=-385.602, test=-505.582) total time=  19.3s\n",
            "[CV 3/5] END n_jobs=-1, n_neighbors=4, p=1, weights=uniform;, score=(train=-385.155, test=-516.672) total time=  20.6s\n",
            "[CV 4/5] END n_jobs=-1, n_neighbors=4, p=1, weights=uniform;, score=(train=-384.136, test=-509.634) total time=  21.3s\n",
            "[CV 5/5] END n_jobs=-1, n_neighbors=4, p=1, weights=uniform;, score=(train=-385.878, test=-505.083) total time=  20.7s\n",
            "[CV 1/5] END n_jobs=-1, n_neighbors=4, p=1, weights=distance;, score=(train=-12.286, test=-500.850) total time=  19.4s\n",
            "[CV 2/5] END n_jobs=-1, n_neighbors=4, p=1, weights=distance;, score=(train=-12.817, test=-491.583) total time=  19.9s\n",
            "[CV 3/5] END n_jobs=-1, n_neighbors=4, p=1, weights=distance;, score=(train=-13.983, test=-501.758) total time=  20.3s\n",
            "[CV 4/5] END n_jobs=-1, n_neighbors=4, p=1, weights=distance;, score=(train=-13.563, test=-496.434) total time=  25.9s\n",
            "[CV 5/5] END n_jobs=-1, n_neighbors=4, p=1, weights=distance;, score=(train=-13.009, test=-492.010) total time=  21.6s\n",
            "[CV 1/5] END n_jobs=-1, n_neighbors=4, p=2, weights=uniform;, score=(train=-460.791, test=-608.145) total time=  18.2s\n",
            "[CV 2/5] END n_jobs=-1, n_neighbors=4, p=2, weights=uniform;, score=(train=-462.343, test=-601.977) total time=  18.1s\n",
            "[CV 3/5] END n_jobs=-1, n_neighbors=4, p=2, weights=uniform;, score=(train=-462.134, test=-605.099) total time=  19.5s\n",
            "[CV 4/5] END n_jobs=-1, n_neighbors=4, p=2, weights=uniform;, score=(train=-461.156, test=-606.329) total time=  19.0s\n",
            "[CV 5/5] END n_jobs=-1, n_neighbors=4, p=2, weights=uniform;, score=(train=-460.983, test=-599.695) total time=  18.4s\n",
            "[CV 1/5] END n_jobs=-1, n_neighbors=4, p=2, weights=distance;, score=(train=-12.286, test=-599.350) total time=  18.3s\n",
            "[CV 2/5] END n_jobs=-1, n_neighbors=4, p=2, weights=distance;, score=(train=-12.817, test=-591.895) total time=  19.4s\n",
            "[CV 3/5] END n_jobs=-1, n_neighbors=4, p=2, weights=distance;, score=(train=-13.983, test=-594.864) total time=  19.9s\n",
            "[CV 4/5] END n_jobs=-1, n_neighbors=4, p=2, weights=distance;, score=(train=-13.563, test=-597.181) total time=  19.1s\n",
            "[CV 5/5] END n_jobs=-1, n_neighbors=4, p=2, weights=distance;, score=(train=-13.009, test=-590.392) total time=  18.5s\n",
            "[CV 1/5] END n_jobs=-1, n_neighbors=8, p=1, weights=uniform;, score=(train=-451.286, test=-521.292) total time=  20.0s\n",
            "[CV 2/5] END n_jobs=-1, n_neighbors=8, p=1, weights=uniform;, score=(train=-450.756, test=-513.876) total time=  20.0s\n",
            "[CV 3/5] END n_jobs=-1, n_neighbors=8, p=1, weights=uniform;, score=(train=-450.698, test=-523.841) total time=  20.0s\n",
            "[CV 4/5] END n_jobs=-1, n_neighbors=8, p=1, weights=uniform;, score=(train=-451.471, test=-519.353) total time=  20.3s\n",
            "[CV 5/5] END n_jobs=-1, n_neighbors=8, p=1, weights=uniform;, score=(train=-451.996, test=-515.792) total time=  20.6s\n",
            "[CV 1/5] END n_jobs=-1, n_neighbors=8, p=1, weights=distance;, score=(train=-12.286, test=-503.410) total time=  19.8s\n",
            "[CV 2/5] END n_jobs=-1, n_neighbors=8, p=1, weights=distance;, score=(train=-12.817, test=-495.457) total time=  19.8s\n",
            "[CV 3/5] END n_jobs=-1, n_neighbors=8, p=1, weights=distance;, score=(train=-13.983, test=-504.170) total time=  20.2s\n",
            "[CV 4/5] END n_jobs=-1, n_neighbors=8, p=1, weights=distance;, score=(train=-13.563, test=-500.840) total time=  20.3s\n",
            "[CV 5/5] END n_jobs=-1, n_neighbors=8, p=1, weights=distance;, score=(train=-13.009, test=-496.420) total time=  20.0s\n",
            "[CV 1/5] END n_jobs=-1, n_neighbors=8, p=2, weights=uniform;, score=(train=-520.752, test=-598.830) total time=  18.6s\n",
            "[CV 2/5] END n_jobs=-1, n_neighbors=8, p=2, weights=uniform;, score=(train=-522.736, test=-591.858) total time=  18.5s\n",
            "[CV 3/5] END n_jobs=-1, n_neighbors=8, p=2, weights=uniform;, score=(train=-522.070, test=-598.113) total time=  18.7s\n",
            "[CV 4/5] END n_jobs=-1, n_neighbors=8, p=2, weights=uniform;, score=(train=-521.734, test=-599.509) total time=  19.7s\n",
            "[CV 5/5] END n_jobs=-1, n_neighbors=8, p=2, weights=uniform;, score=(train=-522.665, test=-590.822) total time=  19.4s\n",
            "[CV 1/5] END n_jobs=-1, n_neighbors=8, p=2, weights=distance;, score=(train=-12.286, test=-587.184) total time=  18.2s\n",
            "[CV 2/5] END n_jobs=-1, n_neighbors=8, p=2, weights=distance;, score=(train=-12.817, test=-579.788) total time=  18.3s\n",
            "[CV 3/5] END n_jobs=-1, n_neighbors=8, p=2, weights=distance;, score=(train=-13.983, test=-584.666) total time=  19.3s\n",
            "[CV 4/5] END n_jobs=-1, n_neighbors=8, p=2, weights=distance;, score=(train=-13.563, test=-587.334) total time=  19.2s\n",
            "[CV 5/5] END n_jobs=-1, n_neighbors=8, p=2, weights=distance;, score=(train=-13.009, test=-578.734) total time=  19.0s\n",
            "Best Score: -496.5267949987721\n",
            "Best Hyperparameters: {'n_jobs': -1, 'n_neighbors': 4, 'p': 1, 'weights': 'distance'}\n"
          ]
        }
      ],
      "source": [
        "#defining potential parameters\n",
        "param = [{'n_neighbors': [2,4,8], \n",
        "          'weights': ['uniform','distance'],\n",
        "          'p':[1,2], 'n_jobs':[-1]}]\n",
        "#defining evaluation\n",
        "#defining scorer\n",
        "\n",
        "#defining grid search\n",
        "grid = GridSearchCV(estimator = KNeighborsRegressor(), \n",
        "                      param_grid = param, \n",
        "                      verbose = 4,  \n",
        "                      scoring = 'neg_root_mean_squared_error',\n",
        "                      return_train_score = True,\n",
        "                      #refit=False\n",
        "                    )\n",
        "\n",
        "#executing grid search\n",
        "result = grid.fit(X_train_sample,y_train_sample)\n",
        "\n",
        "#summarising result\n",
        "print('Best Score: %s' % result.best_score_)\n",
        "print('Best Hyperparameters: %s' % result.best_params_)"
      ]
    },
    {
      "cell_type": "code",
      "execution_count": 12,
      "metadata": {},
      "outputs": [
        {
          "data": {
            "text/plain": [
              "-1061.6359366300019"
            ]
          },
          "execution_count": 12,
          "metadata": {},
          "output_type": "execute_result"
        }
      ],
      "source": [
        "pickle.dump(grid, open(\"grid_knn_v2.sav\", \"wb\"))\n",
        "grid.score(X_test_sample, y_test_sample)"
      ]
    },
    {
      "cell_type": "markdown",
      "metadata": {},
      "source": [
        "### Training with the best estimator"
      ]
    },
    {
      "cell_type": "code",
      "execution_count": 13,
      "metadata": {},
      "outputs": [],
      "source": [
        "#K Neighbors regression with best estimator\n",
        "model = result.best_estimator_"
      ]
    },
    {
      "cell_type": "code",
      "execution_count": 14,
      "metadata": {},
      "outputs": [
        {
          "name": "stdout",
          "output_type": "stream",
          "text": [
            "(98805, 57)\n",
            "(98805,)\n"
          ]
        }
      ],
      "source": [
        "print(X_test.shape)\n",
        "print(y_test.shape)"
      ]
    },
    {
      "cell_type": "code",
      "execution_count": 15,
      "metadata": {},
      "outputs": [
        {
          "data": {
            "text/plain": [
              "KNeighborsRegressor(n_jobs=-1, n_neighbors=4, p=1, weights='distance')"
            ]
          },
          "execution_count": 15,
          "metadata": {},
          "output_type": "execute_result"
        }
      ],
      "source": [
        "model.fit(X_train, y_train)"
      ]
    },
    {
      "cell_type": "code",
      "execution_count": 16,
      "metadata": {
        "id": "KEqDVMn8zAVX"
      },
      "outputs": [
        {
          "data": {
            "text/plain": [
              "0.6447619116874838"
            ]
          },
          "execution_count": 16,
          "metadata": {},
          "output_type": "execute_result"
        }
      ],
      "source": [
        "\n",
        "y_pred = model.predict(X_test)\n",
        "model.score(X_test, y_test)"
      ]
    },
    {
      "cell_type": "code",
      "execution_count": 17,
      "metadata": {},
      "outputs": [],
      "source": [
        "pickle.dump(model, open(\"final_model_knn_v2.pkl\", \"wb\"))"
      ]
    },
    {
      "cell_type": "markdown",
      "metadata": {},
      "source": [
        "### Model analysis"
      ]
    },
    {
      "cell_type": "code",
      "execution_count": 18,
      "metadata": {},
      "outputs": [
        {
          "data": {
            "image/png": "[encoded data removed]",
            "text/plain": [
              "<Figure size 432x288 with 1 Axes>"
            ]
          },
          "metadata": {
            "needs_background": "light"
          },
          "output_type": "display_data"
        }
      ],
      "source": [
        "plt.scatter(y_test, y_pred)\n",
        "plt.title(\"Predicted vs Actual CPI-adjusted Per-square-metre Prices\\n(kNN)\")\n",
        "plt.xlabel(\"Actual\")\n",
        "plt.ylabel(\"Predicted\")\n",
        "plt.axline((0, 0), slope=1, color=\"red\")\n",
        "plt.show()"
      ]
    },
    {
      "cell_type": "code",
      "execution_count": 19,
      "metadata": {},
      "outputs": [],
      "source": [
        "\n",
        "def produce_metrics(y_test, y_pred):\n",
        "  mse = mean_squared_error(y_test, y_pred)\n",
        "  mae = mean_absolute_error(y_test, y_pred)\n",
        "  rtwo = r2_score(y_test, y_pred)\n",
        "  mape = mean_absolute_percentage_error(y_test, y_pred)\n",
        "  mdape = median_absolute_error(y_test, y_pred)/np.median(y_test)\n",
        "  return mse, mse**(0.5), mae, rtwo, mape, mdape"
      ]
    },
    {
      "cell_type": "code",
      "execution_count": 20,
      "metadata": {},
      "outputs": [
        {
          "name": "stdout",
          "output_type": "stream",
          "text": [
            "MSE: 708562.9645082854\n",
            "RMSE: 841.7618217217299\n",
            "MAE: 583.6696106083557\n",
            "R2: 0.6447619116874838\n",
            "MAPE: 0.10376206963823345\n",
            "MdAPE: 0.08242460991003833\n"
          ]
        }
      ],
      "source": [
        "mse, rmse, mae, rtwo, mape, mdape = produce_metrics(y_test, y_pred)\n",
        "print(f\"MSE: {mse}\")\n",
        "print(f\"RMSE: {rmse}\")\n",
        "print(f\"MAE: {mae}\")\n",
        "print(f\"R2: {rtwo}\")\n",
        "print(f\"MAPE: {mape}\")\n",
        "print(f\"MdAPE: {mdape}\")"
      ]
    },
    {
      "cell_type": "code",
      "execution_count": 21,
      "metadata": {},
      "outputs": [],
      "source": [
        "pred_df = pd.merge(pd.Series(y_test, name=\"y_test\").reset_index(drop=True), pd.Series(y_pred, name=\"y_pred\"), right_index=True, left_index=True)"
      ]
    },
    {
      "cell_type": "code",
      "execution_count": 22,
      "metadata": {},
      "outputs": [],
      "source": [
        "pred_df.to_csv(\"pred_df_2.csv\")"
      ]
    },
    {
      "cell_type": "code",
      "execution_count": 23,
      "metadata": {},
      "outputs": [
        {
          "name": "stdout",
          "output_type": "stream",
          "text": [
            "767022     205.118478\n",
            "767023    -110.460995\n",
            "767024     -92.165712\n",
            "767025     186.300277\n",
            "767026      87.470389\n",
            "             ...     \n",
            "865822     189.687340\n",
            "865823     174.715256\n",
            "865824       9.307610\n",
            "865825     739.280778\n",
            "865826    1258.148677\n",
            "Name: cpi_psm, Length: 98805, dtype: float64\n",
            "767022    4425.702811\n",
            "767023    6620.113788\n",
            "767024    3570.737495\n",
            "767025    5187.907184\n",
            "767026    4871.575856\n",
            "             ...     \n",
            "865822    4373.831776\n",
            "865823    6170.212766\n",
            "865824    5705.882353\n",
            "865825    5671.641791\n",
            "865826    6450.336283\n",
            "Name: cpi_psm, Length: 98805, dtype: float64\n"
          ]
        }
      ],
      "source": [
        "neg_test = y_test - y_pred\n",
        "print(neg_test)\n",
        "print(y_test)"
      ]
    },
    {
      "cell_type": "code",
      "execution_count": 24,
      "metadata": {},
      "outputs": [
        {
          "name": "stdout",
          "output_type": "stream",
          "text": [
            "[4220.58433354 6730.57478364 3662.90320747 ... 5696.57474255 4932.36101309\n",
            " 5192.18760655]\n"
          ]
        }
      ],
      "source": [
        "print(y_pred)"
      ]
    }
  ],
  "metadata": {
    "colab": {
      "collapsed_sections": [],
      "machine_shape": "hm",
      "provenance": []
    },
    "gpuClass": "premium",
    "kernelspec": {
      "display_name": "Python 3.10.6 64-bit",
      "language": "python",
      "name": "python3"
    },
    "language_info": {
      "codemirror_mode": {
        "name": "ipython",
        "version": 3
      },
      "file_extension": ".py",
      "mimetype": "text/x-python",
      "name": "python",
      "nbconvert_exporter": "python",
      "pygments_lexer": "ipython3",
      "version": "3.10.6"
    },
    "vscode": {
      "interpreter": {
        "hash": "aee8b7b246df8f9039afb4144a1f6fd8d2ca17a180786b69acc140d282b71a49"
      }
    }
  },
  "nbformat": 4,
  "nbformat_minor": 0
}
